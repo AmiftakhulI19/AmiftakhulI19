{
  "cells": [
    {
      "cell_type": "markdown",
      "metadata": {
        "id": "view-in-github",
        "colab_type": "text"
      },
      "source": [
        "<a href=\"https://colab.research.google.com/github/AmiftakhulI19/AmiftakhulI19/blob/main/Credit_Score_Analysis.ipynb\" target=\"_parent\"><img src=\"https://colab.research.google.com/assets/colab-badge.svg\" alt=\"Open In Colab\"/></a>"
      ]
    },
    {
      "cell_type": "markdown",
      "metadata": {
        "id": "yIDlzK7Vqm_E"
      },
      "source": [
        "# Credit Score Analysis\n",
        "## Data Preparation and Create the Model\n",
        "### Akhmad Miftakhul Ilmi - takhulilmi99@gmail.com"
      ]
    },
    {
      "cell_type": "markdown",
      "metadata": {
        "id": "c7oTM5zKvNTN"
      },
      "source": [
        "## Packages"
      ]
    },
    {
      "cell_type": "code",
      "execution_count": null,
      "metadata": {
        "id": "QfjTlRhTq8dW"
      },
      "outputs": [],
      "source": [
        "import pandas as pd\n",
        "import numpy as np\n",
        "import matplotlib.pyplot as plt\n",
        "import seaborn as sns\n",
        "import missingno as msno"
      ]
    },
    {
      "cell_type": "markdown",
      "metadata": {
        "id": "9t4j1ZX9v_vb"
      },
      "source": [
        "## Data Preparation"
      ]
    },
    {
      "cell_type": "markdown",
      "source": [
        "### Load and Check the Dataset"
      ],
      "metadata": {
        "id": "ipweeU3sE0-x"
      }
    },
    {
      "cell_type": "code",
      "execution_count": null,
      "metadata": {
        "colab": {
          "base_uri": "https://localhost:8080/"
        },
        "id": "jC_A0LRj5Kan",
        "outputId": "54985e73-dc2e-4806-dd5d-8540e3a8a107"
      },
      "outputs": [
        {
          "output_type": "stream",
          "name": "stdout",
          "text": [
            "Mounted at /content/drive\n"
          ]
        }
      ],
      "source": [
        "from google.colab import drive\n",
        "drive.mount('/content/drive')"
      ]
    },
    {
      "cell_type": "code",
      "execution_count": null,
      "metadata": {
        "id": "mbOzpfNvwDHj"
      },
      "outputs": [],
      "source": [
        "#Load Data\n",
        "application_m = pd.read_excel('/content/drive/My Drive/FP SI Celerates/Dataset/application_history_m.xlsx')\n",
        "application_f = pd.read_excel('/content/drive/My Drive/FP SI Celerates/Dataset/application_history_f.xlsx')"
      ]
    },
    {
      "cell_type": "code",
      "execution_count": null,
      "metadata": {
        "colab": {
          "base_uri": "https://localhost:8080/",
          "height": 357
        },
        "id": "B5-325Tk6ZZm",
        "outputId": "6a94444e-8a2e-43fe-c79a-deb9c372e7db"
      },
      "outputs": [
        {
          "output_type": "execute_result",
          "data": {
            "text/plain": [
              "   Id_customer         JK KepemilikanMobil KepemilikanProperti  JmlAnak  \\\n",
              "0      5008804  Laki-laki               Ya                  Ya        0   \n",
              "1      5008805  Laki-laki               Ya                  Ya        0   \n",
              "2      5008806  Laki-laki               Ya                  Ya        0   \n",
              "3      5008815  Laki-laki               Ya                  Ya        0   \n",
              "4      5112956  Laki-laki               Ya                  Ya        0   \n",
              "\n",
              "   Pendapatan TipePendapatan TingkatPendidikan StatusKeluarga TipeRumah  \\\n",
              "0    427500.0        Bekerja                PG              M        RA   \n",
              "1    427500.0        Bekerja                PG              M        RA   \n",
              "2    112500.0        Bekerja                 G              M        MH   \n",
              "3    270000.0        Bekerja                PG              M        MH   \n",
              "4    270000.0        Bekerja                PG              M        MH   \n",
              "\n",
              "   FlagMobile  FlagWorkPhone  FlagPhone  Email       Pekerjaan  \\\n",
              "0           1              1          0      0             NaN   \n",
              "1           1              1          0      0             NaN   \n",
              "2           1              0          0      0  Security staff   \n",
              "3           1              1          1      1     Accountants   \n",
              "4           1              1          1      1     Accountants   \n",
              "\n",
              "   JmlAnggotaKeluarga  Age  Experience  \n",
              "0                   2   33          12  \n",
              "1                   2   33          12  \n",
              "2                   2   59           3  \n",
              "3                   2   46           2  \n",
              "4                   2   46           2  "
            ],
            "text/html": [
              "\n",
              "  <div id=\"df-a9a66bfd-d028-4a41-aa92-9b2006438785\">\n",
              "    <div class=\"colab-df-container\">\n",
              "      <div>\n",
              "<style scoped>\n",
              "    .dataframe tbody tr th:only-of-type {\n",
              "        vertical-align: middle;\n",
              "    }\n",
              "\n",
              "    .dataframe tbody tr th {\n",
              "        vertical-align: top;\n",
              "    }\n",
              "\n",
              "    .dataframe thead th {\n",
              "        text-align: right;\n",
              "    }\n",
              "</style>\n",
              "<table border=\"1\" class=\"dataframe\">\n",
              "  <thead>\n",
              "    <tr style=\"text-align: right;\">\n",
              "      <th></th>\n",
              "      <th>Id_customer</th>\n",
              "      <th>JK</th>\n",
              "      <th>KepemilikanMobil</th>\n",
              "      <th>KepemilikanProperti</th>\n",
              "      <th>JmlAnak</th>\n",
              "      <th>Pendapatan</th>\n",
              "      <th>TipePendapatan</th>\n",
              "      <th>TingkatPendidikan</th>\n",
              "      <th>StatusKeluarga</th>\n",
              "      <th>TipeRumah</th>\n",
              "      <th>FlagMobile</th>\n",
              "      <th>FlagWorkPhone</th>\n",
              "      <th>FlagPhone</th>\n",
              "      <th>Email</th>\n",
              "      <th>Pekerjaan</th>\n",
              "      <th>JmlAnggotaKeluarga</th>\n",
              "      <th>Age</th>\n",
              "      <th>Experience</th>\n",
              "    </tr>\n",
              "  </thead>\n",
              "  <tbody>\n",
              "    <tr>\n",
              "      <th>0</th>\n",
              "      <td>5008804</td>\n",
              "      <td>Laki-laki</td>\n",
              "      <td>Ya</td>\n",
              "      <td>Ya</td>\n",
              "      <td>0</td>\n",
              "      <td>427500.0</td>\n",
              "      <td>Bekerja</td>\n",
              "      <td>PG</td>\n",
              "      <td>M</td>\n",
              "      <td>RA</td>\n",
              "      <td>1</td>\n",
              "      <td>1</td>\n",
              "      <td>0</td>\n",
              "      <td>0</td>\n",
              "      <td>NaN</td>\n",
              "      <td>2</td>\n",
              "      <td>33</td>\n",
              "      <td>12</td>\n",
              "    </tr>\n",
              "    <tr>\n",
              "      <th>1</th>\n",
              "      <td>5008805</td>\n",
              "      <td>Laki-laki</td>\n",
              "      <td>Ya</td>\n",
              "      <td>Ya</td>\n",
              "      <td>0</td>\n",
              "      <td>427500.0</td>\n",
              "      <td>Bekerja</td>\n",
              "      <td>PG</td>\n",
              "      <td>M</td>\n",
              "      <td>RA</td>\n",
              "      <td>1</td>\n",
              "      <td>1</td>\n",
              "      <td>0</td>\n",
              "      <td>0</td>\n",
              "      <td>NaN</td>\n",
              "      <td>2</td>\n",
              "      <td>33</td>\n",
              "      <td>12</td>\n",
              "    </tr>\n",
              "    <tr>\n",
              "      <th>2</th>\n",
              "      <td>5008806</td>\n",
              "      <td>Laki-laki</td>\n",
              "      <td>Ya</td>\n",
              "      <td>Ya</td>\n",
              "      <td>0</td>\n",
              "      <td>112500.0</td>\n",
              "      <td>Bekerja</td>\n",
              "      <td>G</td>\n",
              "      <td>M</td>\n",
              "      <td>MH</td>\n",
              "      <td>1</td>\n",
              "      <td>0</td>\n",
              "      <td>0</td>\n",
              "      <td>0</td>\n",
              "      <td>Security staff</td>\n",
              "      <td>2</td>\n",
              "      <td>59</td>\n",
              "      <td>3</td>\n",
              "    </tr>\n",
              "    <tr>\n",
              "      <th>3</th>\n",
              "      <td>5008815</td>\n",
              "      <td>Laki-laki</td>\n",
              "      <td>Ya</td>\n",
              "      <td>Ya</td>\n",
              "      <td>0</td>\n",
              "      <td>270000.0</td>\n",
              "      <td>Bekerja</td>\n",
              "      <td>PG</td>\n",
              "      <td>M</td>\n",
              "      <td>MH</td>\n",
              "      <td>1</td>\n",
              "      <td>1</td>\n",
              "      <td>1</td>\n",
              "      <td>1</td>\n",
              "      <td>Accountants</td>\n",
              "      <td>2</td>\n",
              "      <td>46</td>\n",
              "      <td>2</td>\n",
              "    </tr>\n",
              "    <tr>\n",
              "      <th>4</th>\n",
              "      <td>5112956</td>\n",
              "      <td>Laki-laki</td>\n",
              "      <td>Ya</td>\n",
              "      <td>Ya</td>\n",
              "      <td>0</td>\n",
              "      <td>270000.0</td>\n",
              "      <td>Bekerja</td>\n",
              "      <td>PG</td>\n",
              "      <td>M</td>\n",
              "      <td>MH</td>\n",
              "      <td>1</td>\n",
              "      <td>1</td>\n",
              "      <td>1</td>\n",
              "      <td>1</td>\n",
              "      <td>Accountants</td>\n",
              "      <td>2</td>\n",
              "      <td>46</td>\n",
              "      <td>2</td>\n",
              "    </tr>\n",
              "  </tbody>\n",
              "</table>\n",
              "</div>\n",
              "      <button class=\"colab-df-convert\" onclick=\"convertToInteractive('df-a9a66bfd-d028-4a41-aa92-9b2006438785')\"\n",
              "              title=\"Convert this dataframe to an interactive table.\"\n",
              "              style=\"display:none;\">\n",
              "        \n",
              "  <svg xmlns=\"http://www.w3.org/2000/svg\" height=\"24px\"viewBox=\"0 0 24 24\"\n",
              "       width=\"24px\">\n",
              "    <path d=\"M0 0h24v24H0V0z\" fill=\"none\"/>\n",
              "    <path d=\"M18.56 5.44l.94 2.06.94-2.06 2.06-.94-2.06-.94-.94-2.06-.94 2.06-2.06.94zm-11 1L8.5 8.5l.94-2.06 2.06-.94-2.06-.94L8.5 2.5l-.94 2.06-2.06.94zm10 10l.94 2.06.94-2.06 2.06-.94-2.06-.94-.94-2.06-.94 2.06-2.06.94z\"/><path d=\"M17.41 7.96l-1.37-1.37c-.4-.4-.92-.59-1.43-.59-.52 0-1.04.2-1.43.59L10.3 9.45l-7.72 7.72c-.78.78-.78 2.05 0 2.83L4 21.41c.39.39.9.59 1.41.59.51 0 1.02-.2 1.41-.59l7.78-7.78 2.81-2.81c.8-.78.8-2.07 0-2.86zM5.41 20L4 18.59l7.72-7.72 1.47 1.35L5.41 20z\"/>\n",
              "  </svg>\n",
              "      </button>\n",
              "      \n",
              "  <style>\n",
              "    .colab-df-container {\n",
              "      display:flex;\n",
              "      flex-wrap:wrap;\n",
              "      gap: 12px;\n",
              "    }\n",
              "\n",
              "    .colab-df-convert {\n",
              "      background-color: #E8F0FE;\n",
              "      border: none;\n",
              "      border-radius: 50%;\n",
              "      cursor: pointer;\n",
              "      display: none;\n",
              "      fill: #1967D2;\n",
              "      height: 32px;\n",
              "      padding: 0 0 0 0;\n",
              "      width: 32px;\n",
              "    }\n",
              "\n",
              "    .colab-df-convert:hover {\n",
              "      background-color: #E2EBFA;\n",
              "      box-shadow: 0px 1px 2px rgba(60, 64, 67, 0.3), 0px 1px 3px 1px rgba(60, 64, 67, 0.15);\n",
              "      fill: #174EA6;\n",
              "    }\n",
              "\n",
              "    [theme=dark] .colab-df-convert {\n",
              "      background-color: #3B4455;\n",
              "      fill: #D2E3FC;\n",
              "    }\n",
              "\n",
              "    [theme=dark] .colab-df-convert:hover {\n",
              "      background-color: #434B5C;\n",
              "      box-shadow: 0px 1px 3px 1px rgba(0, 0, 0, 0.15);\n",
              "      filter: drop-shadow(0px 1px 2px rgba(0, 0, 0, 0.3));\n",
              "      fill: #FFFFFF;\n",
              "    }\n",
              "  </style>\n",
              "\n",
              "      <script>\n",
              "        const buttonEl =\n",
              "          document.querySelector('#df-a9a66bfd-d028-4a41-aa92-9b2006438785 button.colab-df-convert');\n",
              "        buttonEl.style.display =\n",
              "          google.colab.kernel.accessAllowed ? 'block' : 'none';\n",
              "\n",
              "        async function convertToInteractive(key) {\n",
              "          const element = document.querySelector('#df-a9a66bfd-d028-4a41-aa92-9b2006438785');\n",
              "          const dataTable =\n",
              "            await google.colab.kernel.invokeFunction('convertToInteractive',\n",
              "                                                     [key], {});\n",
              "          if (!dataTable) return;\n",
              "\n",
              "          const docLinkHtml = 'Like what you see? Visit the ' +\n",
              "            '<a target=\"_blank\" href=https://colab.research.google.com/notebooks/data_table.ipynb>data table notebook</a>'\n",
              "            + ' to learn more about interactive tables.';\n",
              "          element.innerHTML = '';\n",
              "          dataTable['output_type'] = 'display_data';\n",
              "          await google.colab.output.renderOutput(dataTable, element);\n",
              "          const docLink = document.createElement('div');\n",
              "          docLink.innerHTML = docLinkHtml;\n",
              "          element.appendChild(docLink);\n",
              "        }\n",
              "      </script>\n",
              "    </div>\n",
              "  </div>\n",
              "  "
            ]
          },
          "metadata": {},
          "execution_count": 4
        }
      ],
      "source": [
        "application_m.head()"
      ]
    },
    {
      "cell_type": "code",
      "execution_count": null,
      "metadata": {
        "colab": {
          "base_uri": "https://localhost:8080/",
          "height": 339
        },
        "id": "BZB9gpDL6wmT",
        "outputId": "397c9965-4320-4944-be43-d0d5c7238415"
      },
      "outputs": [
        {
          "output_type": "execute_result",
          "data": {
            "text/plain": [
              "   Id_customer         JK KepemilikanMobil KepemilikanProperti  JmlAnak  \\\n",
              "0      5008808  Perempuan            Tidak                  Ya        0   \n",
              "1      5008809  Perempuan            Tidak                  Ya        0   \n",
              "2      5008810  Perempuan            Tidak                  Ya        0   \n",
              "3      5008811  Perempuan            Tidak                  Ya        0   \n",
              "4      5008812  Perempuan            Tidak                  Ya        0   \n",
              "\n",
              "   Pendapatan      TipePendapatan TingkatPendidikan StatusKeluarga TipeRumah  \\\n",
              "0    270000.0  Asosiasi komersial                 G             NM        MH   \n",
              "1    270000.0  Asosiasi komersial                 G             NM        MH   \n",
              "2    270000.0  Asosiasi komersial                 G             NM        MH   \n",
              "3    270000.0  Asosiasi komersial                 G             NM        MH   \n",
              "4    283500.0           Pensioner                PG              D        MH   \n",
              "\n",
              "   FlagMobile  FlagWorkPhone  FlagPhone  Email    Pekerjaan  \\\n",
              "0           1              0          1      1  Sales staff   \n",
              "1           1              0          1      1  Sales staff   \n",
              "2           1              0          1      1  Sales staff   \n",
              "3           1              0          1      1  Sales staff   \n",
              "4           1              0          0      0          NaN   \n",
              "\n",
              "   JmlAnggotaKeluarga  Age  Experience  \n",
              "0                   1   52           8  \n",
              "1                   1   52           8  \n",
              "2                   1   52           8  \n",
              "3                   1   52           8  \n",
              "4                   1   62        1001  "
            ],
            "text/html": [
              "\n",
              "  <div id=\"df-0efa7d1f-2601-49b0-9413-24759acb575c\">\n",
              "    <div class=\"colab-df-container\">\n",
              "      <div>\n",
              "<style scoped>\n",
              "    .dataframe tbody tr th:only-of-type {\n",
              "        vertical-align: middle;\n",
              "    }\n",
              "\n",
              "    .dataframe tbody tr th {\n",
              "        vertical-align: top;\n",
              "    }\n",
              "\n",
              "    .dataframe thead th {\n",
              "        text-align: right;\n",
              "    }\n",
              "</style>\n",
              "<table border=\"1\" class=\"dataframe\">\n",
              "  <thead>\n",
              "    <tr style=\"text-align: right;\">\n",
              "      <th></th>\n",
              "      <th>Id_customer</th>\n",
              "      <th>JK</th>\n",
              "      <th>KepemilikanMobil</th>\n",
              "      <th>KepemilikanProperti</th>\n",
              "      <th>JmlAnak</th>\n",
              "      <th>Pendapatan</th>\n",
              "      <th>TipePendapatan</th>\n",
              "      <th>TingkatPendidikan</th>\n",
              "      <th>StatusKeluarga</th>\n",
              "      <th>TipeRumah</th>\n",
              "      <th>FlagMobile</th>\n",
              "      <th>FlagWorkPhone</th>\n",
              "      <th>FlagPhone</th>\n",
              "      <th>Email</th>\n",
              "      <th>Pekerjaan</th>\n",
              "      <th>JmlAnggotaKeluarga</th>\n",
              "      <th>Age</th>\n",
              "      <th>Experience</th>\n",
              "    </tr>\n",
              "  </thead>\n",
              "  <tbody>\n",
              "    <tr>\n",
              "      <th>0</th>\n",
              "      <td>5008808</td>\n",
              "      <td>Perempuan</td>\n",
              "      <td>Tidak</td>\n",
              "      <td>Ya</td>\n",
              "      <td>0</td>\n",
              "      <td>270000.0</td>\n",
              "      <td>Asosiasi komersial</td>\n",
              "      <td>G</td>\n",
              "      <td>NM</td>\n",
              "      <td>MH</td>\n",
              "      <td>1</td>\n",
              "      <td>0</td>\n",
              "      <td>1</td>\n",
              "      <td>1</td>\n",
              "      <td>Sales staff</td>\n",
              "      <td>1</td>\n",
              "      <td>52</td>\n",
              "      <td>8</td>\n",
              "    </tr>\n",
              "    <tr>\n",
              "      <th>1</th>\n",
              "      <td>5008809</td>\n",
              "      <td>Perempuan</td>\n",
              "      <td>Tidak</td>\n",
              "      <td>Ya</td>\n",
              "      <td>0</td>\n",
              "      <td>270000.0</td>\n",
              "      <td>Asosiasi komersial</td>\n",
              "      <td>G</td>\n",
              "      <td>NM</td>\n",
              "      <td>MH</td>\n",
              "      <td>1</td>\n",
              "      <td>0</td>\n",
              "      <td>1</td>\n",
              "      <td>1</td>\n",
              "      <td>Sales staff</td>\n",
              "      <td>1</td>\n",
              "      <td>52</td>\n",
              "      <td>8</td>\n",
              "    </tr>\n",
              "    <tr>\n",
              "      <th>2</th>\n",
              "      <td>5008810</td>\n",
              "      <td>Perempuan</td>\n",
              "      <td>Tidak</td>\n",
              "      <td>Ya</td>\n",
              "      <td>0</td>\n",
              "      <td>270000.0</td>\n",
              "      <td>Asosiasi komersial</td>\n",
              "      <td>G</td>\n",
              "      <td>NM</td>\n",
              "      <td>MH</td>\n",
              "      <td>1</td>\n",
              "      <td>0</td>\n",
              "      <td>1</td>\n",
              "      <td>1</td>\n",
              "      <td>Sales staff</td>\n",
              "      <td>1</td>\n",
              "      <td>52</td>\n",
              "      <td>8</td>\n",
              "    </tr>\n",
              "    <tr>\n",
              "      <th>3</th>\n",
              "      <td>5008811</td>\n",
              "      <td>Perempuan</td>\n",
              "      <td>Tidak</td>\n",
              "      <td>Ya</td>\n",
              "      <td>0</td>\n",
              "      <td>270000.0</td>\n",
              "      <td>Asosiasi komersial</td>\n",
              "      <td>G</td>\n",
              "      <td>NM</td>\n",
              "      <td>MH</td>\n",
              "      <td>1</td>\n",
              "      <td>0</td>\n",
              "      <td>1</td>\n",
              "      <td>1</td>\n",
              "      <td>Sales staff</td>\n",
              "      <td>1</td>\n",
              "      <td>52</td>\n",
              "      <td>8</td>\n",
              "    </tr>\n",
              "    <tr>\n",
              "      <th>4</th>\n",
              "      <td>5008812</td>\n",
              "      <td>Perempuan</td>\n",
              "      <td>Tidak</td>\n",
              "      <td>Ya</td>\n",
              "      <td>0</td>\n",
              "      <td>283500.0</td>\n",
              "      <td>Pensioner</td>\n",
              "      <td>PG</td>\n",
              "      <td>D</td>\n",
              "      <td>MH</td>\n",
              "      <td>1</td>\n",
              "      <td>0</td>\n",
              "      <td>0</td>\n",
              "      <td>0</td>\n",
              "      <td>NaN</td>\n",
              "      <td>1</td>\n",
              "      <td>62</td>\n",
              "      <td>1001</td>\n",
              "    </tr>\n",
              "  </tbody>\n",
              "</table>\n",
              "</div>\n",
              "      <button class=\"colab-df-convert\" onclick=\"convertToInteractive('df-0efa7d1f-2601-49b0-9413-24759acb575c')\"\n",
              "              title=\"Convert this dataframe to an interactive table.\"\n",
              "              style=\"display:none;\">\n",
              "        \n",
              "  <svg xmlns=\"http://www.w3.org/2000/svg\" height=\"24px\"viewBox=\"0 0 24 24\"\n",
              "       width=\"24px\">\n",
              "    <path d=\"M0 0h24v24H0V0z\" fill=\"none\"/>\n",
              "    <path d=\"M18.56 5.44l.94 2.06.94-2.06 2.06-.94-2.06-.94-.94-2.06-.94 2.06-2.06.94zm-11 1L8.5 8.5l.94-2.06 2.06-.94-2.06-.94L8.5 2.5l-.94 2.06-2.06.94zm10 10l.94 2.06.94-2.06 2.06-.94-2.06-.94-.94-2.06-.94 2.06-2.06.94z\"/><path d=\"M17.41 7.96l-1.37-1.37c-.4-.4-.92-.59-1.43-.59-.52 0-1.04.2-1.43.59L10.3 9.45l-7.72 7.72c-.78.78-.78 2.05 0 2.83L4 21.41c.39.39.9.59 1.41.59.51 0 1.02-.2 1.41-.59l7.78-7.78 2.81-2.81c.8-.78.8-2.07 0-2.86zM5.41 20L4 18.59l7.72-7.72 1.47 1.35L5.41 20z\"/>\n",
              "  </svg>\n",
              "      </button>\n",
              "      \n",
              "  <style>\n",
              "    .colab-df-container {\n",
              "      display:flex;\n",
              "      flex-wrap:wrap;\n",
              "      gap: 12px;\n",
              "    }\n",
              "\n",
              "    .colab-df-convert {\n",
              "      background-color: #E8F0FE;\n",
              "      border: none;\n",
              "      border-radius: 50%;\n",
              "      cursor: pointer;\n",
              "      display: none;\n",
              "      fill: #1967D2;\n",
              "      height: 32px;\n",
              "      padding: 0 0 0 0;\n",
              "      width: 32px;\n",
              "    }\n",
              "\n",
              "    .colab-df-convert:hover {\n",
              "      background-color: #E2EBFA;\n",
              "      box-shadow: 0px 1px 2px rgba(60, 64, 67, 0.3), 0px 1px 3px 1px rgba(60, 64, 67, 0.15);\n",
              "      fill: #174EA6;\n",
              "    }\n",
              "\n",
              "    [theme=dark] .colab-df-convert {\n",
              "      background-color: #3B4455;\n",
              "      fill: #D2E3FC;\n",
              "    }\n",
              "\n",
              "    [theme=dark] .colab-df-convert:hover {\n",
              "      background-color: #434B5C;\n",
              "      box-shadow: 0px 1px 3px 1px rgba(0, 0, 0, 0.15);\n",
              "      filter: drop-shadow(0px 1px 2px rgba(0, 0, 0, 0.3));\n",
              "      fill: #FFFFFF;\n",
              "    }\n",
              "  </style>\n",
              "\n",
              "      <script>\n",
              "        const buttonEl =\n",
              "          document.querySelector('#df-0efa7d1f-2601-49b0-9413-24759acb575c button.colab-df-convert');\n",
              "        buttonEl.style.display =\n",
              "          google.colab.kernel.accessAllowed ? 'block' : 'none';\n",
              "\n",
              "        async function convertToInteractive(key) {\n",
              "          const element = document.querySelector('#df-0efa7d1f-2601-49b0-9413-24759acb575c');\n",
              "          const dataTable =\n",
              "            await google.colab.kernel.invokeFunction('convertToInteractive',\n",
              "                                                     [key], {});\n",
              "          if (!dataTable) return;\n",
              "\n",
              "          const docLinkHtml = 'Like what you see? Visit the ' +\n",
              "            '<a target=\"_blank\" href=https://colab.research.google.com/notebooks/data_table.ipynb>data table notebook</a>'\n",
              "            + ' to learn more about interactive tables.';\n",
              "          element.innerHTML = '';\n",
              "          dataTable['output_type'] = 'display_data';\n",
              "          await google.colab.output.renderOutput(dataTable, element);\n",
              "          const docLink = document.createElement('div');\n",
              "          docLink.innerHTML = docLinkHtml;\n",
              "          element.appendChild(docLink);\n",
              "        }\n",
              "      </script>\n",
              "    </div>\n",
              "  </div>\n",
              "  "
            ]
          },
          "metadata": {},
          "execution_count": 5
        }
      ],
      "source": [
        "application_f.head()"
      ]
    },
    {
      "cell_type": "code",
      "execution_count": null,
      "metadata": {
        "colab": {
          "base_uri": "https://localhost:8080/"
        },
        "id": "uAz4GVGt67vl",
        "outputId": "4fe9008f-8e95-41bd-e7b7-99d78605ff56"
      },
      "outputs": [
        {
          "output_type": "execute_result",
          "data": {
            "text/plain": [
              "(144096, 18)"
            ]
          },
          "metadata": {},
          "execution_count": 6
        }
      ],
      "source": [
        "application_m.shape"
      ]
    },
    {
      "cell_type": "code",
      "execution_count": null,
      "metadata": {
        "colab": {
          "base_uri": "https://localhost:8080/"
        },
        "id": "yzV6xMhg6-iy",
        "outputId": "d6a9429f-31e8-4b45-b8e2-d192f4162e86"
      },
      "outputs": [
        {
          "output_type": "execute_result",
          "data": {
            "text/plain": [
              "(294360, 18)"
            ]
          },
          "metadata": {},
          "execution_count": 7
        }
      ],
      "source": [
        "application_f.shape"
      ]
    },
    {
      "cell_type": "code",
      "execution_count": null,
      "metadata": {
        "colab": {
          "base_uri": "https://localhost:8080/"
        },
        "id": "fvBOq9GV7Cc5",
        "outputId": "a0635643-743e-42a8-f62a-beb77b55cad5"
      },
      "outputs": [
        {
          "output_type": "execute_result",
          "data": {
            "text/plain": [
              "(438456, 18)"
            ]
          },
          "metadata": {},
          "execution_count": 8
        }
      ],
      "source": [
        "application_all = pd.merge(application_m, application_f, how=\"outer\")\n",
        "application_all.shape"
      ]
    },
    {
      "cell_type": "code",
      "source": [
        "application_all"
      ],
      "metadata": {
        "colab": {
          "base_uri": "https://localhost:8080/",
          "height": 522
        },
        "id": "w0TDrnahNTav",
        "outputId": "164eba1e-7583-4355-e016-a3f592d596bb"
      },
      "execution_count": null,
      "outputs": [
        {
          "output_type": "execute_result",
          "data": {
            "text/plain": [
              "        Id_customer         JK KepemilikanMobil KepemilikanProperti  JmlAnak  \\\n",
              "0           5008804  Laki-laki               Ya                  Ya        0   \n",
              "1           5008805  Laki-laki               Ya                  Ya        0   \n",
              "2           5008805  Laki-laki               Ya                  Ya        0   \n",
              "3           5008806  Laki-laki               Ya                  Ya        0   \n",
              "4           5008815  Laki-laki               Ya                  Ya        0   \n",
              "...             ...        ...              ...                 ...      ...   \n",
              "438451      6840102  Perempuan            Tidak                  Ya        0   \n",
              "438452      6840222  Perempuan            Tidak               Tidak        0   \n",
              "438453      6841878  Perempuan            Tidak               Tidak        0   \n",
              "438454      6842765  Perempuan            Tidak                  Ya        0   \n",
              "438455      6842885  Perempuan            Tidak                  Ya        0   \n",
              "\n",
              "        Pendapatan      TipePendapatan TingkatPendidikan StatusKeluarga  \\\n",
              "0         427500.0             Bekerja                PG              M   \n",
              "1         427500.0             Bekerja                PG              M   \n",
              "2         427500.0             Bekerja                PG              M   \n",
              "3         112500.0             Bekerja                 G              M   \n",
              "4         270000.0             Bekerja                PG              M   \n",
              "...            ...                 ...               ...            ...   \n",
              "438451    135000.0           Pensioner                 G              D   \n",
              "438452    103500.0             Bekerja                 G             NM   \n",
              "438453     54000.0  Asosiasi komersial                PG             NM   \n",
              "438454     72000.0           Pensioner                 G              M   \n",
              "438455    121500.0             Bekerja                 G              M   \n",
              "\n",
              "       TipeRumah  FlagMobile  FlagWorkPhone  FlagPhone  Email       Pekerjaan  \\\n",
              "0             RA           1              1          0      0             NaN   \n",
              "1             RA           1              1          0      0             NaN   \n",
              "2             RA           1              1          0      0             NaN   \n",
              "3             MH           1              0          0      0  Security staff   \n",
              "4             MH           1              1          1      1     Accountants   \n",
              "...          ...         ...            ...        ...    ...             ...   \n",
              "438451        MH           1              0          0      0             NaN   \n",
              "438452        MH           1              0          0      0        Laborers   \n",
              "438453        PH           1              1          0      0     Sales staff   \n",
              "438454        MH           1              0          0      0             NaN   \n",
              "438455        MH           1              0          1      0     Sales staff   \n",
              "\n",
              "        JmlAnggotaKeluarga  Age  Experience  \n",
              "0                        2   33          12  \n",
              "1                        2   33          12  \n",
              "2                        2   33          12  \n",
              "3                        2   59           3  \n",
              "4                        2   46           2  \n",
              "...                    ...  ...         ...  \n",
              "438451                   1   62        1001  \n",
              "438452                   1   44           8  \n",
              "438453                   1   22           1  \n",
              "438454                   2   59        1001  \n",
              "438455                   2   52           3  \n",
              "\n",
              "[438456 rows x 18 columns]"
            ],
            "text/html": [
              "\n",
              "  <div id=\"df-ecf2fcd9-27b4-497a-92cb-883690a97f69\">\n",
              "    <div class=\"colab-df-container\">\n",
              "      <div>\n",
              "<style scoped>\n",
              "    .dataframe tbody tr th:only-of-type {\n",
              "        vertical-align: middle;\n",
              "    }\n",
              "\n",
              "    .dataframe tbody tr th {\n",
              "        vertical-align: top;\n",
              "    }\n",
              "\n",
              "    .dataframe thead th {\n",
              "        text-align: right;\n",
              "    }\n",
              "</style>\n",
              "<table border=\"1\" class=\"dataframe\">\n",
              "  <thead>\n",
              "    <tr style=\"text-align: right;\">\n",
              "      <th></th>\n",
              "      <th>Id_customer</th>\n",
              "      <th>JK</th>\n",
              "      <th>KepemilikanMobil</th>\n",
              "      <th>KepemilikanProperti</th>\n",
              "      <th>JmlAnak</th>\n",
              "      <th>Pendapatan</th>\n",
              "      <th>TipePendapatan</th>\n",
              "      <th>TingkatPendidikan</th>\n",
              "      <th>StatusKeluarga</th>\n",
              "      <th>TipeRumah</th>\n",
              "      <th>FlagMobile</th>\n",
              "      <th>FlagWorkPhone</th>\n",
              "      <th>FlagPhone</th>\n",
              "      <th>Email</th>\n",
              "      <th>Pekerjaan</th>\n",
              "      <th>JmlAnggotaKeluarga</th>\n",
              "      <th>Age</th>\n",
              "      <th>Experience</th>\n",
              "    </tr>\n",
              "  </thead>\n",
              "  <tbody>\n",
              "    <tr>\n",
              "      <th>0</th>\n",
              "      <td>5008804</td>\n",
              "      <td>Laki-laki</td>\n",
              "      <td>Ya</td>\n",
              "      <td>Ya</td>\n",
              "      <td>0</td>\n",
              "      <td>427500.0</td>\n",
              "      <td>Bekerja</td>\n",
              "      <td>PG</td>\n",
              "      <td>M</td>\n",
              "      <td>RA</td>\n",
              "      <td>1</td>\n",
              "      <td>1</td>\n",
              "      <td>0</td>\n",
              "      <td>0</td>\n",
              "      <td>NaN</td>\n",
              "      <td>2</td>\n",
              "      <td>33</td>\n",
              "      <td>12</td>\n",
              "    </tr>\n",
              "    <tr>\n",
              "      <th>1</th>\n",
              "      <td>5008805</td>\n",
              "      <td>Laki-laki</td>\n",
              "      <td>Ya</td>\n",
              "      <td>Ya</td>\n",
              "      <td>0</td>\n",
              "      <td>427500.0</td>\n",
              "      <td>Bekerja</td>\n",
              "      <td>PG</td>\n",
              "      <td>M</td>\n",
              "      <td>RA</td>\n",
              "      <td>1</td>\n",
              "      <td>1</td>\n",
              "      <td>0</td>\n",
              "      <td>0</td>\n",
              "      <td>NaN</td>\n",
              "      <td>2</td>\n",
              "      <td>33</td>\n",
              "      <td>12</td>\n",
              "    </tr>\n",
              "    <tr>\n",
              "      <th>2</th>\n",
              "      <td>5008805</td>\n",
              "      <td>Laki-laki</td>\n",
              "      <td>Ya</td>\n",
              "      <td>Ya</td>\n",
              "      <td>0</td>\n",
              "      <td>427500.0</td>\n",
              "      <td>Bekerja</td>\n",
              "      <td>PG</td>\n",
              "      <td>M</td>\n",
              "      <td>RA</td>\n",
              "      <td>1</td>\n",
              "      <td>1</td>\n",
              "      <td>0</td>\n",
              "      <td>0</td>\n",
              "      <td>NaN</td>\n",
              "      <td>2</td>\n",
              "      <td>33</td>\n",
              "      <td>12</td>\n",
              "    </tr>\n",
              "    <tr>\n",
              "      <th>3</th>\n",
              "      <td>5008806</td>\n",
              "      <td>Laki-laki</td>\n",
              "      <td>Ya</td>\n",
              "      <td>Ya</td>\n",
              "      <td>0</td>\n",
              "      <td>112500.0</td>\n",
              "      <td>Bekerja</td>\n",
              "      <td>G</td>\n",
              "      <td>M</td>\n",
              "      <td>MH</td>\n",
              "      <td>1</td>\n",
              "      <td>0</td>\n",
              "      <td>0</td>\n",
              "      <td>0</td>\n",
              "      <td>Security staff</td>\n",
              "      <td>2</td>\n",
              "      <td>59</td>\n",
              "      <td>3</td>\n",
              "    </tr>\n",
              "    <tr>\n",
              "      <th>4</th>\n",
              "      <td>5008815</td>\n",
              "      <td>Laki-laki</td>\n",
              "      <td>Ya</td>\n",
              "      <td>Ya</td>\n",
              "      <td>0</td>\n",
              "      <td>270000.0</td>\n",
              "      <td>Bekerja</td>\n",
              "      <td>PG</td>\n",
              "      <td>M</td>\n",
              "      <td>MH</td>\n",
              "      <td>1</td>\n",
              "      <td>1</td>\n",
              "      <td>1</td>\n",
              "      <td>1</td>\n",
              "      <td>Accountants</td>\n",
              "      <td>2</td>\n",
              "      <td>46</td>\n",
              "      <td>2</td>\n",
              "    </tr>\n",
              "    <tr>\n",
              "      <th>...</th>\n",
              "      <td>...</td>\n",
              "      <td>...</td>\n",
              "      <td>...</td>\n",
              "      <td>...</td>\n",
              "      <td>...</td>\n",
              "      <td>...</td>\n",
              "      <td>...</td>\n",
              "      <td>...</td>\n",
              "      <td>...</td>\n",
              "      <td>...</td>\n",
              "      <td>...</td>\n",
              "      <td>...</td>\n",
              "      <td>...</td>\n",
              "      <td>...</td>\n",
              "      <td>...</td>\n",
              "      <td>...</td>\n",
              "      <td>...</td>\n",
              "      <td>...</td>\n",
              "    </tr>\n",
              "    <tr>\n",
              "      <th>438451</th>\n",
              "      <td>6840102</td>\n",
              "      <td>Perempuan</td>\n",
              "      <td>Tidak</td>\n",
              "      <td>Ya</td>\n",
              "      <td>0</td>\n",
              "      <td>135000.0</td>\n",
              "      <td>Pensioner</td>\n",
              "      <td>G</td>\n",
              "      <td>D</td>\n",
              "      <td>MH</td>\n",
              "      <td>1</td>\n",
              "      <td>0</td>\n",
              "      <td>0</td>\n",
              "      <td>0</td>\n",
              "      <td>NaN</td>\n",
              "      <td>1</td>\n",
              "      <td>62</td>\n",
              "      <td>1001</td>\n",
              "    </tr>\n",
              "    <tr>\n",
              "      <th>438452</th>\n",
              "      <td>6840222</td>\n",
              "      <td>Perempuan</td>\n",
              "      <td>Tidak</td>\n",
              "      <td>Tidak</td>\n",
              "      <td>0</td>\n",
              "      <td>103500.0</td>\n",
              "      <td>Bekerja</td>\n",
              "      <td>G</td>\n",
              "      <td>NM</td>\n",
              "      <td>MH</td>\n",
              "      <td>1</td>\n",
              "      <td>0</td>\n",
              "      <td>0</td>\n",
              "      <td>0</td>\n",
              "      <td>Laborers</td>\n",
              "      <td>1</td>\n",
              "      <td>44</td>\n",
              "      <td>8</td>\n",
              "    </tr>\n",
              "    <tr>\n",
              "      <th>438453</th>\n",
              "      <td>6841878</td>\n",
              "      <td>Perempuan</td>\n",
              "      <td>Tidak</td>\n",
              "      <td>Tidak</td>\n",
              "      <td>0</td>\n",
              "      <td>54000.0</td>\n",
              "      <td>Asosiasi komersial</td>\n",
              "      <td>PG</td>\n",
              "      <td>NM</td>\n",
              "      <td>PH</td>\n",
              "      <td>1</td>\n",
              "      <td>1</td>\n",
              "      <td>0</td>\n",
              "      <td>0</td>\n",
              "      <td>Sales staff</td>\n",
              "      <td>1</td>\n",
              "      <td>22</td>\n",
              "      <td>1</td>\n",
              "    </tr>\n",
              "    <tr>\n",
              "      <th>438454</th>\n",
              "      <td>6842765</td>\n",
              "      <td>Perempuan</td>\n",
              "      <td>Tidak</td>\n",
              "      <td>Ya</td>\n",
              "      <td>0</td>\n",
              "      <td>72000.0</td>\n",
              "      <td>Pensioner</td>\n",
              "      <td>G</td>\n",
              "      <td>M</td>\n",
              "      <td>MH</td>\n",
              "      <td>1</td>\n",
              "      <td>0</td>\n",
              "      <td>0</td>\n",
              "      <td>0</td>\n",
              "      <td>NaN</td>\n",
              "      <td>2</td>\n",
              "      <td>59</td>\n",
              "      <td>1001</td>\n",
              "    </tr>\n",
              "    <tr>\n",
              "      <th>438455</th>\n",
              "      <td>6842885</td>\n",
              "      <td>Perempuan</td>\n",
              "      <td>Tidak</td>\n",
              "      <td>Ya</td>\n",
              "      <td>0</td>\n",
              "      <td>121500.0</td>\n",
              "      <td>Bekerja</td>\n",
              "      <td>G</td>\n",
              "      <td>M</td>\n",
              "      <td>MH</td>\n",
              "      <td>1</td>\n",
              "      <td>0</td>\n",
              "      <td>1</td>\n",
              "      <td>0</td>\n",
              "      <td>Sales staff</td>\n",
              "      <td>2</td>\n",
              "      <td>52</td>\n",
              "      <td>3</td>\n",
              "    </tr>\n",
              "  </tbody>\n",
              "</table>\n",
              "<p>438456 rows × 18 columns</p>\n",
              "</div>\n",
              "      <button class=\"colab-df-convert\" onclick=\"convertToInteractive('df-ecf2fcd9-27b4-497a-92cb-883690a97f69')\"\n",
              "              title=\"Convert this dataframe to an interactive table.\"\n",
              "              style=\"display:none;\">\n",
              "        \n",
              "  <svg xmlns=\"http://www.w3.org/2000/svg\" height=\"24px\"viewBox=\"0 0 24 24\"\n",
              "       width=\"24px\">\n",
              "    <path d=\"M0 0h24v24H0V0z\" fill=\"none\"/>\n",
              "    <path d=\"M18.56 5.44l.94 2.06.94-2.06 2.06-.94-2.06-.94-.94-2.06-.94 2.06-2.06.94zm-11 1L8.5 8.5l.94-2.06 2.06-.94-2.06-.94L8.5 2.5l-.94 2.06-2.06.94zm10 10l.94 2.06.94-2.06 2.06-.94-2.06-.94-.94-2.06-.94 2.06-2.06.94z\"/><path d=\"M17.41 7.96l-1.37-1.37c-.4-.4-.92-.59-1.43-.59-.52 0-1.04.2-1.43.59L10.3 9.45l-7.72 7.72c-.78.78-.78 2.05 0 2.83L4 21.41c.39.39.9.59 1.41.59.51 0 1.02-.2 1.41-.59l7.78-7.78 2.81-2.81c.8-.78.8-2.07 0-2.86zM5.41 20L4 18.59l7.72-7.72 1.47 1.35L5.41 20z\"/>\n",
              "  </svg>\n",
              "      </button>\n",
              "      \n",
              "  <style>\n",
              "    .colab-df-container {\n",
              "      display:flex;\n",
              "      flex-wrap:wrap;\n",
              "      gap: 12px;\n",
              "    }\n",
              "\n",
              "    .colab-df-convert {\n",
              "      background-color: #E8F0FE;\n",
              "      border: none;\n",
              "      border-radius: 50%;\n",
              "      cursor: pointer;\n",
              "      display: none;\n",
              "      fill: #1967D2;\n",
              "      height: 32px;\n",
              "      padding: 0 0 0 0;\n",
              "      width: 32px;\n",
              "    }\n",
              "\n",
              "    .colab-df-convert:hover {\n",
              "      background-color: #E2EBFA;\n",
              "      box-shadow: 0px 1px 2px rgba(60, 64, 67, 0.3), 0px 1px 3px 1px rgba(60, 64, 67, 0.15);\n",
              "      fill: #174EA6;\n",
              "    }\n",
              "\n",
              "    [theme=dark] .colab-df-convert {\n",
              "      background-color: #3B4455;\n",
              "      fill: #D2E3FC;\n",
              "    }\n",
              "\n",
              "    [theme=dark] .colab-df-convert:hover {\n",
              "      background-color: #434B5C;\n",
              "      box-shadow: 0px 1px 3px 1px rgba(0, 0, 0, 0.15);\n",
              "      filter: drop-shadow(0px 1px 2px rgba(0, 0, 0, 0.3));\n",
              "      fill: #FFFFFF;\n",
              "    }\n",
              "  </style>\n",
              "\n",
              "      <script>\n",
              "        const buttonEl =\n",
              "          document.querySelector('#df-ecf2fcd9-27b4-497a-92cb-883690a97f69 button.colab-df-convert');\n",
              "        buttonEl.style.display =\n",
              "          google.colab.kernel.accessAllowed ? 'block' : 'none';\n",
              "\n",
              "        async function convertToInteractive(key) {\n",
              "          const element = document.querySelector('#df-ecf2fcd9-27b4-497a-92cb-883690a97f69');\n",
              "          const dataTable =\n",
              "            await google.colab.kernel.invokeFunction('convertToInteractive',\n",
              "                                                     [key], {});\n",
              "          if (!dataTable) return;\n",
              "\n",
              "          const docLinkHtml = 'Like what you see? Visit the ' +\n",
              "            '<a target=\"_blank\" href=https://colab.research.google.com/notebooks/data_table.ipynb>data table notebook</a>'\n",
              "            + ' to learn more about interactive tables.';\n",
              "          element.innerHTML = '';\n",
              "          dataTable['output_type'] = 'display_data';\n",
              "          await google.colab.output.renderOutput(dataTable, element);\n",
              "          const docLink = document.createElement('div');\n",
              "          docLink.innerHTML = docLinkHtml;\n",
              "          element.appendChild(docLink);\n",
              "        }\n",
              "      </script>\n",
              "    </div>\n",
              "  </div>\n",
              "  "
            ]
          },
          "metadata": {},
          "execution_count": 9
        }
      ]
    },
    {
      "cell_type": "markdown",
      "metadata": {
        "id": "i-Fi99eymNEY"
      },
      "source": [
        "### Checking Null Value"
      ]
    },
    {
      "cell_type": "code",
      "execution_count": null,
      "metadata": {
        "colab": {
          "base_uri": "https://localhost:8080/"
        },
        "id": "EaXoqB107x5G",
        "outputId": "77e0c36b-7589-44ba-da11-ac0433b44379"
      },
      "outputs": [
        {
          "output_type": "stream",
          "name": "stdout",
          "text": [
            "<class 'pandas.core.frame.DataFrame'>\n",
            "Int64Index: 438456 entries, 0 to 438455\n",
            "Data columns (total 18 columns):\n",
            " #   Column               Non-Null Count   Dtype  \n",
            "---  ------               --------------   -----  \n",
            " 0   Id_customer          438456 non-null  int64  \n",
            " 1   JK                   438456 non-null  object \n",
            " 2   KepemilikanMobil     438456 non-null  object \n",
            " 3   KepemilikanProperti  438456 non-null  object \n",
            " 4   JmlAnak              438456 non-null  int64  \n",
            " 5   Pendapatan           438456 non-null  float64\n",
            " 6   TipePendapatan       438456 non-null  object \n",
            " 7   TingkatPendidikan    438456 non-null  object \n",
            " 8   StatusKeluarga       438456 non-null  object \n",
            " 9   TipeRumah            438456 non-null  object \n",
            " 10  FlagMobile           438456 non-null  int64  \n",
            " 11  FlagWorkPhone        438456 non-null  int64  \n",
            " 12  FlagPhone            438456 non-null  int64  \n",
            " 13  Email                438456 non-null  int64  \n",
            " 14  Pekerjaan            304213 non-null  object \n",
            " 15  JmlAnggotaKeluarga   438456 non-null  int64  \n",
            " 16  Age                  438456 non-null  int64  \n",
            " 17  Experience           438456 non-null  int64  \n",
            "dtypes: float64(1), int64(9), object(8)\n",
            "memory usage: 63.6+ MB\n"
          ]
        }
      ],
      "source": [
        "application_all.info()"
      ]
    },
    {
      "cell_type": "markdown",
      "metadata": {
        "id": "hyOtxhuxEitN"
      },
      "source": [
        "Null-value appear with a large portion (>100k) on variable \"Pekerjaan\". So variable \"Pekerjaan\" will be dropped"
      ]
    },
    {
      "cell_type": "code",
      "source": [
        "msno.bar(application_all)\n",
        "plt.show()"
      ],
      "metadata": {
        "colab": {
          "base_uri": "https://localhost:8080/",
          "height": 788
        },
        "id": "NokmOvpdgry8",
        "outputId": "311d8f27-5aa3-423a-e1cc-1e81022f5cf8"
      },
      "execution_count": null,
      "outputs": [
        {
          "output_type": "display_data",
          "data": {
            "text/plain": [
              "<Figure size 1800x720 with 3 Axes>"
            ],
            "image/png": "[encoded data removed]"
          },
          "metadata": {
            "needs_background": "light"
          }
        }
      ]
    },
    {
      "cell_type": "code",
      "execution_count": null,
      "metadata": {
        "id": "_769XRmjEg0T"
      },
      "outputs": [],
      "source": [
        "application_all1 = application_all.drop('Pekerjaan', axis = 1)"
      ]
    },
    {
      "cell_type": "code",
      "execution_count": null,
      "metadata": {
        "colab": {
          "base_uri": "https://localhost:8080/"
        },
        "id": "xEnf-wfOHJUd",
        "outputId": "86a70363-6533-461c-f8f5-3e31cbd879d6"
      },
      "outputs": [
        {
          "output_type": "stream",
          "name": "stdout",
          "text": [
            "<class 'pandas.core.frame.DataFrame'>\n",
            "Int64Index: 438456 entries, 0 to 438455\n",
            "Data columns (total 17 columns):\n",
            " #   Column               Non-Null Count   Dtype  \n",
            "---  ------               --------------   -----  \n",
            " 0   Id_customer          438456 non-null  int64  \n",
            " 1   JK                   438456 non-null  object \n",
            " 2   KepemilikanMobil     438456 non-null  object \n",
            " 3   KepemilikanProperti  438456 non-null  object \n",
            " 4   JmlAnak              438456 non-null  int64  \n",
            " 5   Pendapatan           438456 non-null  float64\n",
            " 6   TipePendapatan       438456 non-null  object \n",
            " 7   TingkatPendidikan    438456 non-null  object \n",
            " 8   StatusKeluarga       438456 non-null  object \n",
            " 9   TipeRumah            438456 non-null  object \n",
            " 10  FlagMobile           438456 non-null  int64  \n",
            " 11  FlagWorkPhone        438456 non-null  int64  \n",
            " 12  FlagPhone            438456 non-null  int64  \n",
            " 13  Email                438456 non-null  int64  \n",
            " 14  JmlAnggotaKeluarga   438456 non-null  int64  \n",
            " 15  Age                  438456 non-null  int64  \n",
            " 16  Experience           438456 non-null  int64  \n",
            "dtypes: float64(1), int64(9), object(7)\n",
            "memory usage: 60.2+ MB\n"
          ]
        }
      ],
      "source": [
        "application_all1.info()"
      ]
    },
    {
      "cell_type": "code",
      "execution_count": null,
      "metadata": {
        "colab": {
          "base_uri": "https://localhost:8080/",
          "height": 357
        },
        "id": "-cd5CHRwSmbo",
        "outputId": "400d39e0-32e6-4a60-b130-72cf84a7cec2"
      },
      "outputs": [
        {
          "output_type": "execute_result",
          "data": {
            "text/plain": [
              "   Id_customer         JK KepemilikanMobil KepemilikanProperti  JmlAnak  \\\n",
              "0      5008804  Laki-laki               Ya                  Ya        0   \n",
              "1      5008805  Laki-laki               Ya                  Ya        0   \n",
              "2      5008805  Laki-laki               Ya                  Ya        0   \n",
              "3      5008806  Laki-laki               Ya                  Ya        0   \n",
              "4      5008815  Laki-laki               Ya                  Ya        0   \n",
              "\n",
              "   Pendapatan TipePendapatan TingkatPendidikan StatusKeluarga TipeRumah  \\\n",
              "0    427500.0        Bekerja                PG              M        RA   \n",
              "1    427500.0        Bekerja                PG              M        RA   \n",
              "2    427500.0        Bekerja                PG              M        RA   \n",
              "3    112500.0        Bekerja                 G              M        MH   \n",
              "4    270000.0        Bekerja                PG              M        MH   \n",
              "\n",
              "   FlagMobile  FlagWorkPhone  FlagPhone  Email  JmlAnggotaKeluarga  Age  \\\n",
              "0           1              1          0      0                   2   33   \n",
              "1           1              1          0      0                   2   33   \n",
              "2           1              1          0      0                   2   33   \n",
              "3           1              0          0      0                   2   59   \n",
              "4           1              1          1      1                   2   46   \n",
              "\n",
              "   Experience  \n",
              "0          12  \n",
              "1          12  \n",
              "2          12  \n",
              "3           3  \n",
              "4           2  "
            ],
            "text/html": [
              "\n",
              "  <div id=\"df-043a291a-2b3a-4d5a-9a7c-9df14a093f81\">\n",
              "    <div class=\"colab-df-container\">\n",
              "      <div>\n",
              "<style scoped>\n",
              "    .dataframe tbody tr th:only-of-type {\n",
              "        vertical-align: middle;\n",
              "    }\n",
              "\n",
              "    .dataframe tbody tr th {\n",
              "        vertical-align: top;\n",
              "    }\n",
              "\n",
              "    .dataframe thead th {\n",
              "        text-align: right;\n",
              "    }\n",
              "</style>\n",
              "<table border=\"1\" class=\"dataframe\">\n",
              "  <thead>\n",
              "    <tr style=\"text-align: right;\">\n",
              "      <th></th>\n",
              "      <th>Id_customer</th>\n",
              "      <th>JK</th>\n",
              "      <th>KepemilikanMobil</th>\n",
              "      <th>KepemilikanProperti</th>\n",
              "      <th>JmlAnak</th>\n",
              "      <th>Pendapatan</th>\n",
              "      <th>TipePendapatan</th>\n",
              "      <th>TingkatPendidikan</th>\n",
              "      <th>StatusKeluarga</th>\n",
              "      <th>TipeRumah</th>\n",
              "      <th>FlagMobile</th>\n",
              "      <th>FlagWorkPhone</th>\n",
              "      <th>FlagPhone</th>\n",
              "      <th>Email</th>\n",
              "      <th>JmlAnggotaKeluarga</th>\n",
              "      <th>Age</th>\n",
              "      <th>Experience</th>\n",
              "    </tr>\n",
              "  </thead>\n",
              "  <tbody>\n",
              "    <tr>\n",
              "      <th>0</th>\n",
              "      <td>5008804</td>\n",
              "      <td>Laki-laki</td>\n",
              "      <td>Ya</td>\n",
              "      <td>Ya</td>\n",
              "      <td>0</td>\n",
              "      <td>427500.0</td>\n",
              "      <td>Bekerja</td>\n",
              "      <td>PG</td>\n",
              "      <td>M</td>\n",
              "      <td>RA</td>\n",
              "      <td>1</td>\n",
              "      <td>1</td>\n",
              "      <td>0</td>\n",
              "      <td>0</td>\n",
              "      <td>2</td>\n",
              "      <td>33</td>\n",
              "      <td>12</td>\n",
              "    </tr>\n",
              "    <tr>\n",
              "      <th>1</th>\n",
              "      <td>5008805</td>\n",
              "      <td>Laki-laki</td>\n",
              "      <td>Ya</td>\n",
              "      <td>Ya</td>\n",
              "      <td>0</td>\n",
              "      <td>427500.0</td>\n",
              "      <td>Bekerja</td>\n",
              "      <td>PG</td>\n",
              "      <td>M</td>\n",
              "      <td>RA</td>\n",
              "      <td>1</td>\n",
              "      <td>1</td>\n",
              "      <td>0</td>\n",
              "      <td>0</td>\n",
              "      <td>2</td>\n",
              "      <td>33</td>\n",
              "      <td>12</td>\n",
              "    </tr>\n",
              "    <tr>\n",
              "      <th>2</th>\n",
              "      <td>5008805</td>\n",
              "      <td>Laki-laki</td>\n",
              "      <td>Ya</td>\n",
              "      <td>Ya</td>\n",
              "      <td>0</td>\n",
              "      <td>427500.0</td>\n",
              "      <td>Bekerja</td>\n",
              "      <td>PG</td>\n",
              "      <td>M</td>\n",
              "      <td>RA</td>\n",
              "      <td>1</td>\n",
              "      <td>1</td>\n",
              "      <td>0</td>\n",
              "      <td>0</td>\n",
              "      <td>2</td>\n",
              "      <td>33</td>\n",
              "      <td>12</td>\n",
              "    </tr>\n",
              "    <tr>\n",
              "      <th>3</th>\n",
              "      <td>5008806</td>\n",
              "      <td>Laki-laki</td>\n",
              "      <td>Ya</td>\n",
              "      <td>Ya</td>\n",
              "      <td>0</td>\n",
              "      <td>112500.0</td>\n",
              "      <td>Bekerja</td>\n",
              "      <td>G</td>\n",
              "      <td>M</td>\n",
              "      <td>MH</td>\n",
              "      <td>1</td>\n",
              "      <td>0</td>\n",
              "      <td>0</td>\n",
              "      <td>0</td>\n",
              "      <td>2</td>\n",
              "      <td>59</td>\n",
              "      <td>3</td>\n",
              "    </tr>\n",
              "    <tr>\n",
              "      <th>4</th>\n",
              "      <td>5008815</td>\n",
              "      <td>Laki-laki</td>\n",
              "      <td>Ya</td>\n",
              "      <td>Ya</td>\n",
              "      <td>0</td>\n",
              "      <td>270000.0</td>\n",
              "      <td>Bekerja</td>\n",
              "      <td>PG</td>\n",
              "      <td>M</td>\n",
              "      <td>MH</td>\n",
              "      <td>1</td>\n",
              "      <td>1</td>\n",
              "      <td>1</td>\n",
              "      <td>1</td>\n",
              "      <td>2</td>\n",
              "      <td>46</td>\n",
              "      <td>2</td>\n",
              "    </tr>\n",
              "  </tbody>\n",
              "</table>\n",
              "</div>\n",
              "      <button class=\"colab-df-convert\" onclick=\"convertToInteractive('df-043a291a-2b3a-4d5a-9a7c-9df14a093f81')\"\n",
              "              title=\"Convert this dataframe to an interactive table.\"\n",
              "              style=\"display:none;\">\n",
              "        \n",
              "  <svg xmlns=\"http://www.w3.org/2000/svg\" height=\"24px\"viewBox=\"0 0 24 24\"\n",
              "       width=\"24px\">\n",
              "    <path d=\"M0 0h24v24H0V0z\" fill=\"none\"/>\n",
              "    <path d=\"M18.56 5.44l.94 2.06.94-2.06 2.06-.94-2.06-.94-.94-2.06-.94 2.06-2.06.94zm-11 1L8.5 8.5l.94-2.06 2.06-.94-2.06-.94L8.5 2.5l-.94 2.06-2.06.94zm10 10l.94 2.06.94-2.06 2.06-.94-2.06-.94-.94-2.06-.94 2.06-2.06.94z\"/><path d=\"M17.41 7.96l-1.37-1.37c-.4-.4-.92-.59-1.43-.59-.52 0-1.04.2-1.43.59L10.3 9.45l-7.72 7.72c-.78.78-.78 2.05 0 2.83L4 21.41c.39.39.9.59 1.41.59.51 0 1.02-.2 1.41-.59l7.78-7.78 2.81-2.81c.8-.78.8-2.07 0-2.86zM5.41 20L4 18.59l7.72-7.72 1.47 1.35L5.41 20z\"/>\n",
              "  </svg>\n",
              "      </button>\n",
              "      \n",
              "  <style>\n",
              "    .colab-df-container {\n",
              "      display:flex;\n",
              "      flex-wrap:wrap;\n",
              "      gap: 12px;\n",
              "    }\n",
              "\n",
              "    .colab-df-convert {\n",
              "      background-color: #E8F0FE;\n",
              "      border: none;\n",
              "      border-radius: 50%;\n",
              "      cursor: pointer;\n",
              "      display: none;\n",
              "      fill: #1967D2;\n",
              "      height: 32px;\n",
              "      padding: 0 0 0 0;\n",
              "      width: 32px;\n",
              "    }\n",
              "\n",
              "    .colab-df-convert:hover {\n",
              "      background-color: #E2EBFA;\n",
              "      box-shadow: 0px 1px 2px rgba(60, 64, 67, 0.3), 0px 1px 3px 1px rgba(60, 64, 67, 0.15);\n",
              "      fill: #174EA6;\n",
              "    }\n",
              "\n",
              "    [theme=dark] .colab-df-convert {\n",
              "      background-color: #3B4455;\n",
              "      fill: #D2E3FC;\n",
              "    }\n",
              "\n",
              "    [theme=dark] .colab-df-convert:hover {\n",
              "      background-color: #434B5C;\n",
              "      box-shadow: 0px 1px 3px 1px rgba(0, 0, 0, 0.15);\n",
              "      filter: drop-shadow(0px 1px 2px rgba(0, 0, 0, 0.3));\n",
              "      fill: #FFFFFF;\n",
              "    }\n",
              "  </style>\n",
              "\n",
              "      <script>\n",
              "        const buttonEl =\n",
              "          document.querySelector('#df-043a291a-2b3a-4d5a-9a7c-9df14a093f81 button.colab-df-convert');\n",
              "        buttonEl.style.display =\n",
              "          google.colab.kernel.accessAllowed ? 'block' : 'none';\n",
              "\n",
              "        async function convertToInteractive(key) {\n",
              "          const element = document.querySelector('#df-043a291a-2b3a-4d5a-9a7c-9df14a093f81');\n",
              "          const dataTable =\n",
              "            await google.colab.kernel.invokeFunction('convertToInteractive',\n",
              "                                                     [key], {});\n",
              "          if (!dataTable) return;\n",
              "\n",
              "          const docLinkHtml = 'Like what you see? Visit the ' +\n",
              "            '<a target=\"_blank\" href=https://colab.research.google.com/notebooks/data_table.ipynb>data table notebook</a>'\n",
              "            + ' to learn more about interactive tables.';\n",
              "          element.innerHTML = '';\n",
              "          dataTable['output_type'] = 'display_data';\n",
              "          await google.colab.output.renderOutput(dataTable, element);\n",
              "          const docLink = document.createElement('div');\n",
              "          docLink.innerHTML = docLinkHtml;\n",
              "          element.appendChild(docLink);\n",
              "        }\n",
              "      </script>\n",
              "    </div>\n",
              "  </div>\n",
              "  "
            ]
          },
          "metadata": {},
          "execution_count": 16
        }
      ],
      "source": [
        "application_all1.head()"
      ]
    },
    {
      "cell_type": "markdown",
      "metadata": {
        "id": "0DDSHYQzmTe9"
      },
      "source": [
        "### Check for Duplicate"
      ]
    },
    {
      "cell_type": "code",
      "execution_count": null,
      "metadata": {
        "colab": {
          "base_uri": "https://localhost:8080/"
        },
        "id": "08hK94niD8sG",
        "outputId": "54f5ea2a-1084-467f-dbe6-1fd530719a5a"
      },
      "outputs": [
        {
          "output_type": "stream",
          "name": "stdout",
          "text": [
            "Id_customer\n",
            "5008804    1\n",
            "5008805    2\n",
            "5008806    1\n",
            "5008808    1\n",
            "5008809    1\n",
            "          ..\n",
            "7999660    1\n",
            "7999696    1\n",
            "7999738    1\n",
            "7999784    1\n",
            "7999952    1\n",
            "Length: 438310, dtype: int64\n"
          ]
        }
      ],
      "source": [
        "#How Many Unique on Customer ID\n",
        "dupp_app = application_all1.pivot_table(columns=['Id_customer'], aggfunc='size')\n",
        "print(dupp_app)"
      ]
    },
    {
      "cell_type": "code",
      "execution_count": null,
      "metadata": {
        "colab": {
          "base_uri": "https://localhost:8080/"
        },
        "id": "3mtDt8ygRmPN",
        "outputId": "6e043035-2b71-47ef-97cf-d44b358c8bdf"
      },
      "outputs": [
        {
          "output_type": "execute_result",
          "data": {
            "text/plain": [
              "Id_customer            438310\n",
              "JK                          2\n",
              "KepemilikanMobil            2\n",
              "KepemilikanProperti         2\n",
              "JmlAnak                    12\n",
              "Pendapatan                866\n",
              "TipePendapatan              5\n",
              "TingkatPendidikan           3\n",
              "StatusKeluarga              3\n",
              "TipeRumah                   5\n",
              "FlagMobile                  1\n",
              "FlagWorkPhone               2\n",
              "FlagPhone                   2\n",
              "Email                       2\n",
              "JmlAnggotaKeluarga         13\n",
              "Age                        49\n",
              "Experience                 49\n",
              "dtype: int64"
            ]
          },
          "metadata": {},
          "execution_count": 18
        }
      ],
      "source": [
        "#Unique Value in Each Variable\n",
        "pd.Series({col:application_all1[col].nunique() for col in application_all1})"
      ]
    },
    {
      "cell_type": "code",
      "execution_count": null,
      "metadata": {
        "id": "nj38jlqRgedh"
      },
      "outputs": [],
      "source": [
        "#Drop duplicates on Id_customer\n",
        "application_all_2 = application_all1.drop_duplicates(subset='Id_customer')"
      ]
    },
    {
      "cell_type": "code",
      "execution_count": null,
      "metadata": {
        "colab": {
          "base_uri": "https://localhost:8080/"
        },
        "id": "-vNPIYdngn13",
        "outputId": "38d6b9fa-ac15-4736-c3d2-f75aa04cc9f3"
      },
      "outputs": [
        {
          "output_type": "stream",
          "name": "stdout",
          "text": [
            "<class 'pandas.core.frame.DataFrame'>\n",
            "Int64Index: 438310 entries, 0 to 438455\n",
            "Data columns (total 17 columns):\n",
            " #   Column               Non-Null Count   Dtype  \n",
            "---  ------               --------------   -----  \n",
            " 0   Id_customer          438310 non-null  int64  \n",
            " 1   JK                   438310 non-null  object \n",
            " 2   KepemilikanMobil     438310 non-null  object \n",
            " 3   KepemilikanProperti  438310 non-null  object \n",
            " 4   JmlAnak              438310 non-null  int64  \n",
            " 5   Pendapatan           438310 non-null  float64\n",
            " 6   TipePendapatan       438310 non-null  object \n",
            " 7   TingkatPendidikan    438310 non-null  object \n",
            " 8   StatusKeluarga       438310 non-null  object \n",
            " 9   TipeRumah            438310 non-null  object \n",
            " 10  FlagMobile           438310 non-null  int64  \n",
            " 11  FlagWorkPhone        438310 non-null  int64  \n",
            " 12  FlagPhone            438310 non-null  int64  \n",
            " 13  Email                438310 non-null  int64  \n",
            " 14  JmlAnggotaKeluarga   438310 non-null  int64  \n",
            " 15  Age                  438310 non-null  int64  \n",
            " 16  Experience           438310 non-null  int64  \n",
            "dtypes: float64(1), int64(9), object(7)\n",
            "memory usage: 60.2+ MB\n"
          ]
        }
      ],
      "source": [
        "application_all_2.info()"
      ]
    },
    {
      "cell_type": "markdown",
      "metadata": {
        "id": "BT8ExU0r-2Iu"
      },
      "source": [
        "### Load Credit History Data (Last Row)"
      ]
    },
    {
      "cell_type": "code",
      "execution_count": null,
      "metadata": {
        "id": "8g7akWIr-86o"
      },
      "outputs": [],
      "source": [
        "credit_history = pd.read_csv('/content/drive/My Drive/FP SI Celerates/Dataset/credit_history.csv')"
      ]
    },
    {
      "cell_type": "code",
      "execution_count": null,
      "metadata": {
        "colab": {
          "base_uri": "https://localhost:8080/",
          "height": 423
        },
        "id": "meAxIRJT_R94",
        "outputId": "30405c25-8830-4aee-eb90-e24e770c21ea"
      },
      "outputs": [
        {
          "output_type": "execute_result",
          "data": {
            "text/plain": [
              "         Id_customer                  Overdue\n",
              "0            5001711  Tidak memiliki pinjaman\n",
              "1            5001711                        0\n",
              "2            5001711                        0\n",
              "3            5001711                        0\n",
              "4            5001712                        0\n",
              "...              ...                      ...\n",
              "1043981      5150487                        0\n",
              "1043982      5150487                        0\n",
              "1043983      5150487                        0\n",
              "1043984      5150487                        0\n",
              "1043985      5150487                        0\n",
              "\n",
              "[1043986 rows x 2 columns]"
            ],
            "text/html": [
              "\n",
              "  <div id=\"df-c96ec72f-e4a2-4277-a28b-dd26d83fb7ce\">\n",
              "    <div class=\"colab-df-container\">\n",
              "      <div>\n",
              "<style scoped>\n",
              "    .dataframe tbody tr th:only-of-type {\n",
              "        vertical-align: middle;\n",
              "    }\n",
              "\n",
              "    .dataframe tbody tr th {\n",
              "        vertical-align: top;\n",
              "    }\n",
              "\n",
              "    .dataframe thead th {\n",
              "        text-align: right;\n",
              "    }\n",
              "</style>\n",
              "<table border=\"1\" class=\"dataframe\">\n",
              "  <thead>\n",
              "    <tr style=\"text-align: right;\">\n",
              "      <th></th>\n",
              "      <th>Id_customer</th>\n",
              "      <th>Overdue</th>\n",
              "    </tr>\n",
              "  </thead>\n",
              "  <tbody>\n",
              "    <tr>\n",
              "      <th>0</th>\n",
              "      <td>5001711</td>\n",
              "      <td>Tidak memiliki pinjaman</td>\n",
              "    </tr>\n",
              "    <tr>\n",
              "      <th>1</th>\n",
              "      <td>5001711</td>\n",
              "      <td>0</td>\n",
              "    </tr>\n",
              "    <tr>\n",
              "      <th>2</th>\n",
              "      <td>5001711</td>\n",
              "      <td>0</td>\n",
              "    </tr>\n",
              "    <tr>\n",
              "      <th>3</th>\n",
              "      <td>5001711</td>\n",
              "      <td>0</td>\n",
              "    </tr>\n",
              "    <tr>\n",
              "      <th>4</th>\n",
              "      <td>5001712</td>\n",
              "      <td>0</td>\n",
              "    </tr>\n",
              "    <tr>\n",
              "      <th>...</th>\n",
              "      <td>...</td>\n",
              "      <td>...</td>\n",
              "    </tr>\n",
              "    <tr>\n",
              "      <th>1043981</th>\n",
              "      <td>5150487</td>\n",
              "      <td>0</td>\n",
              "    </tr>\n",
              "    <tr>\n",
              "      <th>1043982</th>\n",
              "      <td>5150487</td>\n",
              "      <td>0</td>\n",
              "    </tr>\n",
              "    <tr>\n",
              "      <th>1043983</th>\n",
              "      <td>5150487</td>\n",
              "      <td>0</td>\n",
              "    </tr>\n",
              "    <tr>\n",
              "      <th>1043984</th>\n",
              "      <td>5150487</td>\n",
              "      <td>0</td>\n",
              "    </tr>\n",
              "    <tr>\n",
              "      <th>1043985</th>\n",
              "      <td>5150487</td>\n",
              "      <td>0</td>\n",
              "    </tr>\n",
              "  </tbody>\n",
              "</table>\n",
              "<p>1043986 rows × 2 columns</p>\n",
              "</div>\n",
              "      <button class=\"colab-df-convert\" onclick=\"convertToInteractive('df-c96ec72f-e4a2-4277-a28b-dd26d83fb7ce')\"\n",
              "              title=\"Convert this dataframe to an interactive table.\"\n",
              "              style=\"display:none;\">\n",
              "        \n",
              "  <svg xmlns=\"http://www.w3.org/2000/svg\" height=\"24px\"viewBox=\"0 0 24 24\"\n",
              "       width=\"24px\">\n",
              "    <path d=\"M0 0h24v24H0V0z\" fill=\"none\"/>\n",
              "    <path d=\"M18.56 5.44l.94 2.06.94-2.06 2.06-.94-2.06-.94-.94-2.06-.94 2.06-2.06.94zm-11 1L8.5 8.5l.94-2.06 2.06-.94-2.06-.94L8.5 2.5l-.94 2.06-2.06.94zm10 10l.94 2.06.94-2.06 2.06-.94-2.06-.94-.94-2.06-.94 2.06-2.06.94z\"/><path d=\"M17.41 7.96l-1.37-1.37c-.4-.4-.92-.59-1.43-.59-.52 0-1.04.2-1.43.59L10.3 9.45l-7.72 7.72c-.78.78-.78 2.05 0 2.83L4 21.41c.39.39.9.59 1.41.59.51 0 1.02-.2 1.41-.59l7.78-7.78 2.81-2.81c.8-.78.8-2.07 0-2.86zM5.41 20L4 18.59l7.72-7.72 1.47 1.35L5.41 20z\"/>\n",
              "  </svg>\n",
              "      </button>\n",
              "      \n",
              "  <style>\n",
              "    .colab-df-container {\n",
              "      display:flex;\n",
              "      flex-wrap:wrap;\n",
              "      gap: 12px;\n",
              "    }\n",
              "\n",
              "    .colab-df-convert {\n",
              "      background-color: #E8F0FE;\n",
              "      border: none;\n",
              "      border-radius: 50%;\n",
              "      cursor: pointer;\n",
              "      display: none;\n",
              "      fill: #1967D2;\n",
              "      height: 32px;\n",
              "      padding: 0 0 0 0;\n",
              "      width: 32px;\n",
              "    }\n",
              "\n",
              "    .colab-df-convert:hover {\n",
              "      background-color: #E2EBFA;\n",
              "      box-shadow: 0px 1px 2px rgba(60, 64, 67, 0.3), 0px 1px 3px 1px rgba(60, 64, 67, 0.15);\n",
              "      fill: #174EA6;\n",
              "    }\n",
              "\n",
              "    [theme=dark] .colab-df-convert {\n",
              "      background-color: #3B4455;\n",
              "      fill: #D2E3FC;\n",
              "    }\n",
              "\n",
              "    [theme=dark] .colab-df-convert:hover {\n",
              "      background-color: #434B5C;\n",
              "      box-shadow: 0px 1px 3px 1px rgba(0, 0, 0, 0.15);\n",
              "      filter: drop-shadow(0px 1px 2px rgba(0, 0, 0, 0.3));\n",
              "      fill: #FFFFFF;\n",
              "    }\n",
              "  </style>\n",
              "\n",
              "      <script>\n",
              "        const buttonEl =\n",
              "          document.querySelector('#df-c96ec72f-e4a2-4277-a28b-dd26d83fb7ce button.colab-df-convert');\n",
              "        buttonEl.style.display =\n",
              "          google.colab.kernel.accessAllowed ? 'block' : 'none';\n",
              "\n",
              "        async function convertToInteractive(key) {\n",
              "          const element = document.querySelector('#df-c96ec72f-e4a2-4277-a28b-dd26d83fb7ce');\n",
              "          const dataTable =\n",
              "            await google.colab.kernel.invokeFunction('convertToInteractive',\n",
              "                                                     [key], {});\n",
              "          if (!dataTable) return;\n",
              "\n",
              "          const docLinkHtml = 'Like what you see? Visit the ' +\n",
              "            '<a target=\"_blank\" href=https://colab.research.google.com/notebooks/data_table.ipynb>data table notebook</a>'\n",
              "            + ' to learn more about interactive tables.';\n",
              "          element.innerHTML = '';\n",
              "          dataTable['output_type'] = 'display_data';\n",
              "          await google.colab.output.renderOutput(dataTable, element);\n",
              "          const docLink = document.createElement('div');\n",
              "          docLink.innerHTML = docLinkHtml;\n",
              "          element.appendChild(docLink);\n",
              "        }\n",
              "      </script>\n",
              "    </div>\n",
              "  </div>\n",
              "  "
            ]
          },
          "metadata": {},
          "execution_count": 11
        }
      ],
      "source": [
        "credit_history"
      ]
    },
    {
      "cell_type": "code",
      "execution_count": null,
      "metadata": {
        "colab": {
          "base_uri": "https://localhost:8080/"
        },
        "id": "i3T5LK_fPhhI",
        "outputId": "57a7985e-9e96-42f8-f9e0-79d4b6ac1017"
      },
      "outputs": [
        {
          "output_type": "execute_result",
          "data": {
            "text/plain": [
              "0                          821230\n",
              "Tidak memiliki pinjaman    208755\n",
              "1                           10936\n",
              "5                            1677\n",
              "2                             849\n",
              "3                             317\n",
              "4                             222\n",
              "Name: Overdue, dtype: int64"
            ]
          },
          "metadata": {},
          "execution_count": 21
        }
      ],
      "source": [
        "credit_history['Overdue'].value_counts()"
      ]
    },
    {
      "cell_type": "code",
      "execution_count": null,
      "metadata": {
        "colab": {
          "base_uri": "https://localhost:8080/"
        },
        "id": "XkXxk7XiQdJP",
        "outputId": "fbc7fe9d-c579-484d-d000-9625a105a5a9"
      },
      "outputs": [
        {
          "output_type": "execute_result",
          "data": {
            "text/plain": [
              "0    821230\n",
              "1     10936\n",
              "5      1677\n",
              "2       849\n",
              "3       317\n",
              "4       222\n",
              "Name: Overdue, dtype: int64"
            ]
          },
          "metadata": {},
          "execution_count": 22
        }
      ],
      "source": [
        "#Drop ID customer that have the status \"Tidak memiliki pinjaman\"\n",
        "credit_history_1 = credit_history[credit_history.Overdue != 'Tidak memiliki pinjaman']\n",
        "credit_history_1['Overdue'].value_counts()"
      ]
    },
    {
      "cell_type": "code",
      "execution_count": null,
      "metadata": {
        "id": "fcgK5IKOWD0T"
      },
      "outputs": [],
      "source": [
        "credit_history_sort = credit_history_1.sort_values(['Id_customer','Overdue'])"
      ]
    },
    {
      "cell_type": "code",
      "execution_count": null,
      "metadata": {
        "colab": {
          "base_uri": "https://localhost:8080/",
          "height": 423
        },
        "id": "gKs9-hEfWVPa",
        "outputId": "5654aff3-17b5-4ba3-f7d1-7a7f883f8cbb"
      },
      "outputs": [
        {
          "output_type": "execute_result",
          "data": {
            "text/plain": [
              "         Id_customer Overdue\n",
              "1            5001711       0\n",
              "2            5001711       0\n",
              "3            5001711       0\n",
              "4            5001712       0\n",
              "5            5001712       0\n",
              "...              ...     ...\n",
              "1043981      5150487       0\n",
              "1043982      5150487       0\n",
              "1043983      5150487       0\n",
              "1043984      5150487       0\n",
              "1043985      5150487       0\n",
              "\n",
              "[835231 rows x 2 columns]"
            ],
            "text/html": [
              "\n",
              "  <div id=\"df-a181ca87-000c-4f03-a7af-3e71abea84e7\">\n",
              "    <div class=\"colab-df-container\">\n",
              "      <div>\n",
              "<style scoped>\n",
              "    .dataframe tbody tr th:only-of-type {\n",
              "        vertical-align: middle;\n",
              "    }\n",
              "\n",
              "    .dataframe tbody tr th {\n",
              "        vertical-align: top;\n",
              "    }\n",
              "\n",
              "    .dataframe thead th {\n",
              "        text-align: right;\n",
              "    }\n",
              "</style>\n",
              "<table border=\"1\" class=\"dataframe\">\n",
              "  <thead>\n",
              "    <tr style=\"text-align: right;\">\n",
              "      <th></th>\n",
              "      <th>Id_customer</th>\n",
              "      <th>Overdue</th>\n",
              "    </tr>\n",
              "  </thead>\n",
              "  <tbody>\n",
              "    <tr>\n",
              "      <th>1</th>\n",
              "      <td>5001711</td>\n",
              "      <td>0</td>\n",
              "    </tr>\n",
              "    <tr>\n",
              "      <th>2</th>\n",
              "      <td>5001711</td>\n",
              "      <td>0</td>\n",
              "    </tr>\n",
              "    <tr>\n",
              "      <th>3</th>\n",
              "      <td>5001711</td>\n",
              "      <td>0</td>\n",
              "    </tr>\n",
              "    <tr>\n",
              "      <th>4</th>\n",
              "      <td>5001712</td>\n",
              "      <td>0</td>\n",
              "    </tr>\n",
              "    <tr>\n",
              "      <th>5</th>\n",
              "      <td>5001712</td>\n",
              "      <td>0</td>\n",
              "    </tr>\n",
              "    <tr>\n",
              "      <th>...</th>\n",
              "      <td>...</td>\n",
              "      <td>...</td>\n",
              "    </tr>\n",
              "    <tr>\n",
              "      <th>1043981</th>\n",
              "      <td>5150487</td>\n",
              "      <td>0</td>\n",
              "    </tr>\n",
              "    <tr>\n",
              "      <th>1043982</th>\n",
              "      <td>5150487</td>\n",
              "      <td>0</td>\n",
              "    </tr>\n",
              "    <tr>\n",
              "      <th>1043983</th>\n",
              "      <td>5150487</td>\n",
              "      <td>0</td>\n",
              "    </tr>\n",
              "    <tr>\n",
              "      <th>1043984</th>\n",
              "      <td>5150487</td>\n",
              "      <td>0</td>\n",
              "    </tr>\n",
              "    <tr>\n",
              "      <th>1043985</th>\n",
              "      <td>5150487</td>\n",
              "      <td>0</td>\n",
              "    </tr>\n",
              "  </tbody>\n",
              "</table>\n",
              "<p>835231 rows × 2 columns</p>\n",
              "</div>\n",
              "      <button class=\"colab-df-convert\" onclick=\"convertToInteractive('df-a181ca87-000c-4f03-a7af-3e71abea84e7')\"\n",
              "              title=\"Convert this dataframe to an interactive table.\"\n",
              "              style=\"display:none;\">\n",
              "        \n",
              "  <svg xmlns=\"http://www.w3.org/2000/svg\" height=\"24px\"viewBox=\"0 0 24 24\"\n",
              "       width=\"24px\">\n",
              "    <path d=\"M0 0h24v24H0V0z\" fill=\"none\"/>\n",
              "    <path d=\"M18.56 5.44l.94 2.06.94-2.06 2.06-.94-2.06-.94-.94-2.06-.94 2.06-2.06.94zm-11 1L8.5 8.5l.94-2.06 2.06-.94-2.06-.94L8.5 2.5l-.94 2.06-2.06.94zm10 10l.94 2.06.94-2.06 2.06-.94-2.06-.94-.94-2.06-.94 2.06-2.06.94z\"/><path d=\"M17.41 7.96l-1.37-1.37c-.4-.4-.92-.59-1.43-.59-.52 0-1.04.2-1.43.59L10.3 9.45l-7.72 7.72c-.78.78-.78 2.05 0 2.83L4 21.41c.39.39.9.59 1.41.59.51 0 1.02-.2 1.41-.59l7.78-7.78 2.81-2.81c.8-.78.8-2.07 0-2.86zM5.41 20L4 18.59l7.72-7.72 1.47 1.35L5.41 20z\"/>\n",
              "  </svg>\n",
              "      </button>\n",
              "      \n",
              "  <style>\n",
              "    .colab-df-container {\n",
              "      display:flex;\n",
              "      flex-wrap:wrap;\n",
              "      gap: 12px;\n",
              "    }\n",
              "\n",
              "    .colab-df-convert {\n",
              "      background-color: #E8F0FE;\n",
              "      border: none;\n",
              "      border-radius: 50%;\n",
              "      cursor: pointer;\n",
              "      display: none;\n",
              "      fill: #1967D2;\n",
              "      height: 32px;\n",
              "      padding: 0 0 0 0;\n",
              "      width: 32px;\n",
              "    }\n",
              "\n",
              "    .colab-df-convert:hover {\n",
              "      background-color: #E2EBFA;\n",
              "      box-shadow: 0px 1px 2px rgba(60, 64, 67, 0.3), 0px 1px 3px 1px rgba(60, 64, 67, 0.15);\n",
              "      fill: #174EA6;\n",
              "    }\n",
              "\n",
              "    [theme=dark] .colab-df-convert {\n",
              "      background-color: #3B4455;\n",
              "      fill: #D2E3FC;\n",
              "    }\n",
              "\n",
              "    [theme=dark] .colab-df-convert:hover {\n",
              "      background-color: #434B5C;\n",
              "      box-shadow: 0px 1px 3px 1px rgba(0, 0, 0, 0.15);\n",
              "      filter: drop-shadow(0px 1px 2px rgba(0, 0, 0, 0.3));\n",
              "      fill: #FFFFFF;\n",
              "    }\n",
              "  </style>\n",
              "\n",
              "      <script>\n",
              "        const buttonEl =\n",
              "          document.querySelector('#df-a181ca87-000c-4f03-a7af-3e71abea84e7 button.colab-df-convert');\n",
              "        buttonEl.style.display =\n",
              "          google.colab.kernel.accessAllowed ? 'block' : 'none';\n",
              "\n",
              "        async function convertToInteractive(key) {\n",
              "          const element = document.querySelector('#df-a181ca87-000c-4f03-a7af-3e71abea84e7');\n",
              "          const dataTable =\n",
              "            await google.colab.kernel.invokeFunction('convertToInteractive',\n",
              "                                                     [key], {});\n",
              "          if (!dataTable) return;\n",
              "\n",
              "          const docLinkHtml = 'Like what you see? Visit the ' +\n",
              "            '<a target=\"_blank\" href=https://colab.research.google.com/notebooks/data_table.ipynb>data table notebook</a>'\n",
              "            + ' to learn more about interactive tables.';\n",
              "          element.innerHTML = '';\n",
              "          dataTable['output_type'] = 'display_data';\n",
              "          await google.colab.output.renderOutput(dataTable, element);\n",
              "          const docLink = document.createElement('div');\n",
              "          docLink.innerHTML = docLinkHtml;\n",
              "          element.appendChild(docLink);\n",
              "        }\n",
              "      </script>\n",
              "    </div>\n",
              "  </div>\n",
              "  "
            ]
          },
          "metadata": {},
          "execution_count": 24
        }
      ],
      "source": [
        "credit_history_sort"
      ]
    },
    {
      "cell_type": "code",
      "execution_count": null,
      "metadata": {
        "id": "kurc3eosRNTc"
      },
      "outputs": [],
      "source": [
        "from pandas.core.algorithms import rank\n",
        "credit_history_2 = credit_history_sort.drop_duplicates(subset='Id_customer',keep='last')"
      ]
    },
    {
      "cell_type": "code",
      "execution_count": null,
      "metadata": {
        "colab": {
          "base_uri": "https://localhost:8080/"
        },
        "id": "azkbkoMdWpfA",
        "outputId": "b23502e6-118f-46f5-b89a-5e6e4319c459"
      },
      "outputs": [
        {
          "output_type": "execute_result",
          "data": {
            "text/plain": [
              "0    35976\n",
              "1     4617\n",
              "2      328\n",
              "5      193\n",
              "3       87\n",
              "4       48\n",
              "Name: Overdue, dtype: int64"
            ]
          },
          "metadata": {},
          "execution_count": 26
        }
      ],
      "source": [
        "credit_history_2['Overdue'].value_counts()"
      ]
    },
    {
      "cell_type": "code",
      "execution_count": null,
      "metadata": {
        "colab": {
          "base_uri": "https://localhost:8080/"
        },
        "id": "AAv-yGHSiygg",
        "outputId": "7135c5e9-e27e-4d87-d587-c7cffe4d2c49"
      },
      "outputs": [
        {
          "output_type": "stream",
          "name": "stdout",
          "text": [
            "<class 'pandas.core.frame.DataFrame'>\n",
            "Int64Index: 41249 entries, 3 to 1043985\n",
            "Data columns (total 2 columns):\n",
            " #   Column       Non-Null Count  Dtype \n",
            "---  ------       --------------  ----- \n",
            " 0   Id_customer  41249 non-null  int64 \n",
            " 1   Overdue      41249 non-null  object\n",
            "dtypes: int64(1), object(1)\n",
            "memory usage: 966.8+ KB\n"
          ]
        }
      ],
      "source": [
        "credit_history_2.info()"
      ]
    },
    {
      "cell_type": "code",
      "execution_count": null,
      "metadata": {
        "colab": {
          "base_uri": "https://localhost:8080/",
          "height": 423
        },
        "id": "xZKAakiKwMq1",
        "outputId": "7f189be8-6591-4f17-db1a-612c4fe47237"
      },
      "outputs": [
        {
          "output_type": "execute_result",
          "data": {
            "text/plain": [
              "         Id_customer Overdue\n",
              "3            5001711       0\n",
              "22           5001712       0\n",
              "141          5001717       0\n",
              "154          5001718       1\n",
              "223          5001719       0\n",
              "...              ...     ...\n",
              "1043861      5150480       0\n",
              "1043922      5150482       0\n",
              "1043953      5150484       0\n",
              "1043955      5150485       0\n",
              "1043985      5150487       0\n",
              "\n",
              "[41249 rows x 2 columns]"
            ],
            "text/html": [
              "\n",
              "  <div id=\"df-2ea86848-4b80-43ff-b045-508179c48512\">\n",
              "    <div class=\"colab-df-container\">\n",
              "      <div>\n",
              "<style scoped>\n",
              "    .dataframe tbody tr th:only-of-type {\n",
              "        vertical-align: middle;\n",
              "    }\n",
              "\n",
              "    .dataframe tbody tr th {\n",
              "        vertical-align: top;\n",
              "    }\n",
              "\n",
              "    .dataframe thead th {\n",
              "        text-align: right;\n",
              "    }\n",
              "</style>\n",
              "<table border=\"1\" class=\"dataframe\">\n",
              "  <thead>\n",
              "    <tr style=\"text-align: right;\">\n",
              "      <th></th>\n",
              "      <th>Id_customer</th>\n",
              "      <th>Overdue</th>\n",
              "    </tr>\n",
              "  </thead>\n",
              "  <tbody>\n",
              "    <tr>\n",
              "      <th>3</th>\n",
              "      <td>5001711</td>\n",
              "      <td>0</td>\n",
              "    </tr>\n",
              "    <tr>\n",
              "      <th>22</th>\n",
              "      <td>5001712</td>\n",
              "      <td>0</td>\n",
              "    </tr>\n",
              "    <tr>\n",
              "      <th>141</th>\n",
              "      <td>5001717</td>\n",
              "      <td>0</td>\n",
              "    </tr>\n",
              "    <tr>\n",
              "      <th>154</th>\n",
              "      <td>5001718</td>\n",
              "      <td>1</td>\n",
              "    </tr>\n",
              "    <tr>\n",
              "      <th>223</th>\n",
              "      <td>5001719</td>\n",
              "      <td>0</td>\n",
              "    </tr>\n",
              "    <tr>\n",
              "      <th>...</th>\n",
              "      <td>...</td>\n",
              "      <td>...</td>\n",
              "    </tr>\n",
              "    <tr>\n",
              "      <th>1043861</th>\n",
              "      <td>5150480</td>\n",
              "      <td>0</td>\n",
              "    </tr>\n",
              "    <tr>\n",
              "      <th>1043922</th>\n",
              "      <td>5150482</td>\n",
              "      <td>0</td>\n",
              "    </tr>\n",
              "    <tr>\n",
              "      <th>1043953</th>\n",
              "      <td>5150484</td>\n",
              "      <td>0</td>\n",
              "    </tr>\n",
              "    <tr>\n",
              "      <th>1043955</th>\n",
              "      <td>5150485</td>\n",
              "      <td>0</td>\n",
              "    </tr>\n",
              "    <tr>\n",
              "      <th>1043985</th>\n",
              "      <td>5150487</td>\n",
              "      <td>0</td>\n",
              "    </tr>\n",
              "  </tbody>\n",
              "</table>\n",
              "<p>41249 rows × 2 columns</p>\n",
              "</div>\n",
              "      <button class=\"colab-df-convert\" onclick=\"convertToInteractive('df-2ea86848-4b80-43ff-b045-508179c48512')\"\n",
              "              title=\"Convert this dataframe to an interactive table.\"\n",
              "              style=\"display:none;\">\n",
              "        \n",
              "  <svg xmlns=\"http://www.w3.org/2000/svg\" height=\"24px\"viewBox=\"0 0 24 24\"\n",
              "       width=\"24px\">\n",
              "    <path d=\"M0 0h24v24H0V0z\" fill=\"none\"/>\n",
              "    <path d=\"M18.56 5.44l.94 2.06.94-2.06 2.06-.94-2.06-.94-.94-2.06-.94 2.06-2.06.94zm-11 1L8.5 8.5l.94-2.06 2.06-.94-2.06-.94L8.5 2.5l-.94 2.06-2.06.94zm10 10l.94 2.06.94-2.06 2.06-.94-2.06-.94-.94-2.06-.94 2.06-2.06.94z\"/><path d=\"M17.41 7.96l-1.37-1.37c-.4-.4-.92-.59-1.43-.59-.52 0-1.04.2-1.43.59L10.3 9.45l-7.72 7.72c-.78.78-.78 2.05 0 2.83L4 21.41c.39.39.9.59 1.41.59.51 0 1.02-.2 1.41-.59l7.78-7.78 2.81-2.81c.8-.78.8-2.07 0-2.86zM5.41 20L4 18.59l7.72-7.72 1.47 1.35L5.41 20z\"/>\n",
              "  </svg>\n",
              "      </button>\n",
              "      \n",
              "  <style>\n",
              "    .colab-df-container {\n",
              "      display:flex;\n",
              "      flex-wrap:wrap;\n",
              "      gap: 12px;\n",
              "    }\n",
              "\n",
              "    .colab-df-convert {\n",
              "      background-color: #E8F0FE;\n",
              "      border: none;\n",
              "      border-radius: 50%;\n",
              "      cursor: pointer;\n",
              "      display: none;\n",
              "      fill: #1967D2;\n",
              "      height: 32px;\n",
              "      padding: 0 0 0 0;\n",
              "      width: 32px;\n",
              "    }\n",
              "\n",
              "    .colab-df-convert:hover {\n",
              "      background-color: #E2EBFA;\n",
              "      box-shadow: 0px 1px 2px rgba(60, 64, 67, 0.3), 0px 1px 3px 1px rgba(60, 64, 67, 0.15);\n",
              "      fill: #174EA6;\n",
              "    }\n",
              "\n",
              "    [theme=dark] .colab-df-convert {\n",
              "      background-color: #3B4455;\n",
              "      fill: #D2E3FC;\n",
              "    }\n",
              "\n",
              "    [theme=dark] .colab-df-convert:hover {\n",
              "      background-color: #434B5C;\n",
              "      box-shadow: 0px 1px 3px 1px rgba(0, 0, 0, 0.15);\n",
              "      filter: drop-shadow(0px 1px 2px rgba(0, 0, 0, 0.3));\n",
              "      fill: #FFFFFF;\n",
              "    }\n",
              "  </style>\n",
              "\n",
              "      <script>\n",
              "        const buttonEl =\n",
              "          document.querySelector('#df-2ea86848-4b80-43ff-b045-508179c48512 button.colab-df-convert');\n",
              "        buttonEl.style.display =\n",
              "          google.colab.kernel.accessAllowed ? 'block' : 'none';\n",
              "\n",
              "        async function convertToInteractive(key) {\n",
              "          const element = document.querySelector('#df-2ea86848-4b80-43ff-b045-508179c48512');\n",
              "          const dataTable =\n",
              "            await google.colab.kernel.invokeFunction('convertToInteractive',\n",
              "                                                     [key], {});\n",
              "          if (!dataTable) return;\n",
              "\n",
              "          const docLinkHtml = 'Like what you see? Visit the ' +\n",
              "            '<a target=\"_blank\" href=https://colab.research.google.com/notebooks/data_table.ipynb>data table notebook</a>'\n",
              "            + ' to learn more about interactive tables.';\n",
              "          element.innerHTML = '';\n",
              "          dataTable['output_type'] = 'display_data';\n",
              "          await google.colab.output.renderOutput(dataTable, element);\n",
              "          const docLink = document.createElement('div');\n",
              "          docLink.innerHTML = docLinkHtml;\n",
              "          element.appendChild(docLink);\n",
              "        }\n",
              "      </script>\n",
              "    </div>\n",
              "  </div>\n",
              "  "
            ]
          },
          "metadata": {},
          "execution_count": 28
        }
      ],
      "source": [
        "credit_history_2"
      ]
    },
    {
      "cell_type": "markdown",
      "metadata": {
        "id": "eqz4fokoboMf"
      },
      "source": [
        "### Join Application Table and Credit History Table"
      ]
    },
    {
      "cell_type": "code",
      "execution_count": null,
      "metadata": {
        "colab": {
          "base_uri": "https://localhost:8080/",
          "height": 539
        },
        "id": "syPpT28Mbwxy",
        "outputId": "70408ba0-167c-42d7-9434-f6ae41dedc34"
      },
      "outputs": [
        {
          "output_type": "execute_result",
          "data": {
            "text/plain": [
              "       Id_customer         JK KepemilikanMobil KepemilikanProperti  JmlAnak  \\\n",
              "0          5008804  Laki-laki               Ya                  Ya        0   \n",
              "1          5008805  Laki-laki               Ya                  Ya        0   \n",
              "2          5008806  Laki-laki               Ya                  Ya        0   \n",
              "3          5008815  Laki-laki               Ya                  Ya        0   \n",
              "4          5112956  Laki-laki               Ya                  Ya        0   \n",
              "...            ...        ...              ...                 ...      ...   \n",
              "32905      5149055  Perempuan            Tidak                  Ya        0   \n",
              "32906      5149056  Perempuan            Tidak                  Ya        0   \n",
              "32907      5149834  Perempuan            Tidak                  Ya        0   \n",
              "32908      5149838  Perempuan            Tidak                  Ya        0   \n",
              "32909      5150049  Perempuan            Tidak                  Ya        0   \n",
              "\n",
              "       Pendapatan      TipePendapatan TingkatPendidikan StatusKeluarga  \\\n",
              "0        427500.0             Bekerja                PG              M   \n",
              "1        427500.0             Bekerja                PG              M   \n",
              "2        112500.0             Bekerja                 G              M   \n",
              "3        270000.0             Bekerja                PG              M   \n",
              "4        270000.0             Bekerja                PG              M   \n",
              "...           ...                 ...               ...            ...   \n",
              "32905    112500.0  Asosiasi komersial                 G              M   \n",
              "32906    112500.0  Asosiasi komersial                 G              M   \n",
              "32907    157500.0  Asosiasi komersial                PG              M   \n",
              "32908    157500.0           Pensioner                PG              M   \n",
              "32909    283500.0             Bekerja                 G              M   \n",
              "\n",
              "      TipeRumah  FlagMobile  FlagWorkPhone  FlagPhone  Email  \\\n",
              "0            RA           1              1          0      0   \n",
              "1            RA           1              1          0      0   \n",
              "2            MH           1              0          0      0   \n",
              "3            MH           1              1          1      1   \n",
              "4            MH           1              1          1      1   \n",
              "...         ...         ...            ...        ...    ...   \n",
              "32905        MH           1              1          1      0   \n",
              "32906        MH           1              1          1      0   \n",
              "32907        MH           1              0          1      1   \n",
              "32908        MH           1              0          1      1   \n",
              "32909        MH           1              0          0      0   \n",
              "\n",
              "       JmlAnggotaKeluarga  Age  Experience Overdue  \n",
              "0                       2   33          12       1  \n",
              "1                       2   33          12       1  \n",
              "2                       2   59           3       0  \n",
              "3                       2   46           2       0  \n",
              "4                       2   46           2       0  \n",
              "...                   ...  ...         ...     ...  \n",
              "32905                   2   43           7       2  \n",
              "32906                   2   43           7       2  \n",
              "32907                   2   34           4       5  \n",
              "32908                   2   34           4       5  \n",
              "32909                   2   49           2       2  \n",
              "\n",
              "[32910 rows x 18 columns]"
            ],
            "text/html": [
              "\n",
              "  <div id=\"df-51dc6859-be48-4a45-8b4e-235a22d2de90\">\n",
              "    <div class=\"colab-df-container\">\n",
              "      <div>\n",
              "<style scoped>\n",
              "    .dataframe tbody tr th:only-of-type {\n",
              "        vertical-align: middle;\n",
              "    }\n",
              "\n",
              "    .dataframe tbody tr th {\n",
              "        vertical-align: top;\n",
              "    }\n",
              "\n",
              "    .dataframe thead th {\n",
              "        text-align: right;\n",
              "    }\n",
              "</style>\n",
              "<table border=\"1\" class=\"dataframe\">\n",
              "  <thead>\n",
              "    <tr style=\"text-align: right;\">\n",
              "      <th></th>\n",
              "      <th>Id_customer</th>\n",
              "      <th>JK</th>\n",
              "      <th>KepemilikanMobil</th>\n",
              "      <th>KepemilikanProperti</th>\n",
              "      <th>JmlAnak</th>\n",
              "      <th>Pendapatan</th>\n",
              "      <th>TipePendapatan</th>\n",
              "      <th>TingkatPendidikan</th>\n",
              "      <th>StatusKeluarga</th>\n",
              "      <th>TipeRumah</th>\n",
              "      <th>FlagMobile</th>\n",
              "      <th>FlagWorkPhone</th>\n",
              "      <th>FlagPhone</th>\n",
              "      <th>Email</th>\n",
              "      <th>JmlAnggotaKeluarga</th>\n",
              "      <th>Age</th>\n",
              "      <th>Experience</th>\n",
              "      <th>Overdue</th>\n",
              "    </tr>\n",
              "  </thead>\n",
              "  <tbody>\n",
              "    <tr>\n",
              "      <th>0</th>\n",
              "      <td>5008804</td>\n",
              "      <td>Laki-laki</td>\n",
              "      <td>Ya</td>\n",
              "      <td>Ya</td>\n",
              "      <td>0</td>\n",
              "      <td>427500.0</td>\n",
              "      <td>Bekerja</td>\n",
              "      <td>PG</td>\n",
              "      <td>M</td>\n",
              "      <td>RA</td>\n",
              "      <td>1</td>\n",
              "      <td>1</td>\n",
              "      <td>0</td>\n",
              "      <td>0</td>\n",
              "      <td>2</td>\n",
              "      <td>33</td>\n",
              "      <td>12</td>\n",
              "      <td>1</td>\n",
              "    </tr>\n",
              "    <tr>\n",
              "      <th>1</th>\n",
              "      <td>5008805</td>\n",
              "      <td>Laki-laki</td>\n",
              "      <td>Ya</td>\n",
              "      <td>Ya</td>\n",
              "      <td>0</td>\n",
              "      <td>427500.0</td>\n",
              "      <td>Bekerja</td>\n",
              "      <td>PG</td>\n",
              "      <td>M</td>\n",
              "      <td>RA</td>\n",
              "      <td>1</td>\n",
              "      <td>1</td>\n",
              "      <td>0</td>\n",
              "      <td>0</td>\n",
              "      <td>2</td>\n",
              "      <td>33</td>\n",
              "      <td>12</td>\n",
              "      <td>1</td>\n",
              "    </tr>\n",
              "    <tr>\n",
              "      <th>2</th>\n",
              "      <td>5008806</td>\n",
              "      <td>Laki-laki</td>\n",
              "      <td>Ya</td>\n",
              "      <td>Ya</td>\n",
              "      <td>0</td>\n",
              "      <td>112500.0</td>\n",
              "      <td>Bekerja</td>\n",
              "      <td>G</td>\n",
              "      <td>M</td>\n",
              "      <td>MH</td>\n",
              "      <td>1</td>\n",
              "      <td>0</td>\n",
              "      <td>0</td>\n",
              "      <td>0</td>\n",
              "      <td>2</td>\n",
              "      <td>59</td>\n",
              "      <td>3</td>\n",
              "      <td>0</td>\n",
              "    </tr>\n",
              "    <tr>\n",
              "      <th>3</th>\n",
              "      <td>5008815</td>\n",
              "      <td>Laki-laki</td>\n",
              "      <td>Ya</td>\n",
              "      <td>Ya</td>\n",
              "      <td>0</td>\n",
              "      <td>270000.0</td>\n",
              "      <td>Bekerja</td>\n",
              "      <td>PG</td>\n",
              "      <td>M</td>\n",
              "      <td>MH</td>\n",
              "      <td>1</td>\n",
              "      <td>1</td>\n",
              "      <td>1</td>\n",
              "      <td>1</td>\n",
              "      <td>2</td>\n",
              "      <td>46</td>\n",
              "      <td>2</td>\n",
              "      <td>0</td>\n",
              "    </tr>\n",
              "    <tr>\n",
              "      <th>4</th>\n",
              "      <td>5112956</td>\n",
              "      <td>Laki-laki</td>\n",
              "      <td>Ya</td>\n",
              "      <td>Ya</td>\n",
              "      <td>0</td>\n",
              "      <td>270000.0</td>\n",
              "      <td>Bekerja</td>\n",
              "      <td>PG</td>\n",
              "      <td>M</td>\n",
              "      <td>MH</td>\n",
              "      <td>1</td>\n",
              "      <td>1</td>\n",
              "      <td>1</td>\n",
              "      <td>1</td>\n",
              "      <td>2</td>\n",
              "      <td>46</td>\n",
              "      <td>2</td>\n",
              "      <td>0</td>\n",
              "    </tr>\n",
              "    <tr>\n",
              "      <th>...</th>\n",
              "      <td>...</td>\n",
              "      <td>...</td>\n",
              "      <td>...</td>\n",
              "      <td>...</td>\n",
              "      <td>...</td>\n",
              "      <td>...</td>\n",
              "      <td>...</td>\n",
              "      <td>...</td>\n",
              "      <td>...</td>\n",
              "      <td>...</td>\n",
              "      <td>...</td>\n",
              "      <td>...</td>\n",
              "      <td>...</td>\n",
              "      <td>...</td>\n",
              "      <td>...</td>\n",
              "      <td>...</td>\n",
              "      <td>...</td>\n",
              "      <td>...</td>\n",
              "    </tr>\n",
              "    <tr>\n",
              "      <th>32905</th>\n",
              "      <td>5149055</td>\n",
              "      <td>Perempuan</td>\n",
              "      <td>Tidak</td>\n",
              "      <td>Ya</td>\n",
              "      <td>0</td>\n",
              "      <td>112500.0</td>\n",
              "      <td>Asosiasi komersial</td>\n",
              "      <td>G</td>\n",
              "      <td>M</td>\n",
              "      <td>MH</td>\n",
              "      <td>1</td>\n",
              "      <td>1</td>\n",
              "      <td>1</td>\n",
              "      <td>0</td>\n",
              "      <td>2</td>\n",
              "      <td>43</td>\n",
              "      <td>7</td>\n",
              "      <td>2</td>\n",
              "    </tr>\n",
              "    <tr>\n",
              "      <th>32906</th>\n",
              "      <td>5149056</td>\n",
              "      <td>Perempuan</td>\n",
              "      <td>Tidak</td>\n",
              "      <td>Ya</td>\n",
              "      <td>0</td>\n",
              "      <td>112500.0</td>\n",
              "      <td>Asosiasi komersial</td>\n",
              "      <td>G</td>\n",
              "      <td>M</td>\n",
              "      <td>MH</td>\n",
              "      <td>1</td>\n",
              "      <td>1</td>\n",
              "      <td>1</td>\n",
              "      <td>0</td>\n",
              "      <td>2</td>\n",
              "      <td>43</td>\n",
              "      <td>7</td>\n",
              "      <td>2</td>\n",
              "    </tr>\n",
              "    <tr>\n",
              "      <th>32907</th>\n",
              "      <td>5149834</td>\n",
              "      <td>Perempuan</td>\n",
              "      <td>Tidak</td>\n",
              "      <td>Ya</td>\n",
              "      <td>0</td>\n",
              "      <td>157500.0</td>\n",
              "      <td>Asosiasi komersial</td>\n",
              "      <td>PG</td>\n",
              "      <td>M</td>\n",
              "      <td>MH</td>\n",
              "      <td>1</td>\n",
              "      <td>0</td>\n",
              "      <td>1</td>\n",
              "      <td>1</td>\n",
              "      <td>2</td>\n",
              "      <td>34</td>\n",
              "      <td>4</td>\n",
              "      <td>5</td>\n",
              "    </tr>\n",
              "    <tr>\n",
              "      <th>32908</th>\n",
              "      <td>5149838</td>\n",
              "      <td>Perempuan</td>\n",
              "      <td>Tidak</td>\n",
              "      <td>Ya</td>\n",
              "      <td>0</td>\n",
              "      <td>157500.0</td>\n",
              "      <td>Pensioner</td>\n",
              "      <td>PG</td>\n",
              "      <td>M</td>\n",
              "      <td>MH</td>\n",
              "      <td>1</td>\n",
              "      <td>0</td>\n",
              "      <td>1</td>\n",
              "      <td>1</td>\n",
              "      <td>2</td>\n",
              "      <td>34</td>\n",
              "      <td>4</td>\n",
              "      <td>5</td>\n",
              "    </tr>\n",
              "    <tr>\n",
              "      <th>32909</th>\n",
              "      <td>5150049</td>\n",
              "      <td>Perempuan</td>\n",
              "      <td>Tidak</td>\n",
              "      <td>Ya</td>\n",
              "      <td>0</td>\n",
              "      <td>283500.0</td>\n",
              "      <td>Bekerja</td>\n",
              "      <td>G</td>\n",
              "      <td>M</td>\n",
              "      <td>MH</td>\n",
              "      <td>1</td>\n",
              "      <td>0</td>\n",
              "      <td>0</td>\n",
              "      <td>0</td>\n",
              "      <td>2</td>\n",
              "      <td>49</td>\n",
              "      <td>2</td>\n",
              "      <td>2</td>\n",
              "    </tr>\n",
              "  </tbody>\n",
              "</table>\n",
              "<p>32910 rows × 18 columns</p>\n",
              "</div>\n",
              "      <button class=\"colab-df-convert\" onclick=\"convertToInteractive('df-51dc6859-be48-4a45-8b4e-235a22d2de90')\"\n",
              "              title=\"Convert this dataframe to an interactive table.\"\n",
              "              style=\"display:none;\">\n",
              "        \n",
              "  <svg xmlns=\"http://www.w3.org/2000/svg\" height=\"24px\"viewBox=\"0 0 24 24\"\n",
              "       width=\"24px\">\n",
              "    <path d=\"M0 0h24v24H0V0z\" fill=\"none\"/>\n",
              "    <path d=\"M18.56 5.44l.94 2.06.94-2.06 2.06-.94-2.06-.94-.94-2.06-.94 2.06-2.06.94zm-11 1L8.5 8.5l.94-2.06 2.06-.94-2.06-.94L8.5 2.5l-.94 2.06-2.06.94zm10 10l.94 2.06.94-2.06 2.06-.94-2.06-.94-.94-2.06-.94 2.06-2.06.94z\"/><path d=\"M17.41 7.96l-1.37-1.37c-.4-.4-.92-.59-1.43-.59-.52 0-1.04.2-1.43.59L10.3 9.45l-7.72 7.72c-.78.78-.78 2.05 0 2.83L4 21.41c.39.39.9.59 1.41.59.51 0 1.02-.2 1.41-.59l7.78-7.78 2.81-2.81c.8-.78.8-2.07 0-2.86zM5.41 20L4 18.59l7.72-7.72 1.47 1.35L5.41 20z\"/>\n",
              "  </svg>\n",
              "      </button>\n",
              "      \n",
              "  <style>\n",
              "    .colab-df-container {\n",
              "      display:flex;\n",
              "      flex-wrap:wrap;\n",
              "      gap: 12px;\n",
              "    }\n",
              "\n",
              "    .colab-df-convert {\n",
              "      background-color: #E8F0FE;\n",
              "      border: none;\n",
              "      border-radius: 50%;\n",
              "      cursor: pointer;\n",
              "      display: none;\n",
              "      fill: #1967D2;\n",
              "      height: 32px;\n",
              "      padding: 0 0 0 0;\n",
              "      width: 32px;\n",
              "    }\n",
              "\n",
              "    .colab-df-convert:hover {\n",
              "      background-color: #E2EBFA;\n",
              "      box-shadow: 0px 1px 2px rgba(60, 64, 67, 0.3), 0px 1px 3px 1px rgba(60, 64, 67, 0.15);\n",
              "      fill: #174EA6;\n",
              "    }\n",
              "\n",
              "    [theme=dark] .colab-df-convert {\n",
              "      background-color: #3B4455;\n",
              "      fill: #D2E3FC;\n",
              "    }\n",
              "\n",
              "    [theme=dark] .colab-df-convert:hover {\n",
              "      background-color: #434B5C;\n",
              "      box-shadow: 0px 1px 3px 1px rgba(0, 0, 0, 0.15);\n",
              "      filter: drop-shadow(0px 1px 2px rgba(0, 0, 0, 0.3));\n",
              "      fill: #FFFFFF;\n",
              "    }\n",
              "  </style>\n",
              "\n",
              "      <script>\n",
              "        const buttonEl =\n",
              "          document.querySelector('#df-51dc6859-be48-4a45-8b4e-235a22d2de90 button.colab-df-convert');\n",
              "        buttonEl.style.display =\n",
              "          google.colab.kernel.accessAllowed ? 'block' : 'none';\n",
              "\n",
              "        async function convertToInteractive(key) {\n",
              "          const element = document.querySelector('#df-51dc6859-be48-4a45-8b4e-235a22d2de90');\n",
              "          const dataTable =\n",
              "            await google.colab.kernel.invokeFunction('convertToInteractive',\n",
              "                                                     [key], {});\n",
              "          if (!dataTable) return;\n",
              "\n",
              "          const docLinkHtml = 'Like what you see? Visit the ' +\n",
              "            '<a target=\"_blank\" href=https://colab.research.google.com/notebooks/data_table.ipynb>data table notebook</a>'\n",
              "            + ' to learn more about interactive tables.';\n",
              "          element.innerHTML = '';\n",
              "          dataTable['output_type'] = 'display_data';\n",
              "          await google.colab.output.renderOutput(dataTable, element);\n",
              "          const docLink = document.createElement('div');\n",
              "          docLink.innerHTML = docLinkHtml;\n",
              "          element.appendChild(docLink);\n",
              "        }\n",
              "      </script>\n",
              "    </div>\n",
              "  </div>\n",
              "  "
            ]
          },
          "metadata": {},
          "execution_count": 41
        }
      ],
      "source": [
        "application_history = application_all_2.merge(credit_history_2, on='Id_customer', validate = 'one_to_one')\n",
        "application_history"
      ]
    },
    {
      "cell_type": "code",
      "execution_count": null,
      "metadata": {
        "colab": {
          "base_uri": "https://localhost:8080/"
        },
        "id": "hhsvfh8svi-T",
        "outputId": "67c24c0b-bb70-417f-940b-96c735ad5bf5"
      },
      "outputs": [
        {
          "output_type": "stream",
          "name": "stdout",
          "text": [
            "<class 'pandas.core.frame.DataFrame'>\n",
            "Int64Index: 32910 entries, 0 to 32909\n",
            "Data columns (total 18 columns):\n",
            " #   Column               Non-Null Count  Dtype  \n",
            "---  ------               --------------  -----  \n",
            " 0   Id_customer          32910 non-null  int64  \n",
            " 1   JK                   32910 non-null  object \n",
            " 2   KepemilikanMobil     32910 non-null  object \n",
            " 3   KepemilikanProperti  32910 non-null  object \n",
            " 4   JmlAnak              32910 non-null  int64  \n",
            " 5   Pendapatan           32910 non-null  float64\n",
            " 6   TipePendapatan       32910 non-null  object \n",
            " 7   TingkatPendidikan    32910 non-null  object \n",
            " 8   StatusKeluarga       32910 non-null  object \n",
            " 9   TipeRumah            32910 non-null  object \n",
            " 10  FlagMobile           32910 non-null  int64  \n",
            " 11  FlagWorkPhone        32910 non-null  int64  \n",
            " 12  FlagPhone            32910 non-null  int64  \n",
            " 13  Email                32910 non-null  int64  \n",
            " 14  JmlAnggotaKeluarga   32910 non-null  int64  \n",
            " 15  Age                  32910 non-null  int64  \n",
            " 16  Experience           32910 non-null  int64  \n",
            " 17  Overdue              32910 non-null  object \n",
            "dtypes: float64(1), int64(9), object(8)\n",
            "memory usage: 4.8+ MB\n"
          ]
        }
      ],
      "source": [
        "application_history.info()"
      ]
    },
    {
      "cell_type": "code",
      "source": [
        "msno.bar(application_history)\n",
        "plt.show()"
      ],
      "metadata": {
        "colab": {
          "base_uri": "https://localhost:8080/",
          "height": 717
        },
        "id": "xb2tVBq45NpF",
        "outputId": "6bf3cb0c-06a5-4da0-e48b-18f94d08745f"
      },
      "execution_count": null,
      "outputs": [
        {
          "output_type": "display_data",
          "data": {
            "text/plain": [
              "<Figure size 1800x720 with 3 Axes>"
            ],
            "image/png": "[encoded data removed]"
          },
          "metadata": {
            "needs_background": "light"
          }
        }
      ]
    },
    {
      "cell_type": "code",
      "execution_count": null,
      "metadata": {
        "colab": {
          "base_uri": "https://localhost:8080/",
          "height": 300
        },
        "id": "qfLSvGnG7Vdf",
        "outputId": "1f9bbc30-15b5-4f14-8fb4-b7edc2beb5ec"
      },
      "outputs": [
        {
          "output_type": "execute_result",
          "data": {
            "text/plain": [
              "        Id_customer       JmlAnak    Pendapatan  FlagMobile  FlagWorkPhone  \\\n",
              "count  3.291000e+04  32910.000000  3.291000e+04     32910.0   32910.000000   \n",
              "mean   5.077989e+06      0.427864  1.858059e+05         1.0       0.224005   \n",
              "std    4.186922e+04      0.741831  1.011435e+05         0.0       0.416932   \n",
              "min    5.008804e+06      0.000000  2.700000e+04         1.0       0.000000   \n",
              "25%    5.041980e+06      0.000000  1.215000e+05         1.0       0.000000   \n",
              "50%    5.069434e+06      0.000000  1.575000e+05         1.0       0.000000   \n",
              "75%    5.114626e+06      1.000000  2.250000e+05         1.0       0.000000   \n",
              "max    5.150487e+06     19.000000  1.575000e+06         1.0       1.000000   \n",
              "\n",
              "          FlagPhone         Email  JmlAnggotaKeluarga           Age  \\\n",
              "count  32910.000000  32910.000000        32910.000000  32910.000000   \n",
              "mean       0.292404      0.090550            2.194926     43.858280   \n",
              "std        0.454874      0.286972            0.911178     11.557325   \n",
              "min        0.000000      0.000000            1.000000     21.000000   \n",
              "25%        0.000000      0.000000            2.000000     34.000000   \n",
              "50%        0.000000      0.000000            2.000000     43.000000   \n",
              "75%        1.000000      0.000000            3.000000     53.000000   \n",
              "max        1.000000      1.000000           20.000000     69.000000   \n",
              "\n",
              "         Experience  \n",
              "count  32910.000000  \n",
              "mean     176.563810  \n",
              "std      373.621133  \n",
              "min        0.000000  \n",
              "25%        3.000000  \n",
              "50%        7.000000  \n",
              "75%       16.000000  \n",
              "max     1001.000000  "
            ],
            "text/html": [
              "\n",
              "  <div id=\"df-89a0d9f8-c40a-4371-96e9-231c5adb7fc8\">\n",
              "    <div class=\"colab-df-container\">\n",
              "      <div>\n",
              "<style scoped>\n",
              "    .dataframe tbody tr th:only-of-type {\n",
              "        vertical-align: middle;\n",
              "    }\n",
              "\n",
              "    .dataframe tbody tr th {\n",
              "        vertical-align: top;\n",
              "    }\n",
              "\n",
              "    .dataframe thead th {\n",
              "        text-align: right;\n",
              "    }\n",
              "</style>\n",
              "<table border=\"1\" class=\"dataframe\">\n",
              "  <thead>\n",
              "    <tr style=\"text-align: right;\">\n",
              "      <th></th>\n",
              "      <th>Id_customer</th>\n",
              "      <th>JmlAnak</th>\n",
              "      <th>Pendapatan</th>\n",
              "      <th>FlagMobile</th>\n",
              "      <th>FlagWorkPhone</th>\n",
              "      <th>FlagPhone</th>\n",
              "      <th>Email</th>\n",
              "      <th>JmlAnggotaKeluarga</th>\n",
              "      <th>Age</th>\n",
              "      <th>Experience</th>\n",
              "    </tr>\n",
              "  </thead>\n",
              "  <tbody>\n",
              "    <tr>\n",
              "      <th>count</th>\n",
              "      <td>3.291000e+04</td>\n",
              "      <td>32910.000000</td>\n",
              "      <td>3.291000e+04</td>\n",
              "      <td>32910.0</td>\n",
              "      <td>32910.000000</td>\n",
              "      <td>32910.000000</td>\n",
              "      <td>32910.000000</td>\n",
              "      <td>32910.000000</td>\n",
              "      <td>32910.000000</td>\n",
              "      <td>32910.000000</td>\n",
              "    </tr>\n",
              "    <tr>\n",
              "      <th>mean</th>\n",
              "      <td>5.077989e+06</td>\n",
              "      <td>0.427864</td>\n",
              "      <td>1.858059e+05</td>\n",
              "      <td>1.0</td>\n",
              "      <td>0.224005</td>\n",
              "      <td>0.292404</td>\n",
              "      <td>0.090550</td>\n",
              "      <td>2.194926</td>\n",
              "      <td>43.858280</td>\n",
              "      <td>176.563810</td>\n",
              "    </tr>\n",
              "    <tr>\n",
              "      <th>std</th>\n",
              "      <td>4.186922e+04</td>\n",
              "      <td>0.741831</td>\n",
              "      <td>1.011435e+05</td>\n",
              "      <td>0.0</td>\n",
              "      <td>0.416932</td>\n",
              "      <td>0.454874</td>\n",
              "      <td>0.286972</td>\n",
              "      <td>0.911178</td>\n",
              "      <td>11.557325</td>\n",
              "      <td>373.621133</td>\n",
              "    </tr>\n",
              "    <tr>\n",
              "      <th>min</th>\n",
              "      <td>5.008804e+06</td>\n",
              "      <td>0.000000</td>\n",
              "      <td>2.700000e+04</td>\n",
              "      <td>1.0</td>\n",
              "      <td>0.000000</td>\n",
              "      <td>0.000000</td>\n",
              "      <td>0.000000</td>\n",
              "      <td>1.000000</td>\n",
              "      <td>21.000000</td>\n",
              "      <td>0.000000</td>\n",
              "    </tr>\n",
              "    <tr>\n",
              "      <th>25%</th>\n",
              "      <td>5.041980e+06</td>\n",
              "      <td>0.000000</td>\n",
              "      <td>1.215000e+05</td>\n",
              "      <td>1.0</td>\n",
              "      <td>0.000000</td>\n",
              "      <td>0.000000</td>\n",
              "      <td>0.000000</td>\n",
              "      <td>2.000000</td>\n",
              "      <td>34.000000</td>\n",
              "      <td>3.000000</td>\n",
              "    </tr>\n",
              "    <tr>\n",
              "      <th>50%</th>\n",
              "      <td>5.069434e+06</td>\n",
              "      <td>0.000000</td>\n",
              "      <td>1.575000e+05</td>\n",
              "      <td>1.0</td>\n",
              "      <td>0.000000</td>\n",
              "      <td>0.000000</td>\n",
              "      <td>0.000000</td>\n",
              "      <td>2.000000</td>\n",
              "      <td>43.000000</td>\n",
              "      <td>7.000000</td>\n",
              "    </tr>\n",
              "    <tr>\n",
              "      <th>75%</th>\n",
              "      <td>5.114626e+06</td>\n",
              "      <td>1.000000</td>\n",
              "      <td>2.250000e+05</td>\n",
              "      <td>1.0</td>\n",
              "      <td>0.000000</td>\n",
              "      <td>1.000000</td>\n",
              "      <td>0.000000</td>\n",
              "      <td>3.000000</td>\n",
              "      <td>53.000000</td>\n",
              "      <td>16.000000</td>\n",
              "    </tr>\n",
              "    <tr>\n",
              "      <th>max</th>\n",
              "      <td>5.150487e+06</td>\n",
              "      <td>19.000000</td>\n",
              "      <td>1.575000e+06</td>\n",
              "      <td>1.0</td>\n",
              "      <td>1.000000</td>\n",
              "      <td>1.000000</td>\n",
              "      <td>1.000000</td>\n",
              "      <td>20.000000</td>\n",
              "      <td>69.000000</td>\n",
              "      <td>1001.000000</td>\n",
              "    </tr>\n",
              "  </tbody>\n",
              "</table>\n",
              "</div>\n",
              "      <button class=\"colab-df-convert\" onclick=\"convertToInteractive('df-89a0d9f8-c40a-4371-96e9-231c5adb7fc8')\"\n",
              "              title=\"Convert this dataframe to an interactive table.\"\n",
              "              style=\"display:none;\">\n",
              "        \n",
              "  <svg xmlns=\"http://www.w3.org/2000/svg\" height=\"24px\"viewBox=\"0 0 24 24\"\n",
              "       width=\"24px\">\n",
              "    <path d=\"M0 0h24v24H0V0z\" fill=\"none\"/>\n",
              "    <path d=\"M18.56 5.44l.94 2.06.94-2.06 2.06-.94-2.06-.94-.94-2.06-.94 2.06-2.06.94zm-11 1L8.5 8.5l.94-2.06 2.06-.94-2.06-.94L8.5 2.5l-.94 2.06-2.06.94zm10 10l.94 2.06.94-2.06 2.06-.94-2.06-.94-.94-2.06-.94 2.06-2.06.94z\"/><path d=\"M17.41 7.96l-1.37-1.37c-.4-.4-.92-.59-1.43-.59-.52 0-1.04.2-1.43.59L10.3 9.45l-7.72 7.72c-.78.78-.78 2.05 0 2.83L4 21.41c.39.39.9.59 1.41.59.51 0 1.02-.2 1.41-.59l7.78-7.78 2.81-2.81c.8-.78.8-2.07 0-2.86zM5.41 20L4 18.59l7.72-7.72 1.47 1.35L5.41 20z\"/>\n",
              "  </svg>\n",
              "      </button>\n",
              "      \n",
              "  <style>\n",
              "    .colab-df-container {\n",
              "      display:flex;\n",
              "      flex-wrap:wrap;\n",
              "      gap: 12px;\n",
              "    }\n",
              "\n",
              "    .colab-df-convert {\n",
              "      background-color: #E8F0FE;\n",
              "      border: none;\n",
              "      border-radius: 50%;\n",
              "      cursor: pointer;\n",
              "      display: none;\n",
              "      fill: #1967D2;\n",
              "      height: 32px;\n",
              "      padding: 0 0 0 0;\n",
              "      width: 32px;\n",
              "    }\n",
              "\n",
              "    .colab-df-convert:hover {\n",
              "      background-color: #E2EBFA;\n",
              "      box-shadow: 0px 1px 2px rgba(60, 64, 67, 0.3), 0px 1px 3px 1px rgba(60, 64, 67, 0.15);\n",
              "      fill: #174EA6;\n",
              "    }\n",
              "\n",
              "    [theme=dark] .colab-df-convert {\n",
              "      background-color: #3B4455;\n",
              "      fill: #D2E3FC;\n",
              "    }\n",
              "\n",
              "    [theme=dark] .colab-df-convert:hover {\n",
              "      background-color: #434B5C;\n",
              "      box-shadow: 0px 1px 3px 1px rgba(0, 0, 0, 0.15);\n",
              "      filter: drop-shadow(0px 1px 2px rgba(0, 0, 0, 0.3));\n",
              "      fill: #FFFFFF;\n",
              "    }\n",
              "  </style>\n",
              "\n",
              "      <script>\n",
              "        const buttonEl =\n",
              "          document.querySelector('#df-89a0d9f8-c40a-4371-96e9-231c5adb7fc8 button.colab-df-convert');\n",
              "        buttonEl.style.display =\n",
              "          google.colab.kernel.accessAllowed ? 'block' : 'none';\n",
              "\n",
              "        async function convertToInteractive(key) {\n",
              "          const element = document.querySelector('#df-89a0d9f8-c40a-4371-96e9-231c5adb7fc8');\n",
              "          const dataTable =\n",
              "            await google.colab.kernel.invokeFunction('convertToInteractive',\n",
              "                                                     [key], {});\n",
              "          if (!dataTable) return;\n",
              "\n",
              "          const docLinkHtml = 'Like what you see? Visit the ' +\n",
              "            '<a target=\"_blank\" href=https://colab.research.google.com/notebooks/data_table.ipynb>data table notebook</a>'\n",
              "            + ' to learn more about interactive tables.';\n",
              "          element.innerHTML = '';\n",
              "          dataTable['output_type'] = 'display_data';\n",
              "          await google.colab.output.renderOutput(dataTable, element);\n",
              "          const docLink = document.createElement('div');\n",
              "          docLink.innerHTML = docLinkHtml;\n",
              "          element.appendChild(docLink);\n",
              "        }\n",
              "      </script>\n",
              "    </div>\n",
              "  </div>\n",
              "  "
            ]
          },
          "metadata": {},
          "execution_count": 43
        }
      ],
      "source": [
        "application_history.describe()"
      ]
    },
    {
      "cell_type": "code",
      "execution_count": null,
      "metadata": {
        "colab": {
          "base_uri": "https://localhost:8080/"
        },
        "id": "7_P8hEBwJlr8",
        "outputId": "d9758f0d-bb7a-42c7-9a2b-63b9ec23f950"
      },
      "outputs": [
        {
          "output_type": "execute_result",
          "data": {
            "text/plain": [
              "0    28696\n",
              "1     3609\n",
              "2      306\n",
              "5      178\n",
              "3       75\n",
              "4       46\n",
              "Name: Overdue, dtype: int64"
            ]
          },
          "metadata": {},
          "execution_count": 44
        }
      ],
      "source": [
        "application_history['Overdue'].value_counts()"
      ]
    },
    {
      "cell_type": "code",
      "execution_count": null,
      "metadata": {
        "id": "Es1bEjS5zE2N"
      },
      "outputs": [],
      "source": [
        "application_history_2 = application_history.drop('Id_customer', axis = 1)"
      ]
    },
    {
      "cell_type": "code",
      "execution_count": null,
      "metadata": {
        "colab": {
          "base_uri": "https://localhost:8080/"
        },
        "id": "XWt1hCbLzO58",
        "outputId": "f7ffcd95-f6d7-4240-c5ce-5a6ecd01ffce"
      },
      "outputs": [
        {
          "output_type": "execute_result",
          "data": {
            "text/plain": [
              "22087"
            ]
          },
          "metadata": {},
          "execution_count": 46
        }
      ],
      "source": [
        "#Check for duplicate\n",
        "application_history_2.duplicated(keep='first').sum()"
      ]
    },
    {
      "cell_type": "code",
      "execution_count": null,
      "metadata": {
        "id": "qn_PsJlYzWSH"
      },
      "outputs": [],
      "source": [
        "application_history_3 = application_history_2.drop_duplicates(keep='first')"
      ]
    },
    {
      "cell_type": "code",
      "execution_count": null,
      "metadata": {
        "colab": {
          "base_uri": "https://localhost:8080/"
        },
        "id": "IJQv-wgC1cky",
        "outputId": "fe34cf68-dc93-42b6-d726-b2c2843d02c2"
      },
      "outputs": [
        {
          "output_type": "stream",
          "name": "stdout",
          "text": [
            "<class 'pandas.core.frame.DataFrame'>\n",
            "Int64Index: 10823 entries, 0 to 32909\n",
            "Data columns (total 17 columns):\n",
            " #   Column               Non-Null Count  Dtype  \n",
            "---  ------               --------------  -----  \n",
            " 0   JK                   10823 non-null  object \n",
            " 1   KepemilikanMobil     10823 non-null  object \n",
            " 2   KepemilikanProperti  10823 non-null  object \n",
            " 3   JmlAnak              10823 non-null  int64  \n",
            " 4   Pendapatan           10823 non-null  float64\n",
            " 5   TipePendapatan       10823 non-null  object \n",
            " 6   TingkatPendidikan    10823 non-null  object \n",
            " 7   StatusKeluarga       10823 non-null  object \n",
            " 8   TipeRumah            10823 non-null  object \n",
            " 9   FlagMobile           10823 non-null  int64  \n",
            " 10  FlagWorkPhone        10823 non-null  int64  \n",
            " 11  FlagPhone            10823 non-null  int64  \n",
            " 12  Email                10823 non-null  int64  \n",
            " 13  JmlAnggotaKeluarga   10823 non-null  int64  \n",
            " 14  Age                  10823 non-null  int64  \n",
            " 15  Experience           10823 non-null  int64  \n",
            " 16  Overdue              10823 non-null  object \n",
            "dtypes: float64(1), int64(8), object(8)\n",
            "memory usage: 1.5+ MB\n"
          ]
        }
      ],
      "source": [
        "application_history_3.info()"
      ]
    },
    {
      "cell_type": "code",
      "source": [
        "msno.bar(application_history_3)\n",
        "plt.show()"
      ],
      "metadata": {
        "colab": {
          "base_uri": "https://localhost:8080/",
          "height": 722
        },
        "id": "T_AWgIbl6As9",
        "outputId": "5735ad14-09b9-4e02-b187-04e303f6f0d4"
      },
      "execution_count": null,
      "outputs": [
        {
          "output_type": "display_data",
          "data": {
            "text/plain": [
              "<Figure size 1800x720 with 3 Axes>"
            ],
            "image/png": "[encoded data removed]"
          },
          "metadata": {
            "needs_background": "light"
          }
        }
      ]
    },
    {
      "cell_type": "markdown",
      "metadata": {
        "id": "h-1zgkQoA_od"
      },
      "source": [
        "### Complete The Application History Table"
      ]
    },
    {
      "cell_type": "code",
      "execution_count": null,
      "metadata": {
        "colab": {
          "base_uri": "https://localhost:8080/"
        },
        "id": "tY4AXIpYZ7LB",
        "outputId": "0804f7ed-8165-4a60-8eaf-19113b537394"
      },
      "outputs": [
        {
          "output_type": "stream",
          "name": "stderr",
          "text": [
            "<ipython-input-57-770ef70efbc7>:1: SettingWithCopyWarning: \n",
            "A value is trying to be set on a copy of a slice from a DataFrame.\n",
            "Try using .loc[row_indexer,col_indexer] = value instead\n",
            "\n",
            "See the caveats in the documentation: https://pandas.pydata.org/pandas-docs/stable/user_guide/indexing.html#returning-a-view-versus-a-copy\n",
            "  application_history_3['status'] = np.where(application_history_3['Overdue'].str.contains('0'), 0, 1)\n"
          ]
        }
      ],
      "source": [
        "application_history_3['status'] = np.where(application_history_3['Overdue'].str.contains('0'), 0, 1)"
      ]
    },
    {
      "cell_type": "code",
      "execution_count": null,
      "metadata": {
        "colab": {
          "base_uri": "https://localhost:8080/"
        },
        "id": "FTatLzZxaOlg",
        "outputId": "35663f93-0dd5-4286-a664-dffaa2ac0037"
      },
      "outputs": [
        {
          "output_type": "execute_result",
          "data": {
            "text/plain": [
              "0    8333\n",
              "1    2490\n",
              "Name: status, dtype: int64"
            ]
          },
          "metadata": {},
          "execution_count": 58
        }
      ],
      "source": [
        "application_history_3['status'].value_counts()"
      ]
    },
    {
      "cell_type": "code",
      "execution_count": null,
      "metadata": {
        "colab": {
          "base_uri": "https://localhost:8080/",
          "height": 357
        },
        "id": "GjAWLsVZeSZb",
        "outputId": "4e2609d6-d555-4ae0-94bd-d48e51e2a358"
      },
      "outputs": [
        {
          "output_type": "execute_result",
          "data": {
            "text/plain": [
              "           JK KepemilikanMobil KepemilikanProperti  JmlAnak  Pendapatan  \\\n",
              "0   Laki-laki               Ya                  Ya        0    427500.0   \n",
              "2   Laki-laki               Ya                  Ya        0    112500.0   \n",
              "3   Laki-laki               Ya                  Ya        0    270000.0   \n",
              "5   Laki-laki               Ya                  Ya        0    135000.0   \n",
              "10  Laki-laki               Ya                  Ya        3    270000.0   \n",
              "\n",
              "        TipePendapatan TingkatPendidikan StatusKeluarga TipeRumah  FlagMobile  \\\n",
              "0              Bekerja                PG              M        RA           1   \n",
              "2              Bekerja                 G              M        MH           1   \n",
              "3              Bekerja                PG              M        MH           1   \n",
              "5   Asosiasi komersial                 G              M        MH           1   \n",
              "10             Bekerja                 G              M        MH           1   \n",
              "\n",
              "    FlagWorkPhone  FlagPhone  Email  JmlAnggotaKeluarga  Age  Experience  \\\n",
              "0               1          0      0                   2   33          12   \n",
              "2               0          0      0                   2   59           3   \n",
              "3               1          1      1                   2   46           2   \n",
              "5               0          0      0                   2   49           3   \n",
              "10              0          0      0                   5   35           3   \n",
              "\n",
              "   Overdue  status  \n",
              "0        1       1  \n",
              "2        0       0  \n",
              "3        0       0  \n",
              "5        0       0  \n",
              "10       0       0  "
            ],
            "text/html": [
              "\n",
              "  <div id=\"df-df9b324e-ccbd-4888-b998-7fc752acd2a9\">\n",
              "    <div class=\"colab-df-container\">\n",
              "      <div>\n",
              "<style scoped>\n",
              "    .dataframe tbody tr th:only-of-type {\n",
              "        vertical-align: middle;\n",
              "    }\n",
              "\n",
              "    .dataframe tbody tr th {\n",
              "        vertical-align: top;\n",
              "    }\n",
              "\n",
              "    .dataframe thead th {\n",
              "        text-align: right;\n",
              "    }\n",
              "</style>\n",
              "<table border=\"1\" class=\"dataframe\">\n",
              "  <thead>\n",
              "    <tr style=\"text-align: right;\">\n",
              "      <th></th>\n",
              "      <th>JK</th>\n",
              "      <th>KepemilikanMobil</th>\n",
              "      <th>KepemilikanProperti</th>\n",
              "      <th>JmlAnak</th>\n",
              "      <th>Pendapatan</th>\n",
              "      <th>TipePendapatan</th>\n",
              "      <th>TingkatPendidikan</th>\n",
              "      <th>StatusKeluarga</th>\n",
              "      <th>TipeRumah</th>\n",
              "      <th>FlagMobile</th>\n",
              "      <th>FlagWorkPhone</th>\n",
              "      <th>FlagPhone</th>\n",
              "      <th>Email</th>\n",
              "      <th>JmlAnggotaKeluarga</th>\n",
              "      <th>Age</th>\n",
              "      <th>Experience</th>\n",
              "      <th>Overdue</th>\n",
              "      <th>status</th>\n",
              "    </tr>\n",
              "  </thead>\n",
              "  <tbody>\n",
              "    <tr>\n",
              "      <th>0</th>\n",
              "      <td>Laki-laki</td>\n",
              "      <td>Ya</td>\n",
              "      <td>Ya</td>\n",
              "      <td>0</td>\n",
              "      <td>427500.0</td>\n",
              "      <td>Bekerja</td>\n",
              "      <td>PG</td>\n",
              "      <td>M</td>\n",
              "      <td>RA</td>\n",
              "      <td>1</td>\n",
              "      <td>1</td>\n",
              "      <td>0</td>\n",
              "      <td>0</td>\n",
              "      <td>2</td>\n",
              "      <td>33</td>\n",
              "      <td>12</td>\n",
              "      <td>1</td>\n",
              "      <td>1</td>\n",
              "    </tr>\n",
              "    <tr>\n",
              "      <th>2</th>\n",
              "      <td>Laki-laki</td>\n",
              "      <td>Ya</td>\n",
              "      <td>Ya</td>\n",
              "      <td>0</td>\n",
              "      <td>112500.0</td>\n",
              "      <td>Bekerja</td>\n",
              "      <td>G</td>\n",
              "      <td>M</td>\n",
              "      <td>MH</td>\n",
              "      <td>1</td>\n",
              "      <td>0</td>\n",
              "      <td>0</td>\n",
              "      <td>0</td>\n",
              "      <td>2</td>\n",
              "      <td>59</td>\n",
              "      <td>3</td>\n",
              "      <td>0</td>\n",
              "      <td>0</td>\n",
              "    </tr>\n",
              "    <tr>\n",
              "      <th>3</th>\n",
              "      <td>Laki-laki</td>\n",
              "      <td>Ya</td>\n",
              "      <td>Ya</td>\n",
              "      <td>0</td>\n",
              "      <td>270000.0</td>\n",
              "      <td>Bekerja</td>\n",
              "      <td>PG</td>\n",
              "      <td>M</td>\n",
              "      <td>MH</td>\n",
              "      <td>1</td>\n",
              "      <td>1</td>\n",
              "      <td>1</td>\n",
              "      <td>1</td>\n",
              "      <td>2</td>\n",
              "      <td>46</td>\n",
              "      <td>2</td>\n",
              "      <td>0</td>\n",
              "      <td>0</td>\n",
              "    </tr>\n",
              "    <tr>\n",
              "      <th>5</th>\n",
              "      <td>Laki-laki</td>\n",
              "      <td>Ya</td>\n",
              "      <td>Ya</td>\n",
              "      <td>0</td>\n",
              "      <td>135000.0</td>\n",
              "      <td>Asosiasi komersial</td>\n",
              "      <td>G</td>\n",
              "      <td>M</td>\n",
              "      <td>MH</td>\n",
              "      <td>1</td>\n",
              "      <td>0</td>\n",
              "      <td>0</td>\n",
              "      <td>0</td>\n",
              "      <td>2</td>\n",
              "      <td>49</td>\n",
              "      <td>3</td>\n",
              "      <td>0</td>\n",
              "      <td>0</td>\n",
              "    </tr>\n",
              "    <tr>\n",
              "      <th>10</th>\n",
              "      <td>Laki-laki</td>\n",
              "      <td>Ya</td>\n",
              "      <td>Ya</td>\n",
              "      <td>3</td>\n",
              "      <td>270000.0</td>\n",
              "      <td>Bekerja</td>\n",
              "      <td>G</td>\n",
              "      <td>M</td>\n",
              "      <td>MH</td>\n",
              "      <td>1</td>\n",
              "      <td>0</td>\n",
              "      <td>0</td>\n",
              "      <td>0</td>\n",
              "      <td>5</td>\n",
              "      <td>35</td>\n",
              "      <td>3</td>\n",
              "      <td>0</td>\n",
              "      <td>0</td>\n",
              "    </tr>\n",
              "  </tbody>\n",
              "</table>\n",
              "</div>\n",
              "      <button class=\"colab-df-convert\" onclick=\"convertToInteractive('df-df9b324e-ccbd-4888-b998-7fc752acd2a9')\"\n",
              "              title=\"Convert this dataframe to an interactive table.\"\n",
              "              style=\"display:none;\">\n",
              "        \n",
              "  <svg xmlns=\"http://www.w3.org/2000/svg\" height=\"24px\"viewBox=\"0 0 24 24\"\n",
              "       width=\"24px\">\n",
              "    <path d=\"M0 0h24v24H0V0z\" fill=\"none\"/>\n",
              "    <path d=\"M18.56 5.44l.94 2.06.94-2.06 2.06-.94-2.06-.94-.94-2.06-.94 2.06-2.06.94zm-11 1L8.5 8.5l.94-2.06 2.06-.94-2.06-.94L8.5 2.5l-.94 2.06-2.06.94zm10 10l.94 2.06.94-2.06 2.06-.94-2.06-.94-.94-2.06-.94 2.06-2.06.94z\"/><path d=\"M17.41 7.96l-1.37-1.37c-.4-.4-.92-.59-1.43-.59-.52 0-1.04.2-1.43.59L10.3 9.45l-7.72 7.72c-.78.78-.78 2.05 0 2.83L4 21.41c.39.39.9.59 1.41.59.51 0 1.02-.2 1.41-.59l7.78-7.78 2.81-2.81c.8-.78.8-2.07 0-2.86zM5.41 20L4 18.59l7.72-7.72 1.47 1.35L5.41 20z\"/>\n",
              "  </svg>\n",
              "      </button>\n",
              "      \n",
              "  <style>\n",
              "    .colab-df-container {\n",
              "      display:flex;\n",
              "      flex-wrap:wrap;\n",
              "      gap: 12px;\n",
              "    }\n",
              "\n",
              "    .colab-df-convert {\n",
              "      background-color: #E8F0FE;\n",
              "      border: none;\n",
              "      border-radius: 50%;\n",
              "      cursor: pointer;\n",
              "      display: none;\n",
              "      fill: #1967D2;\n",
              "      height: 32px;\n",
              "      padding: 0 0 0 0;\n",
              "      width: 32px;\n",
              "    }\n",
              "\n",
              "    .colab-df-convert:hover {\n",
              "      background-color: #E2EBFA;\n",
              "      box-shadow: 0px 1px 2px rgba(60, 64, 67, 0.3), 0px 1px 3px 1px rgba(60, 64, 67, 0.15);\n",
              "      fill: #174EA6;\n",
              "    }\n",
              "\n",
              "    [theme=dark] .colab-df-convert {\n",
              "      background-color: #3B4455;\n",
              "      fill: #D2E3FC;\n",
              "    }\n",
              "\n",
              "    [theme=dark] .colab-df-convert:hover {\n",
              "      background-color: #434B5C;\n",
              "      box-shadow: 0px 1px 3px 1px rgba(0, 0, 0, 0.15);\n",
              "      filter: drop-shadow(0px 1px 2px rgba(0, 0, 0, 0.3));\n",
              "      fill: #FFFFFF;\n",
              "    }\n",
              "  </style>\n",
              "\n",
              "      <script>\n",
              "        const buttonEl =\n",
              "          document.querySelector('#df-df9b324e-ccbd-4888-b998-7fc752acd2a9 button.colab-df-convert');\n",
              "        buttonEl.style.display =\n",
              "          google.colab.kernel.accessAllowed ? 'block' : 'none';\n",
              "\n",
              "        async function convertToInteractive(key) {\n",
              "          const element = document.querySelector('#df-df9b324e-ccbd-4888-b998-7fc752acd2a9');\n",
              "          const dataTable =\n",
              "            await google.colab.kernel.invokeFunction('convertToInteractive',\n",
              "                                                     [key], {});\n",
              "          if (!dataTable) return;\n",
              "\n",
              "          const docLinkHtml = 'Like what you see? Visit the ' +\n",
              "            '<a target=\"_blank\" href=https://colab.research.google.com/notebooks/data_table.ipynb>data table notebook</a>'\n",
              "            + ' to learn more about interactive tables.';\n",
              "          element.innerHTML = '';\n",
              "          dataTable['output_type'] = 'display_data';\n",
              "          await google.colab.output.renderOutput(dataTable, element);\n",
              "          const docLink = document.createElement('div');\n",
              "          docLink.innerHTML = docLinkHtml;\n",
              "          element.appendChild(docLink);\n",
              "        }\n",
              "      </script>\n",
              "    </div>\n",
              "  </div>\n",
              "  "
            ]
          },
          "metadata": {},
          "execution_count": 59
        }
      ],
      "source": [
        "application_history_3.head()"
      ]
    },
    {
      "cell_type": "code",
      "execution_count": null,
      "metadata": {
        "colab": {
          "base_uri": "https://localhost:8080/"
        },
        "id": "zs3X-dGThUwZ",
        "outputId": "1b3ee117-8daf-45e7-c903-caf0ee5c3536"
      },
      "outputs": [
        {
          "output_type": "stream",
          "name": "stdout",
          "text": [
            "<class 'pandas.core.frame.DataFrame'>\n",
            "Int64Index: 10823 entries, 0 to 32909\n",
            "Data columns (total 18 columns):\n",
            " #   Column               Non-Null Count  Dtype  \n",
            "---  ------               --------------  -----  \n",
            " 0   JK                   10823 non-null  object \n",
            " 1   KepemilikanMobil     10823 non-null  object \n",
            " 2   KepemilikanProperti  10823 non-null  object \n",
            " 3   JmlAnak              10823 non-null  int64  \n",
            " 4   Pendapatan           10823 non-null  float64\n",
            " 5   TipePendapatan       10823 non-null  object \n",
            " 6   TingkatPendidikan    10823 non-null  object \n",
            " 7   StatusKeluarga       10823 non-null  object \n",
            " 8   TipeRumah            10823 non-null  object \n",
            " 9   FlagMobile           10823 non-null  int64  \n",
            " 10  FlagWorkPhone        10823 non-null  int64  \n",
            " 11  FlagPhone            10823 non-null  int64  \n",
            " 12  Email                10823 non-null  int64  \n",
            " 13  JmlAnggotaKeluarga   10823 non-null  int64  \n",
            " 14  Age                  10823 non-null  int64  \n",
            " 15  Experience           10823 non-null  int64  \n",
            " 16  Overdue              10823 non-null  object \n",
            " 17  status               10823 non-null  int64  \n",
            "dtypes: float64(1), int64(9), object(8)\n",
            "memory usage: 1.6+ MB\n"
          ]
        }
      ],
      "source": [
        "application_history_3.info()"
      ]
    },
    {
      "cell_type": "code",
      "execution_count": null,
      "metadata": {
        "colab": {
          "base_uri": "https://localhost:8080/"
        },
        "id": "jtvbex_-iXgf",
        "outputId": "1efcf229-e1a1-4918-efa8-9dfe5bddd348"
      },
      "outputs": [
        {
          "output_type": "stream",
          "name": "stderr",
          "text": [
            "<ipython-input-61-31966bf68a0e>:1: SettingWithCopyWarning: \n",
            "A value is trying to be set on a copy of a slice from a DataFrame.\n",
            "Try using .loc[row_indexer,col_indexer] = value instead\n",
            "\n",
            "See the caveats in the documentation: https://pandas.pydata.org/pandas-docs/stable/user_guide/indexing.html#returning-a-view-versus-a-copy\n",
            "  application_history_3['Pendapatan'] = (application_history_3['Pendapatan']).astype(int)\n"
          ]
        }
      ],
      "source": [
        "application_history_3['Pendapatan'] = (application_history_3['Pendapatan']).astype(int)"
      ]
    },
    {
      "cell_type": "code",
      "execution_count": null,
      "metadata": {
        "colab": {
          "base_uri": "https://localhost:8080/"
        },
        "id": "kZJ_bf79it5W",
        "outputId": "305df1a7-53d5-464b-efa8-b741396c0bae"
      },
      "outputs": [
        {
          "output_type": "stream",
          "name": "stdout",
          "text": [
            "<class 'pandas.core.frame.DataFrame'>\n",
            "Int64Index: 10823 entries, 0 to 32909\n",
            "Data columns (total 18 columns):\n",
            " #   Column               Non-Null Count  Dtype \n",
            "---  ------               --------------  ----- \n",
            " 0   JK                   10823 non-null  object\n",
            " 1   KepemilikanMobil     10823 non-null  object\n",
            " 2   KepemilikanProperti  10823 non-null  object\n",
            " 3   JmlAnak              10823 non-null  int64 \n",
            " 4   Pendapatan           10823 non-null  int64 \n",
            " 5   TipePendapatan       10823 non-null  object\n",
            " 6   TingkatPendidikan    10823 non-null  object\n",
            " 7   StatusKeluarga       10823 non-null  object\n",
            " 8   TipeRumah            10823 non-null  object\n",
            " 9   FlagMobile           10823 non-null  int64 \n",
            " 10  FlagWorkPhone        10823 non-null  int64 \n",
            " 11  FlagPhone            10823 non-null  int64 \n",
            " 12  Email                10823 non-null  int64 \n",
            " 13  JmlAnggotaKeluarga   10823 non-null  int64 \n",
            " 14  Age                  10823 non-null  int64 \n",
            " 15  Experience           10823 non-null  int64 \n",
            " 16  Overdue              10823 non-null  object\n",
            " 17  status               10823 non-null  int64 \n",
            "dtypes: int64(10), object(8)\n",
            "memory usage: 1.6+ MB\n"
          ]
        }
      ],
      "source": [
        "application_history_3.info()"
      ]
    },
    {
      "cell_type": "code",
      "source": [
        "#Create dataset that only include continous variable\n",
        "data_corr = application_history_3.drop(['JK', 'KepemilikanMobil', 'KepemilikanProperti', 'TipePendapatan', 'TingkatPendidikan', \n",
        "                                        'StatusKeluarga', 'TipeRumah', 'FlagWorkPhone', 'FlagPhone', 'Email', 'Overdue', 'status'], axis = 1)"
      ],
      "metadata": {
        "id": "qxxC-vSM_VTn"
      },
      "execution_count": null,
      "outputs": []
    },
    {
      "cell_type": "code",
      "execution_count": null,
      "metadata": {
        "colab": {
          "base_uri": "https://localhost:8080/",
          "height": 707
        },
        "id": "LUR8RAtx4bGW",
        "outputId": "2631a44e-c4b2-48c8-ec85-9f7188d3d7ba"
      },
      "outputs": [
        {
          "output_type": "display_data",
          "data": {
            "text/plain": [
              "<Figure size 1440x864 with 2 Axes>"
            ],
            "image/png": "[encoded data removed]"
          },
          "metadata": {}
        }
      ],
      "source": [
        "#Correlation between continous variable \n",
        "sns.set(rc={'figure.figsize':(20,12)})\n",
        "dataplot = sns.heatmap(data_corr.corr(), cmap=\"YlGnBu\", annot=True)"
      ]
    },
    {
      "cell_type": "markdown",
      "metadata": {
        "id": "AHK3RniM5oPL"
      },
      "source": [
        "Based on the correlation above we can avoid multicolinearity by dropping some variables that have correlation>0.5 and Nan correlation ('JmlAnak', 'Age', and 'FlagMobile') , so variables that dropped for the modeling are:\n",
        "1. Id_customer\n",
        "2. Pekerjaan\n",
        "3. JmlAnak\n",
        "4. Age\n",
        "5. FlagMobile"
      ]
    },
    {
      "cell_type": "code",
      "execution_count": null,
      "metadata": {
        "colab": {
          "base_uri": "https://localhost:8080/"
        },
        "id": "hVARv40IEajc",
        "outputId": "1a178006-df70-4d38-ce2a-166f985d5af9"
      },
      "outputs": [
        {
          "output_type": "stream",
          "name": "stdout",
          "text": [
            "<class 'pandas.core.frame.DataFrame'>\n",
            "Int64Index: 10823 entries, 0 to 32909\n",
            "Data columns (total 15 columns):\n",
            " #   Column               Non-Null Count  Dtype \n",
            "---  ------               --------------  ----- \n",
            " 0   JK                   10823 non-null  object\n",
            " 1   KepemilikanMobil     10823 non-null  object\n",
            " 2   KepemilikanProperti  10823 non-null  object\n",
            " 3   Pendapatan           10823 non-null  int64 \n",
            " 4   TipePendapatan       10823 non-null  object\n",
            " 5   TingkatPendidikan    10823 non-null  object\n",
            " 6   StatusKeluarga       10823 non-null  object\n",
            " 7   TipeRumah            10823 non-null  object\n",
            " 8   FlagWorkPhone        10823 non-null  int64 \n",
            " 9   FlagPhone            10823 non-null  int64 \n",
            " 10  Email                10823 non-null  int64 \n",
            " 11  JmlAnggotaKeluarga   10823 non-null  int64 \n",
            " 12  Experience           10823 non-null  int64 \n",
            " 13  Overdue              10823 non-null  object\n",
            " 14  status               10823 non-null  int64 \n",
            "dtypes: int64(7), object(8)\n",
            "memory usage: 1.6+ MB\n"
          ]
        }
      ],
      "source": [
        "application_history_4 = application_history_3.drop(['JmlAnak', 'Age', 'FlagMobile'], axis = 1)\n",
        "application_history_4.info()"
      ]
    },
    {
      "cell_type": "markdown",
      "metadata": {
        "id": "9PRIoPSZmQby"
      },
      "source": [
        "### Outlier Remover"
      ]
    },
    {
      "cell_type": "markdown",
      "metadata": {
        "id": "p-8tsvF3nmMv"
      },
      "source": [
        "##### Pendapatan"
      ]
    },
    {
      "cell_type": "code",
      "execution_count": null,
      "metadata": {
        "colab": {
          "base_uri": "https://localhost:8080/",
          "height": 792
        },
        "id": "5DnUwftinZQZ",
        "outputId": "7d7aae4f-3362-4ee6-a148-297c0dc70327"
      },
      "outputs": [
        {
          "output_type": "stream",
          "name": "stderr",
          "text": [
            "/usr/local/lib/python3.8/dist-packages/seaborn/_decorators.py:36: FutureWarning: Pass the following variable as a keyword arg: x. From version 0.12, the only valid positional argument will be `data`, and passing other arguments without an explicit keyword will result in an error or misinterpretation.\n",
            "  warnings.warn(\n"
          ]
        },
        {
          "output_type": "execute_result",
          "data": {
            "text/plain": [
              "<matplotlib.axes._subplots.AxesSubplot at 0x7f1657b89eb0>"
            ]
          },
          "metadata": {},
          "execution_count": 75
        },
        {
          "output_type": "display_data",
          "data": {
            "text/plain": [
              "<Figure size 1440x864 with 1 Axes>"
            ],
            "image/png": "[encoded data removed]"
          },
          "metadata": {}
        }
      ],
      "source": [
        "# Box Plot Pendapatan\n",
        "sns.boxplot(application_history_4['Pendapatan'])"
      ]
    },
    {
      "cell_type": "code",
      "execution_count": null,
      "metadata": {
        "id": "KvR7XN26XTT3"
      },
      "outputs": [],
      "source": [
        "#Outlier\n",
        "#Using Inter Quartil Range\n",
        "# IQR Pendapatan\n",
        "percentile25 = application_history_4['Pendapatan'].quantile(0.25)\n",
        "percentile75 = application_history_4['Pendapatan'].quantile(0.75)\n",
        "iqr = percentile75 - percentile25"
      ]
    },
    {
      "cell_type": "code",
      "execution_count": null,
      "metadata": {
        "id": "jgA4SFEQhc3b"
      },
      "outputs": [],
      "source": [
        "upper_limit = percentile75 + 1.5 * iqr\n",
        "lower_limit = percentile25 - 1.5 * iqr"
      ]
    },
    {
      "cell_type": "code",
      "execution_count": null,
      "metadata": {
        "colab": {
          "base_uri": "https://localhost:8080/",
          "height": 113
        },
        "id": "DRqc1xKchlrI",
        "outputId": "a719df3c-e0d4-4744-d483-dfbb5807970a"
      },
      "outputs": [
        {
          "output_type": "execute_result",
          "data": {
            "text/plain": [
              "Empty DataFrame\n",
              "Columns: [JK, KepemilikanMobil, KepemilikanProperti, Pendapatan, TipePendapatan, TingkatPendidikan, StatusKeluarga, TipeRumah, FlagWorkPhone, FlagPhone, Email, JmlAnggotaKeluarga, Experience, Overdue, status]\n",
              "Index: []"
            ],
            "text/html": [
              "\n",
              "  <div id=\"df-f6002301-cd7e-45a5-a6ea-3b0a1543a0eb\">\n",
              "    <div class=\"colab-df-container\">\n",
              "      <div>\n",
              "<style scoped>\n",
              "    .dataframe tbody tr th:only-of-type {\n",
              "        vertical-align: middle;\n",
              "    }\n",
              "\n",
              "    .dataframe tbody tr th {\n",
              "        vertical-align: top;\n",
              "    }\n",
              "\n",
              "    .dataframe thead th {\n",
              "        text-align: right;\n",
              "    }\n",
              "</style>\n",
              "<table border=\"1\" class=\"dataframe\">\n",
              "  <thead>\n",
              "    <tr style=\"text-align: right;\">\n",
              "      <th></th>\n",
              "      <th>JK</th>\n",
              "      <th>KepemilikanMobil</th>\n",
              "      <th>KepemilikanProperti</th>\n",
              "      <th>Pendapatan</th>\n",
              "      <th>TipePendapatan</th>\n",
              "      <th>TingkatPendidikan</th>\n",
              "      <th>StatusKeluarga</th>\n",
              "      <th>TipeRumah</th>\n",
              "      <th>FlagWorkPhone</th>\n",
              "      <th>FlagPhone</th>\n",
              "      <th>Email</th>\n",
              "      <th>JmlAnggotaKeluarga</th>\n",
              "      <th>Experience</th>\n",
              "      <th>Overdue</th>\n",
              "      <th>status</th>\n",
              "    </tr>\n",
              "  </thead>\n",
              "  <tbody>\n",
              "  </tbody>\n",
              "</table>\n",
              "</div>\n",
              "      <button class=\"colab-df-convert\" onclick=\"convertToInteractive('df-f6002301-cd7e-45a5-a6ea-3b0a1543a0eb')\"\n",
              "              title=\"Convert this dataframe to an interactive table.\"\n",
              "              style=\"display:none;\">\n",
              "        \n",
              "  <svg xmlns=\"http://www.w3.org/2000/svg\" height=\"24px\"viewBox=\"0 0 24 24\"\n",
              "       width=\"24px\">\n",
              "    <path d=\"M0 0h24v24H0V0z\" fill=\"none\"/>\n",
              "    <path d=\"M18.56 5.44l.94 2.06.94-2.06 2.06-.94-2.06-.94-.94-2.06-.94 2.06-2.06.94zm-11 1L8.5 8.5l.94-2.06 2.06-.94-2.06-.94L8.5 2.5l-.94 2.06-2.06.94zm10 10l.94 2.06.94-2.06 2.06-.94-2.06-.94-.94-2.06-.94 2.06-2.06.94z\"/><path d=\"M17.41 7.96l-1.37-1.37c-.4-.4-.92-.59-1.43-.59-.52 0-1.04.2-1.43.59L10.3 9.45l-7.72 7.72c-.78.78-.78 2.05 0 2.83L4 21.41c.39.39.9.59 1.41.59.51 0 1.02-.2 1.41-.59l7.78-7.78 2.81-2.81c.8-.78.8-2.07 0-2.86zM5.41 20L4 18.59l7.72-7.72 1.47 1.35L5.41 20z\"/>\n",
              "  </svg>\n",
              "      </button>\n",
              "      \n",
              "  <style>\n",
              "    .colab-df-container {\n",
              "      display:flex;\n",
              "      flex-wrap:wrap;\n",
              "      gap: 12px;\n",
              "    }\n",
              "\n",
              "    .colab-df-convert {\n",
              "      background-color: #E8F0FE;\n",
              "      border: none;\n",
              "      border-radius: 50%;\n",
              "      cursor: pointer;\n",
              "      display: none;\n",
              "      fill: #1967D2;\n",
              "      height: 32px;\n",
              "      padding: 0 0 0 0;\n",
              "      width: 32px;\n",
              "    }\n",
              "\n",
              "    .colab-df-convert:hover {\n",
              "      background-color: #E2EBFA;\n",
              "      box-shadow: 0px 1px 2px rgba(60, 64, 67, 0.3), 0px 1px 3px 1px rgba(60, 64, 67, 0.15);\n",
              "      fill: #174EA6;\n",
              "    }\n",
              "\n",
              "    [theme=dark] .colab-df-convert {\n",
              "      background-color: #3B4455;\n",
              "      fill: #D2E3FC;\n",
              "    }\n",
              "\n",
              "    [theme=dark] .colab-df-convert:hover {\n",
              "      background-color: #434B5C;\n",
              "      box-shadow: 0px 1px 3px 1px rgba(0, 0, 0, 0.15);\n",
              "      filter: drop-shadow(0px 1px 2px rgba(0, 0, 0, 0.3));\n",
              "      fill: #FFFFFF;\n",
              "    }\n",
              "  </style>\n",
              "\n",
              "      <script>\n",
              "        const buttonEl =\n",
              "          document.querySelector('#df-f6002301-cd7e-45a5-a6ea-3b0a1543a0eb button.colab-df-convert');\n",
              "        buttonEl.style.display =\n",
              "          google.colab.kernel.accessAllowed ? 'block' : 'none';\n",
              "\n",
              "        async function convertToInteractive(key) {\n",
              "          const element = document.querySelector('#df-f6002301-cd7e-45a5-a6ea-3b0a1543a0eb');\n",
              "          const dataTable =\n",
              "            await google.colab.kernel.invokeFunction('convertToInteractive',\n",
              "                                                     [key], {});\n",
              "          if (!dataTable) return;\n",
              "\n",
              "          const docLinkHtml = 'Like what you see? Visit the ' +\n",
              "            '<a target=\"_blank\" href=https://colab.research.google.com/notebooks/data_table.ipynb>data table notebook</a>'\n",
              "            + ' to learn more about interactive tables.';\n",
              "          element.innerHTML = '';\n",
              "          dataTable['output_type'] = 'display_data';\n",
              "          await google.colab.output.renderOutput(dataTable, element);\n",
              "          const docLink = document.createElement('div');\n",
              "          docLink.innerHTML = docLinkHtml;\n",
              "          element.appendChild(docLink);\n",
              "        }\n",
              "      </script>\n",
              "    </div>\n",
              "  </div>\n",
              "  "
            ]
          },
          "metadata": {},
          "execution_count": 78
        }
      ],
      "source": [
        "application_history_4[application_history_4['Pendapatan'] > upper_limit]\n",
        "application_history_4[application_history_4['Pendapatan'] < lower_limit]"
      ]
    },
    {
      "cell_type": "code",
      "execution_count": null,
      "metadata": {
        "colab": {
          "base_uri": "https://localhost:8080/"
        },
        "id": "VusqDVmek09v",
        "outputId": "b84895c8-0560-42bb-a0c7-462140c89370"
      },
      "outputs": [
        {
          "output_type": "execute_result",
          "data": {
            "text/plain": [
              "(10449, 15)"
            ]
          },
          "metadata": {},
          "execution_count": 79
        }
      ],
      "source": [
        "application_history_5 = application_history_4[application_history_4['Pendapatan'] < upper_limit]\n",
        "application_history_5.shape"
      ]
    },
    {
      "cell_type": "code",
      "execution_count": null,
      "metadata": {
        "colab": {
          "base_uri": "https://localhost:8080/",
          "height": 792
        },
        "id": "IevBSpnTnf4h",
        "outputId": "af3fce51-559f-4e37-c015-b8b258c0403d"
      },
      "outputs": [
        {
          "output_type": "stream",
          "name": "stderr",
          "text": [
            "/usr/local/lib/python3.8/dist-packages/seaborn/_decorators.py:36: FutureWarning: Pass the following variable as a keyword arg: x. From version 0.12, the only valid positional argument will be `data`, and passing other arguments without an explicit keyword will result in an error or misinterpretation.\n",
            "  warnings.warn(\n"
          ]
        },
        {
          "output_type": "execute_result",
          "data": {
            "text/plain": [
              "<matplotlib.axes._subplots.AxesSubplot at 0x7f165e36e3d0>"
            ]
          },
          "metadata": {},
          "execution_count": 80
        },
        {
          "output_type": "display_data",
          "data": {
            "text/plain": [
              "<Figure size 1440x864 with 1 Axes>"
            ],
            "image/png": "[encoded data removed]"
          },
          "metadata": {}
        }
      ],
      "source": [
        "# Box Plot Pendapatan after outlier cleaning\n",
        "sns.boxplot(application_history_5['Pendapatan'])"
      ]
    },
    {
      "cell_type": "markdown",
      "metadata": {
        "id": "U5fqbdSgnsIW"
      },
      "source": [
        "##### JmlAnggotaKeluarga"
      ]
    },
    {
      "cell_type": "code",
      "execution_count": null,
      "metadata": {
        "colab": {
          "base_uri": "https://localhost:8080/",
          "height": 792
        },
        "id": "lyeQiO-inzLJ",
        "outputId": "0499d124-34b3-4f2d-b64e-9f148c67aeef"
      },
      "outputs": [
        {
          "output_type": "stream",
          "name": "stderr",
          "text": [
            "/usr/local/lib/python3.8/dist-packages/seaborn/_decorators.py:36: FutureWarning: Pass the following variable as a keyword arg: x. From version 0.12, the only valid positional argument will be `data`, and passing other arguments without an explicit keyword will result in an error or misinterpretation.\n",
            "  warnings.warn(\n"
          ]
        },
        {
          "output_type": "execute_result",
          "data": {
            "text/plain": [
              "<matplotlib.axes._subplots.AxesSubplot at 0x7f165e40b280>"
            ]
          },
          "metadata": {},
          "execution_count": 81
        },
        {
          "output_type": "display_data",
          "data": {
            "text/plain": [
              "<Figure size 1440x864 with 1 Axes>"
            ],
            "image/png": "[encoded data removed]"
          },
          "metadata": {}
        }
      ],
      "source": [
        "# Box Plot JmlAnggotaKeluarga\n",
        "sns.boxplot(application_history_5['JmlAnggotaKeluarga'])"
      ]
    },
    {
      "cell_type": "code",
      "execution_count": null,
      "metadata": {
        "id": "Fe2a7ZTUlI95"
      },
      "outputs": [],
      "source": [
        "#IQR JmlAnggotaKeluarga\n",
        "percentile25_JAK = application_history_5['JmlAnggotaKeluarga'].quantile(0.25)\n",
        "percentile75_JAK = application_history_5['JmlAnggotaKeluarga'].quantile(0.75)\n",
        "iqr_JAK = percentile75_JAK - percentile25_JAK"
      ]
    },
    {
      "cell_type": "code",
      "execution_count": null,
      "metadata": {
        "id": "h-YsjP1zlPFk"
      },
      "outputs": [],
      "source": [
        "upper_limit_JAK = percentile75_JAK + 1.5 * iqr_JAK\n",
        "lower_limit_JAK = percentile25_JAK - 1.5 * iqr_JAK"
      ]
    },
    {
      "cell_type": "code",
      "execution_count": null,
      "metadata": {
        "colab": {
          "base_uri": "https://localhost:8080/",
          "height": 113
        },
        "id": "B45RCfA6lopq",
        "outputId": "2afb02a8-b467-4275-acb6-f87c160e3547"
      },
      "outputs": [
        {
          "output_type": "execute_result",
          "data": {
            "text/plain": [
              "Empty DataFrame\n",
              "Columns: [JK, KepemilikanMobil, KepemilikanProperti, Pendapatan, TipePendapatan, TingkatPendidikan, StatusKeluarga, TipeRumah, FlagWorkPhone, FlagPhone, Email, JmlAnggotaKeluarga, Experience, Overdue, status]\n",
              "Index: []"
            ],
            "text/html": [
              "\n",
              "  <div id=\"df-110c743e-8cd3-448f-aea5-cddb0b396219\">\n",
              "    <div class=\"colab-df-container\">\n",
              "      <div>\n",
              "<style scoped>\n",
              "    .dataframe tbody tr th:only-of-type {\n",
              "        vertical-align: middle;\n",
              "    }\n",
              "\n",
              "    .dataframe tbody tr th {\n",
              "        vertical-align: top;\n",
              "    }\n",
              "\n",
              "    .dataframe thead th {\n",
              "        text-align: right;\n",
              "    }\n",
              "</style>\n",
              "<table border=\"1\" class=\"dataframe\">\n",
              "  <thead>\n",
              "    <tr style=\"text-align: right;\">\n",
              "      <th></th>\n",
              "      <th>JK</th>\n",
              "      <th>KepemilikanMobil</th>\n",
              "      <th>KepemilikanProperti</th>\n",
              "      <th>Pendapatan</th>\n",
              "      <th>TipePendapatan</th>\n",
              "      <th>TingkatPendidikan</th>\n",
              "      <th>StatusKeluarga</th>\n",
              "      <th>TipeRumah</th>\n",
              "      <th>FlagWorkPhone</th>\n",
              "      <th>FlagPhone</th>\n",
              "      <th>Email</th>\n",
              "      <th>JmlAnggotaKeluarga</th>\n",
              "      <th>Experience</th>\n",
              "      <th>Overdue</th>\n",
              "      <th>status</th>\n",
              "    </tr>\n",
              "  </thead>\n",
              "  <tbody>\n",
              "  </tbody>\n",
              "</table>\n",
              "</div>\n",
              "      <button class=\"colab-df-convert\" onclick=\"convertToInteractive('df-110c743e-8cd3-448f-aea5-cddb0b396219')\"\n",
              "              title=\"Convert this dataframe to an interactive table.\"\n",
              "              style=\"display:none;\">\n",
              "        \n",
              "  <svg xmlns=\"http://www.w3.org/2000/svg\" height=\"24px\"viewBox=\"0 0 24 24\"\n",
              "       width=\"24px\">\n",
              "    <path d=\"M0 0h24v24H0V0z\" fill=\"none\"/>\n",
              "    <path d=\"M18.56 5.44l.94 2.06.94-2.06 2.06-.94-2.06-.94-.94-2.06-.94 2.06-2.06.94zm-11 1L8.5 8.5l.94-2.06 2.06-.94-2.06-.94L8.5 2.5l-.94 2.06-2.06.94zm10 10l.94 2.06.94-2.06 2.06-.94-2.06-.94-.94-2.06-.94 2.06-2.06.94z\"/><path d=\"M17.41 7.96l-1.37-1.37c-.4-.4-.92-.59-1.43-.59-.52 0-1.04.2-1.43.59L10.3 9.45l-7.72 7.72c-.78.78-.78 2.05 0 2.83L4 21.41c.39.39.9.59 1.41.59.51 0 1.02-.2 1.41-.59l7.78-7.78 2.81-2.81c.8-.78.8-2.07 0-2.86zM5.41 20L4 18.59l7.72-7.72 1.47 1.35L5.41 20z\"/>\n",
              "  </svg>\n",
              "      </button>\n",
              "      \n",
              "  <style>\n",
              "    .colab-df-container {\n",
              "      display:flex;\n",
              "      flex-wrap:wrap;\n",
              "      gap: 12px;\n",
              "    }\n",
              "\n",
              "    .colab-df-convert {\n",
              "      background-color: #E8F0FE;\n",
              "      border: none;\n",
              "      border-radius: 50%;\n",
              "      cursor: pointer;\n",
              "      display: none;\n",
              "      fill: #1967D2;\n",
              "      height: 32px;\n",
              "      padding: 0 0 0 0;\n",
              "      width: 32px;\n",
              "    }\n",
              "\n",
              "    .colab-df-convert:hover {\n",
              "      background-color: #E2EBFA;\n",
              "      box-shadow: 0px 1px 2px rgba(60, 64, 67, 0.3), 0px 1px 3px 1px rgba(60, 64, 67, 0.15);\n",
              "      fill: #174EA6;\n",
              "    }\n",
              "\n",
              "    [theme=dark] .colab-df-convert {\n",
              "      background-color: #3B4455;\n",
              "      fill: #D2E3FC;\n",
              "    }\n",
              "\n",
              "    [theme=dark] .colab-df-convert:hover {\n",
              "      background-color: #434B5C;\n",
              "      box-shadow: 0px 1px 3px 1px rgba(0, 0, 0, 0.15);\n",
              "      filter: drop-shadow(0px 1px 2px rgba(0, 0, 0, 0.3));\n",
              "      fill: #FFFFFF;\n",
              "    }\n",
              "  </style>\n",
              "\n",
              "      <script>\n",
              "        const buttonEl =\n",
              "          document.querySelector('#df-110c743e-8cd3-448f-aea5-cddb0b396219 button.colab-df-convert');\n",
              "        buttonEl.style.display =\n",
              "          google.colab.kernel.accessAllowed ? 'block' : 'none';\n",
              "\n",
              "        async function convertToInteractive(key) {\n",
              "          const element = document.querySelector('#df-110c743e-8cd3-448f-aea5-cddb0b396219');\n",
              "          const dataTable =\n",
              "            await google.colab.kernel.invokeFunction('convertToInteractive',\n",
              "                                                     [key], {});\n",
              "          if (!dataTable) return;\n",
              "\n",
              "          const docLinkHtml = 'Like what you see? Visit the ' +\n",
              "            '<a target=\"_blank\" href=https://colab.research.google.com/notebooks/data_table.ipynb>data table notebook</a>'\n",
              "            + ' to learn more about interactive tables.';\n",
              "          element.innerHTML = '';\n",
              "          dataTable['output_type'] = 'display_data';\n",
              "          await google.colab.output.renderOutput(dataTable, element);\n",
              "          const docLink = document.createElement('div');\n",
              "          docLink.innerHTML = docLinkHtml;\n",
              "          element.appendChild(docLink);\n",
              "        }\n",
              "      </script>\n",
              "    </div>\n",
              "  </div>\n",
              "  "
            ]
          },
          "metadata": {},
          "execution_count": 84
        }
      ],
      "source": [
        "application_history_5[application_history_5['JmlAnggotaKeluarga'] > upper_limit_JAK]\n",
        "application_history_5[application_history_5['JmlAnggotaKeluarga'] < lower_limit_JAK]"
      ]
    },
    {
      "cell_type": "code",
      "execution_count": null,
      "metadata": {
        "colab": {
          "base_uri": "https://localhost:8080/"
        },
        "id": "YEfmGVerl9ef",
        "outputId": "c97c3c01-17a9-4287-ca1e-ad174d08e081"
      },
      "outputs": [
        {
          "output_type": "execute_result",
          "data": {
            "text/plain": [
              "(10296, 15)"
            ]
          },
          "metadata": {},
          "execution_count": 85
        }
      ],
      "source": [
        "application_history_6 = application_history_5[application_history_5['JmlAnggotaKeluarga'] < upper_limit_JAK]\n",
        "application_history_6.shape"
      ]
    },
    {
      "cell_type": "code",
      "execution_count": null,
      "metadata": {
        "colab": {
          "base_uri": "https://localhost:8080/",
          "height": 792
        },
        "id": "cn5xftcon13p",
        "outputId": "9b52b059-1aeb-42a5-c68c-cc1eed83e175"
      },
      "outputs": [
        {
          "output_type": "stream",
          "name": "stderr",
          "text": [
            "/usr/local/lib/python3.8/dist-packages/seaborn/_decorators.py:36: FutureWarning: Pass the following variable as a keyword arg: x. From version 0.12, the only valid positional argument will be `data`, and passing other arguments without an explicit keyword will result in an error or misinterpretation.\n",
            "  warnings.warn(\n"
          ]
        },
        {
          "output_type": "execute_result",
          "data": {
            "text/plain": [
              "<matplotlib.axes._subplots.AxesSubplot at 0x7f1659d598e0>"
            ]
          },
          "metadata": {},
          "execution_count": 86
        },
        {
          "output_type": "display_data",
          "data": {
            "text/plain": [
              "<Figure size 1440x864 with 1 Axes>"
            ],
            "image/png": "[encoded data removed]"
          },
          "metadata": {}
        }
      ],
      "source": [
        "# Box Plot Pendapatan after Outlier Cleaning\n",
        "sns.boxplot(application_history_6['JmlAnggotaKeluarga'])"
      ]
    },
    {
      "cell_type": "markdown",
      "metadata": {
        "id": "d3a9Jx8nn7Ei"
      },
      "source": [
        "##### Experience"
      ]
    },
    {
      "cell_type": "code",
      "execution_count": null,
      "metadata": {
        "colab": {
          "base_uri": "https://localhost:8080/",
          "height": 792
        },
        "id": "5c8Ljocyn_Dy",
        "outputId": "ce2eb166-8ec5-4931-ec2a-5f0d51592dac"
      },
      "outputs": [
        {
          "output_type": "stream",
          "name": "stderr",
          "text": [
            "/usr/local/lib/python3.8/dist-packages/seaborn/_decorators.py:36: FutureWarning: Pass the following variable as a keyword arg: x. From version 0.12, the only valid positional argument will be `data`, and passing other arguments without an explicit keyword will result in an error or misinterpretation.\n",
            "  warnings.warn(\n"
          ]
        },
        {
          "output_type": "execute_result",
          "data": {
            "text/plain": [
              "<matplotlib.axes._subplots.AxesSubplot at 0x7f16579e17f0>"
            ]
          },
          "metadata": {},
          "execution_count": 87
        },
        {
          "output_type": "display_data",
          "data": {
            "text/plain": [
              "<Figure size 1440x864 with 1 Axes>"
            ],
            "image/png": "[encoded data removed]"
          },
          "metadata": {}
        }
      ],
      "source": [
        "# Box Plot Experience\n",
        "sns.boxplot(application_history_6['Experience'])"
      ]
    },
    {
      "cell_type": "code",
      "execution_count": null,
      "metadata": {
        "id": "YgshiNtdmVh8"
      },
      "outputs": [],
      "source": [
        "#IQR Experience\n",
        "percentile25_Ex = application_history_6['Experience'].quantile(0.25)\n",
        "percentile75_Ex = application_history_6['Experience'].quantile(0.75)\n",
        "iqr_Ex = percentile75_Ex - percentile25_Ex"
      ]
    },
    {
      "cell_type": "code",
      "execution_count": null,
      "metadata": {
        "id": "6dC-zCU9mlH5"
      },
      "outputs": [],
      "source": [
        "upper_limit_Ex = percentile75_Ex + 1.5 * iqr_Ex\n",
        "lower_limit_Ex = percentile25_Ex - 1.5 * iqr_Ex"
      ]
    },
    {
      "cell_type": "code",
      "execution_count": null,
      "metadata": {
        "colab": {
          "base_uri": "https://localhost:8080/",
          "height": 113
        },
        "id": "CBX1-lVAmxmj",
        "outputId": "650f968c-dcd6-479e-e294-31d486cade55"
      },
      "outputs": [
        {
          "output_type": "execute_result",
          "data": {
            "text/plain": [
              "Empty DataFrame\n",
              "Columns: [JK, KepemilikanMobil, KepemilikanProperti, Pendapatan, TipePendapatan, TingkatPendidikan, StatusKeluarga, TipeRumah, FlagWorkPhone, FlagPhone, Email, JmlAnggotaKeluarga, Experience, Overdue, status]\n",
              "Index: []"
            ],
            "text/html": [
              "\n",
              "  <div id=\"df-b96feb58-f477-49c4-b025-b3aabcc91e56\">\n",
              "    <div class=\"colab-df-container\">\n",
              "      <div>\n",
              "<style scoped>\n",
              "    .dataframe tbody tr th:only-of-type {\n",
              "        vertical-align: middle;\n",
              "    }\n",
              "\n",
              "    .dataframe tbody tr th {\n",
              "        vertical-align: top;\n",
              "    }\n",
              "\n",
              "    .dataframe thead th {\n",
              "        text-align: right;\n",
              "    }\n",
              "</style>\n",
              "<table border=\"1\" class=\"dataframe\">\n",
              "  <thead>\n",
              "    <tr style=\"text-align: right;\">\n",
              "      <th></th>\n",
              "      <th>JK</th>\n",
              "      <th>KepemilikanMobil</th>\n",
              "      <th>KepemilikanProperti</th>\n",
              "      <th>Pendapatan</th>\n",
              "      <th>TipePendapatan</th>\n",
              "      <th>TingkatPendidikan</th>\n",
              "      <th>StatusKeluarga</th>\n",
              "      <th>TipeRumah</th>\n",
              "      <th>FlagWorkPhone</th>\n",
              "      <th>FlagPhone</th>\n",
              "      <th>Email</th>\n",
              "      <th>JmlAnggotaKeluarga</th>\n",
              "      <th>Experience</th>\n",
              "      <th>Overdue</th>\n",
              "      <th>status</th>\n",
              "    </tr>\n",
              "  </thead>\n",
              "  <tbody>\n",
              "  </tbody>\n",
              "</table>\n",
              "</div>\n",
              "      <button class=\"colab-df-convert\" onclick=\"convertToInteractive('df-b96feb58-f477-49c4-b025-b3aabcc91e56')\"\n",
              "              title=\"Convert this dataframe to an interactive table.\"\n",
              "              style=\"display:none;\">\n",
              "        \n",
              "  <svg xmlns=\"http://www.w3.org/2000/svg\" height=\"24px\"viewBox=\"0 0 24 24\"\n",
              "       width=\"24px\">\n",
              "    <path d=\"M0 0h24v24H0V0z\" fill=\"none\"/>\n",
              "    <path d=\"M18.56 5.44l.94 2.06.94-2.06 2.06-.94-2.06-.94-.94-2.06-.94 2.06-2.06.94zm-11 1L8.5 8.5l.94-2.06 2.06-.94-2.06-.94L8.5 2.5l-.94 2.06-2.06.94zm10 10l.94 2.06.94-2.06 2.06-.94-2.06-.94-.94-2.06-.94 2.06-2.06.94z\"/><path d=\"M17.41 7.96l-1.37-1.37c-.4-.4-.92-.59-1.43-.59-.52 0-1.04.2-1.43.59L10.3 9.45l-7.72 7.72c-.78.78-.78 2.05 0 2.83L4 21.41c.39.39.9.59 1.41.59.51 0 1.02-.2 1.41-.59l7.78-7.78 2.81-2.81c.8-.78.8-2.07 0-2.86zM5.41 20L4 18.59l7.72-7.72 1.47 1.35L5.41 20z\"/>\n",
              "  </svg>\n",
              "      </button>\n",
              "      \n",
              "  <style>\n",
              "    .colab-df-container {\n",
              "      display:flex;\n",
              "      flex-wrap:wrap;\n",
              "      gap: 12px;\n",
              "    }\n",
              "\n",
              "    .colab-df-convert {\n",
              "      background-color: #E8F0FE;\n",
              "      border: none;\n",
              "      border-radius: 50%;\n",
              "      cursor: pointer;\n",
              "      display: none;\n",
              "      fill: #1967D2;\n",
              "      height: 32px;\n",
              "      padding: 0 0 0 0;\n",
              "      width: 32px;\n",
              "    }\n",
              "\n",
              "    .colab-df-convert:hover {\n",
              "      background-color: #E2EBFA;\n",
              "      box-shadow: 0px 1px 2px rgba(60, 64, 67, 0.3), 0px 1px 3px 1px rgba(60, 64, 67, 0.15);\n",
              "      fill: #174EA6;\n",
              "    }\n",
              "\n",
              "    [theme=dark] .colab-df-convert {\n",
              "      background-color: #3B4455;\n",
              "      fill: #D2E3FC;\n",
              "    }\n",
              "\n",
              "    [theme=dark] .colab-df-convert:hover {\n",
              "      background-color: #434B5C;\n",
              "      box-shadow: 0px 1px 3px 1px rgba(0, 0, 0, 0.15);\n",
              "      filter: drop-shadow(0px 1px 2px rgba(0, 0, 0, 0.3));\n",
              "      fill: #FFFFFF;\n",
              "    }\n",
              "  </style>\n",
              "\n",
              "      <script>\n",
              "        const buttonEl =\n",
              "          document.querySelector('#df-b96feb58-f477-49c4-b025-b3aabcc91e56 button.colab-df-convert');\n",
              "        buttonEl.style.display =\n",
              "          google.colab.kernel.accessAllowed ? 'block' : 'none';\n",
              "\n",
              "        async function convertToInteractive(key) {\n",
              "          const element = document.querySelector('#df-b96feb58-f477-49c4-b025-b3aabcc91e56');\n",
              "          const dataTable =\n",
              "            await google.colab.kernel.invokeFunction('convertToInteractive',\n",
              "                                                     [key], {});\n",
              "          if (!dataTable) return;\n",
              "\n",
              "          const docLinkHtml = 'Like what you see? Visit the ' +\n",
              "            '<a target=\"_blank\" href=https://colab.research.google.com/notebooks/data_table.ipynb>data table notebook</a>'\n",
              "            + ' to learn more about interactive tables.';\n",
              "          element.innerHTML = '';\n",
              "          dataTable['output_type'] = 'display_data';\n",
              "          await google.colab.output.renderOutput(dataTable, element);\n",
              "          const docLink = document.createElement('div');\n",
              "          docLink.innerHTML = docLinkHtml;\n",
              "          element.appendChild(docLink);\n",
              "        }\n",
              "      </script>\n",
              "    </div>\n",
              "  </div>\n",
              "  "
            ]
          },
          "metadata": {},
          "execution_count": 90
        }
      ],
      "source": [
        "application_history_6[application_history_6['Experience'] > upper_limit_Ex]\n",
        "application_history_6[application_history_6['Experience'] < lower_limit_Ex]"
      ]
    },
    {
      "cell_type": "code",
      "execution_count": null,
      "metadata": {
        "colab": {
          "base_uri": "https://localhost:8080/"
        },
        "id": "kcma0_EbnAhj",
        "outputId": "60862799-e8db-422c-ab90-db223d2cd396"
      },
      "outputs": [
        {
          "output_type": "execute_result",
          "data": {
            "text/plain": [
              "(8552, 15)"
            ]
          },
          "metadata": {},
          "execution_count": 91
        }
      ],
      "source": [
        "application_history_7 = application_history_6[application_history_6['Experience'] < upper_limit_Ex]\n",
        "application_history_7.shape"
      ]
    },
    {
      "cell_type": "code",
      "execution_count": null,
      "metadata": {
        "colab": {
          "base_uri": "https://localhost:8080/",
          "height": 792
        },
        "id": "u79h1jl3oFn8",
        "outputId": "409400eb-c536-4024-f8c6-d44a48ffce25"
      },
      "outputs": [
        {
          "output_type": "stream",
          "name": "stderr",
          "text": [
            "/usr/local/lib/python3.8/dist-packages/seaborn/_decorators.py:36: FutureWarning: Pass the following variable as a keyword arg: x. From version 0.12, the only valid positional argument will be `data`, and passing other arguments without an explicit keyword will result in an error or misinterpretation.\n",
            "  warnings.warn(\n"
          ]
        },
        {
          "output_type": "execute_result",
          "data": {
            "text/plain": [
              "<matplotlib.axes._subplots.AxesSubplot at 0x7f16591180d0>"
            ]
          },
          "metadata": {},
          "execution_count": 92
        },
        {
          "output_type": "display_data",
          "data": {
            "text/plain": [
              "<Figure size 1440x864 with 1 Axes>"
            ],
            "image/png": "[encoded data removed]"
          },
          "metadata": {}
        }
      ],
      "source": [
        "# Box Plot Pendapatan after Outlier Cleaning\n",
        "sns.boxplot(application_history_7['Experience'])"
      ]
    },
    {
      "cell_type": "markdown",
      "source": [
        "#### Delete the rest of the outlier row"
      ],
      "metadata": {
        "id": "DCiTyqgAFsB1"
      }
    },
    {
      "cell_type": "code",
      "source": [
        "application_history_9 = application_history_7[application_history_7['Experience'] < 20]"
      ],
      "metadata": {
        "id": "AxWbMu1JE_Tg"
      },
      "execution_count": null,
      "outputs": []
    },
    {
      "cell_type": "code",
      "source": [
        "application_history_9.info()"
      ],
      "metadata": {
        "colab": {
          "base_uri": "https://localhost:8080/"
        },
        "id": "yg8N_Z-oFQhs",
        "outputId": "78a870b3-b338-48b5-e38d-862d89706a8b"
      },
      "execution_count": null,
      "outputs": [
        {
          "output_type": "stream",
          "name": "stdout",
          "text": [
            "<class 'pandas.core.frame.DataFrame'>\n",
            "Int64Index: 8116 entries, 2 to 32909\n",
            "Data columns (total 15 columns):\n",
            " #   Column               Non-Null Count  Dtype \n",
            "---  ------               --------------  ----- \n",
            " 0   JK                   8116 non-null   object\n",
            " 1   KepemilikanMobil     8116 non-null   object\n",
            " 2   KepemilikanProperti  8116 non-null   object\n",
            " 3   Pendapatan           8116 non-null   int64 \n",
            " 4   TipePendapatan       8116 non-null   object\n",
            " 5   TingkatPendidikan    8116 non-null   object\n",
            " 6   StatusKeluarga       8116 non-null   object\n",
            " 7   TipeRumah            8116 non-null   object\n",
            " 8   FlagWorkPhone        8116 non-null   int64 \n",
            " 9   FlagPhone            8116 non-null   int64 \n",
            " 10  Email                8116 non-null   int64 \n",
            " 11  JmlAnggotaKeluarga   8116 non-null   int64 \n",
            " 12  Experience           8116 non-null   int64 \n",
            " 13  Overdue              8116 non-null   object\n",
            " 14  status               8116 non-null   int64 \n",
            "dtypes: int64(7), object(8)\n",
            "memory usage: 1014.5+ KB\n"
          ]
        }
      ]
    },
    {
      "cell_type": "code",
      "source": [
        "application_history_9.select_dtypes(object).reset_index()"
      ],
      "metadata": {
        "colab": {
          "base_uri": "https://localhost:8080/",
          "height": 423
        },
        "id": "8PWdn9zDJmQb",
        "outputId": "fe639d25-c1b7-40d0-b0c8-1d77f058052c"
      },
      "execution_count": null,
      "outputs": [
        {
          "output_type": "execute_result",
          "data": {
            "text/plain": [
              "      index         JK KepemilikanMobil KepemilikanProperti  \\\n",
              "0         2  Laki-laki               Ya                  Ya   \n",
              "1         3  Laki-laki               Ya                  Ya   \n",
              "2         5  Laki-laki               Ya                  Ya   \n",
              "3        18  Laki-laki               Ya                  Ya   \n",
              "4        26  Laki-laki               Ya                  Ya   \n",
              "...     ...        ...              ...                 ...   \n",
              "8111  32903  Perempuan            Tidak                  Ya   \n",
              "8112  32905  Perempuan            Tidak                  Ya   \n",
              "8113  32907  Perempuan            Tidak                  Ya   \n",
              "8114  32908  Perempuan            Tidak                  Ya   \n",
              "8115  32909  Perempuan            Tidak                  Ya   \n",
              "\n",
              "          TipePendapatan TingkatPendidikan StatusKeluarga TipeRumah Overdue  \n",
              "0                Bekerja                 G              M        MH       0  \n",
              "1                Bekerja                PG              M        MH       0  \n",
              "2     Asosiasi komersial                 G              M        MH       0  \n",
              "3     Asosiasi komersial                 G              M        MH       0  \n",
              "4     Asosiasi komersial                 G              M        MH       1  \n",
              "...                  ...               ...            ...       ...     ...  \n",
              "8111             Bekerja                 G              M        MH       2  \n",
              "8112  Asosiasi komersial                 G              M        MH       2  \n",
              "8113  Asosiasi komersial                PG              M        MH       5  \n",
              "8114           Pensioner                PG              M        MH       5  \n",
              "8115             Bekerja                 G              M        MH       2  \n",
              "\n",
              "[8116 rows x 9 columns]"
            ],
            "text/html": [
              "\n",
              "  <div id=\"df-8eb54a79-c5c7-43d5-ba13-3a5193849d73\">\n",
              "    <div class=\"colab-df-container\">\n",
              "      <div>\n",
              "<style scoped>\n",
              "    .dataframe tbody tr th:only-of-type {\n",
              "        vertical-align: middle;\n",
              "    }\n",
              "\n",
              "    .dataframe tbody tr th {\n",
              "        vertical-align: top;\n",
              "    }\n",
              "\n",
              "    .dataframe thead th {\n",
              "        text-align: right;\n",
              "    }\n",
              "</style>\n",
              "<table border=\"1\" class=\"dataframe\">\n",
              "  <thead>\n",
              "    <tr style=\"text-align: right;\">\n",
              "      <th></th>\n",
              "      <th>index</th>\n",
              "      <th>JK</th>\n",
              "      <th>KepemilikanMobil</th>\n",
              "      <th>KepemilikanProperti</th>\n",
              "      <th>TipePendapatan</th>\n",
              "      <th>TingkatPendidikan</th>\n",
              "      <th>StatusKeluarga</th>\n",
              "      <th>TipeRumah</th>\n",
              "      <th>Overdue</th>\n",
              "    </tr>\n",
              "  </thead>\n",
              "  <tbody>\n",
              "    <tr>\n",
              "      <th>0</th>\n",
              "      <td>2</td>\n",
              "      <td>Laki-laki</td>\n",
              "      <td>Ya</td>\n",
              "      <td>Ya</td>\n",
              "      <td>Bekerja</td>\n",
              "      <td>G</td>\n",
              "      <td>M</td>\n",
              "      <td>MH</td>\n",
              "      <td>0</td>\n",
              "    </tr>\n",
              "    <tr>\n",
              "      <th>1</th>\n",
              "      <td>3</td>\n",
              "      <td>Laki-laki</td>\n",
              "      <td>Ya</td>\n",
              "      <td>Ya</td>\n",
              "      <td>Bekerja</td>\n",
              "      <td>PG</td>\n",
              "      <td>M</td>\n",
              "      <td>MH</td>\n",
              "      <td>0</td>\n",
              "    </tr>\n",
              "    <tr>\n",
              "      <th>2</th>\n",
              "      <td>5</td>\n",
              "      <td>Laki-laki</td>\n",
              "      <td>Ya</td>\n",
              "      <td>Ya</td>\n",
              "      <td>Asosiasi komersial</td>\n",
              "      <td>G</td>\n",
              "      <td>M</td>\n",
              "      <td>MH</td>\n",
              "      <td>0</td>\n",
              "    </tr>\n",
              "    <tr>\n",
              "      <th>3</th>\n",
              "      <td>18</td>\n",
              "      <td>Laki-laki</td>\n",
              "      <td>Ya</td>\n",
              "      <td>Ya</td>\n",
              "      <td>Asosiasi komersial</td>\n",
              "      <td>G</td>\n",
              "      <td>M</td>\n",
              "      <td>MH</td>\n",
              "      <td>0</td>\n",
              "    </tr>\n",
              "    <tr>\n",
              "      <th>4</th>\n",
              "      <td>26</td>\n",
              "      <td>Laki-laki</td>\n",
              "      <td>Ya</td>\n",
              "      <td>Ya</td>\n",
              "      <td>Asosiasi komersial</td>\n",
              "      <td>G</td>\n",
              "      <td>M</td>\n",
              "      <td>MH</td>\n",
              "      <td>1</td>\n",
              "    </tr>\n",
              "    <tr>\n",
              "      <th>...</th>\n",
              "      <td>...</td>\n",
              "      <td>...</td>\n",
              "      <td>...</td>\n",
              "      <td>...</td>\n",
              "      <td>...</td>\n",
              "      <td>...</td>\n",
              "      <td>...</td>\n",
              "      <td>...</td>\n",
              "      <td>...</td>\n",
              "    </tr>\n",
              "    <tr>\n",
              "      <th>8111</th>\n",
              "      <td>32903</td>\n",
              "      <td>Perempuan</td>\n",
              "      <td>Tidak</td>\n",
              "      <td>Ya</td>\n",
              "      <td>Bekerja</td>\n",
              "      <td>G</td>\n",
              "      <td>M</td>\n",
              "      <td>MH</td>\n",
              "      <td>2</td>\n",
              "    </tr>\n",
              "    <tr>\n",
              "      <th>8112</th>\n",
              "      <td>32905</td>\n",
              "      <td>Perempuan</td>\n",
              "      <td>Tidak</td>\n",
              "      <td>Ya</td>\n",
              "      <td>Asosiasi komersial</td>\n",
              "      <td>G</td>\n",
              "      <td>M</td>\n",
              "      <td>MH</td>\n",
              "      <td>2</td>\n",
              "    </tr>\n",
              "    <tr>\n",
              "      <th>8113</th>\n",
              "      <td>32907</td>\n",
              "      <td>Perempuan</td>\n",
              "      <td>Tidak</td>\n",
              "      <td>Ya</td>\n",
              "      <td>Asosiasi komersial</td>\n",
              "      <td>PG</td>\n",
              "      <td>M</td>\n",
              "      <td>MH</td>\n",
              "      <td>5</td>\n",
              "    </tr>\n",
              "    <tr>\n",
              "      <th>8114</th>\n",
              "      <td>32908</td>\n",
              "      <td>Perempuan</td>\n",
              "      <td>Tidak</td>\n",
              "      <td>Ya</td>\n",
              "      <td>Pensioner</td>\n",
              "      <td>PG</td>\n",
              "      <td>M</td>\n",
              "      <td>MH</td>\n",
              "      <td>5</td>\n",
              "    </tr>\n",
              "    <tr>\n",
              "      <th>8115</th>\n",
              "      <td>32909</td>\n",
              "      <td>Perempuan</td>\n",
              "      <td>Tidak</td>\n",
              "      <td>Ya</td>\n",
              "      <td>Bekerja</td>\n",
              "      <td>G</td>\n",
              "      <td>M</td>\n",
              "      <td>MH</td>\n",
              "      <td>2</td>\n",
              "    </tr>\n",
              "  </tbody>\n",
              "</table>\n",
              "<p>8116 rows × 9 columns</p>\n",
              "</div>\n",
              "      <button class=\"colab-df-convert\" onclick=\"convertToInteractive('df-8eb54a79-c5c7-43d5-ba13-3a5193849d73')\"\n",
              "              title=\"Convert this dataframe to an interactive table.\"\n",
              "              style=\"display:none;\">\n",
              "        \n",
              "  <svg xmlns=\"http://www.w3.org/2000/svg\" height=\"24px\"viewBox=\"0 0 24 24\"\n",
              "       width=\"24px\">\n",
              "    <path d=\"M0 0h24v24H0V0z\" fill=\"none\"/>\n",
              "    <path d=\"M18.56 5.44l.94 2.06.94-2.06 2.06-.94-2.06-.94-.94-2.06-.94 2.06-2.06.94zm-11 1L8.5 8.5l.94-2.06 2.06-.94-2.06-.94L8.5 2.5l-.94 2.06-2.06.94zm10 10l.94 2.06.94-2.06 2.06-.94-2.06-.94-.94-2.06-.94 2.06-2.06.94z\"/><path d=\"M17.41 7.96l-1.37-1.37c-.4-.4-.92-.59-1.43-.59-.52 0-1.04.2-1.43.59L10.3 9.45l-7.72 7.72c-.78.78-.78 2.05 0 2.83L4 21.41c.39.39.9.59 1.41.59.51 0 1.02-.2 1.41-.59l7.78-7.78 2.81-2.81c.8-.78.8-2.07 0-2.86zM5.41 20L4 18.59l7.72-7.72 1.47 1.35L5.41 20z\"/>\n",
              "  </svg>\n",
              "      </button>\n",
              "      \n",
              "  <style>\n",
              "    .colab-df-container {\n",
              "      display:flex;\n",
              "      flex-wrap:wrap;\n",
              "      gap: 12px;\n",
              "    }\n",
              "\n",
              "    .colab-df-convert {\n",
              "      background-color: #E8F0FE;\n",
              "      border: none;\n",
              "      border-radius: 50%;\n",
              "      cursor: pointer;\n",
              "      display: none;\n",
              "      fill: #1967D2;\n",
              "      height: 32px;\n",
              "      padding: 0 0 0 0;\n",
              "      width: 32px;\n",
              "    }\n",
              "\n",
              "    .colab-df-convert:hover {\n",
              "      background-color: #E2EBFA;\n",
              "      box-shadow: 0px 1px 2px rgba(60, 64, 67, 0.3), 0px 1px 3px 1px rgba(60, 64, 67, 0.15);\n",
              "      fill: #174EA6;\n",
              "    }\n",
              "\n",
              "    [theme=dark] .colab-df-convert {\n",
              "      background-color: #3B4455;\n",
              "      fill: #D2E3FC;\n",
              "    }\n",
              "\n",
              "    [theme=dark] .colab-df-convert:hover {\n",
              "      background-color: #434B5C;\n",
              "      box-shadow: 0px 1px 3px 1px rgba(0, 0, 0, 0.15);\n",
              "      filter: drop-shadow(0px 1px 2px rgba(0, 0, 0, 0.3));\n",
              "      fill: #FFFFFF;\n",
              "    }\n",
              "  </style>\n",
              "\n",
              "      <script>\n",
              "        const buttonEl =\n",
              "          document.querySelector('#df-8eb54a79-c5c7-43d5-ba13-3a5193849d73 button.colab-df-convert');\n",
              "        buttonEl.style.display =\n",
              "          google.colab.kernel.accessAllowed ? 'block' : 'none';\n",
              "\n",
              "        async function convertToInteractive(key) {\n",
              "          const element = document.querySelector('#df-8eb54a79-c5c7-43d5-ba13-3a5193849d73');\n",
              "          const dataTable =\n",
              "            await google.colab.kernel.invokeFunction('convertToInteractive',\n",
              "                                                     [key], {});\n",
              "          if (!dataTable) return;\n",
              "\n",
              "          const docLinkHtml = 'Like what you see? Visit the ' +\n",
              "            '<a target=\"_blank\" href=https://colab.research.google.com/notebooks/data_table.ipynb>data table notebook</a>'\n",
              "            + ' to learn more about interactive tables.';\n",
              "          element.innerHTML = '';\n",
              "          dataTable['output_type'] = 'display_data';\n",
              "          await google.colab.output.renderOutput(dataTable, element);\n",
              "          const docLink = document.createElement('div');\n",
              "          docLink.innerHTML = docLinkHtml;\n",
              "          element.appendChild(docLink);\n",
              "        }\n",
              "      </script>\n",
              "    </div>\n",
              "  </div>\n",
              "  "
            ]
          },
          "metadata": {},
          "execution_count": 102
        }
      ]
    },
    {
      "cell_type": "code",
      "source": [
        "application_history_9.info()"
      ],
      "metadata": {
        "colab": {
          "base_uri": "https://localhost:8080/"
        },
        "id": "AACMTCFXNMA4",
        "outputId": "c481117c-479f-4e84-ab35-69a161ccd5c2"
      },
      "execution_count": null,
      "outputs": [
        {
          "output_type": "stream",
          "name": "stdout",
          "text": [
            "<class 'pandas.core.frame.DataFrame'>\n",
            "Int64Index: 8116 entries, 2 to 32909\n",
            "Data columns (total 15 columns):\n",
            " #   Column               Non-Null Count  Dtype \n",
            "---  ------               --------------  ----- \n",
            " 0   JK                   8116 non-null   int64 \n",
            " 1   KepemilikanMobil     8116 non-null   int64 \n",
            " 2   KepemilikanProperti  8116 non-null   int64 \n",
            " 3   Pendapatan           8116 non-null   int64 \n",
            " 4   TipePendapatan       8116 non-null   int64 \n",
            " 5   TingkatPendidikan    8116 non-null   int64 \n",
            " 6   StatusKeluarga       8116 non-null   int64 \n",
            " 7   TipeRumah            8116 non-null   int64 \n",
            " 8   FlagWorkPhone        8116 non-null   int64 \n",
            " 9   FlagPhone            8116 non-null   int64 \n",
            " 10  Email                8116 non-null   int64 \n",
            " 11  JmlAnggotaKeluarga   8116 non-null   int64 \n",
            " 12  Experience           8116 non-null   int64 \n",
            " 13  Overdue              8116 non-null   object\n",
            " 14  status               8116 non-null   int64 \n",
            "dtypes: int64(14), object(1)\n",
            "memory usage: 1.2+ MB\n"
          ]
        }
      ]
    },
    {
      "cell_type": "markdown",
      "source": [
        "### Encode The Data (Label Encoder)"
      ],
      "metadata": {
        "id": "sDJzevkZ3An2"
      }
    },
    {
      "cell_type": "code",
      "source": [
        "from sklearn.preprocessing import LabelEncoder\n",
        "\n",
        "for col in [\"JK\",\"KepemilikanProperti\", \"KepemilikanMobil\", \"TipePendapatan\", \"TingkatPendidikan\", \"TipeRumah\", \"StatusKeluarga\"]:\n",
        "    application_history_9[col] = LabelEncoder().fit_transform(application_history_9[col])"
      ],
      "metadata": {
        "colab": {
          "base_uri": "https://localhost:8080/"
        },
        "id": "gE1yfho33DeJ",
        "outputId": "2af335e2-b573-4aad-89b9-70913a12787e"
      },
      "execution_count": null,
      "outputs": [
        {
          "output_type": "stream",
          "name": "stderr",
          "text": [
            "<ipython-input-247-9b869e3cedf4>:4: SettingWithCopyWarning: \n",
            "A value is trying to be set on a copy of a slice from a DataFrame.\n",
            "Try using .loc[row_indexer,col_indexer] = value instead\n",
            "\n",
            "See the caveats in the documentation: https://pandas.pydata.org/pandas-docs/stable/user_guide/indexing.html#returning-a-view-versus-a-copy\n",
            "  application_history_9[col] = LabelEncoder().fit_transform(application_history_9[col])\n"
          ]
        }
      ]
    },
    {
      "cell_type": "code",
      "source": [
        "application_history_9"
      ],
      "metadata": {
        "colab": {
          "base_uri": "https://localhost:8080/",
          "height": 487
        },
        "id": "E1ah_Iob307k",
        "outputId": "f5185555-8454-480b-c170-57a50f794fc6"
      },
      "execution_count": null,
      "outputs": [
        {
          "output_type": "execute_result",
          "data": {
            "text/plain": [
              "       JK  KepemilikanMobil  KepemilikanProperti  Pendapatan  TipePendapatan  \\\n",
              "2       0                 1                    1      112500               1   \n",
              "3       0                 1                    1      270000               1   \n",
              "5       0                 1                    1      135000               0   \n",
              "18      0                 1                    1      112500               0   \n",
              "26      0                 1                    1      360000               0   \n",
              "...    ..               ...                  ...         ...             ...   \n",
              "32903   1                 0                    1      180000               1   \n",
              "32905   1                 0                    1      112500               0   \n",
              "32907   1                 0                    1      157500               0   \n",
              "32908   1                 0                    1      157500               4   \n",
              "32909   1                 0                    1      283500               1   \n",
              "\n",
              "       TingkatPendidikan  StatusKeluarga  TipeRumah  FlagWorkPhone  FlagPhone  \\\n",
              "2                      0               1          1              0          0   \n",
              "3                      1               1          1              1          1   \n",
              "5                      0               1          1              0          0   \n",
              "18                     0               1          1              0          1   \n",
              "26                     0               1          1              0          1   \n",
              "...                  ...             ...        ...            ...        ...   \n",
              "32903                  0               1          1              0          0   \n",
              "32905                  0               1          1              1          1   \n",
              "32907                  1               1          1              0          1   \n",
              "32908                  1               1          1              0          1   \n",
              "32909                  0               1          1              0          0   \n",
              "\n",
              "       Email  JmlAnggotaKeluarga  Experience Overdue  status  \n",
              "2          0                   2           3       0       0  \n",
              "3          1                   2           2       0       0  \n",
              "5          0                   2           3       0       0  \n",
              "18         0                   2          12       0       0  \n",
              "26         0                   2          15       1       1  \n",
              "...      ...                 ...         ...     ...     ...  \n",
              "32903      0                   2          10       2       1  \n",
              "32905      0                   2           7       2       1  \n",
              "32907      1                   2           4       5       1  \n",
              "32908      1                   2           4       5       1  \n",
              "32909      0                   2           2       2       1  \n",
              "\n",
              "[8116 rows x 15 columns]"
            ],
            "text/html": [
              "\n",
              "  <div id=\"df-20be7136-693a-4cf7-93b7-96968c830a1d\">\n",
              "    <div class=\"colab-df-container\">\n",
              "      <div>\n",
              "<style scoped>\n",
              "    .dataframe tbody tr th:only-of-type {\n",
              "        vertical-align: middle;\n",
              "    }\n",
              "\n",
              "    .dataframe tbody tr th {\n",
              "        vertical-align: top;\n",
              "    }\n",
              "\n",
              "    .dataframe thead th {\n",
              "        text-align: right;\n",
              "    }\n",
              "</style>\n",
              "<table border=\"1\" class=\"dataframe\">\n",
              "  <thead>\n",
              "    <tr style=\"text-align: right;\">\n",
              "      <th></th>\n",
              "      <th>JK</th>\n",
              "      <th>KepemilikanMobil</th>\n",
              "      <th>KepemilikanProperti</th>\n",
              "      <th>Pendapatan</th>\n",
              "      <th>TipePendapatan</th>\n",
              "      <th>TingkatPendidikan</th>\n",
              "      <th>StatusKeluarga</th>\n",
              "      <th>TipeRumah</th>\n",
              "      <th>FlagWorkPhone</th>\n",
              "      <th>FlagPhone</th>\n",
              "      <th>Email</th>\n",
              "      <th>JmlAnggotaKeluarga</th>\n",
              "      <th>Experience</th>\n",
              "      <th>Overdue</th>\n",
              "      <th>status</th>\n",
              "    </tr>\n",
              "  </thead>\n",
              "  <tbody>\n",
              "    <tr>\n",
              "      <th>2</th>\n",
              "      <td>0</td>\n",
              "      <td>1</td>\n",
              "      <td>1</td>\n",
              "      <td>112500</td>\n",
              "      <td>1</td>\n",
              "      <td>0</td>\n",
              "      <td>1</td>\n",
              "      <td>1</td>\n",
              "      <td>0</td>\n",
              "      <td>0</td>\n",
              "      <td>0</td>\n",
              "      <td>2</td>\n",
              "      <td>3</td>\n",
              "      <td>0</td>\n",
              "      <td>0</td>\n",
              "    </tr>\n",
              "    <tr>\n",
              "      <th>3</th>\n",
              "      <td>0</td>\n",
              "      <td>1</td>\n",
              "      <td>1</td>\n",
              "      <td>270000</td>\n",
              "      <td>1</td>\n",
              "      <td>1</td>\n",
              "      <td>1</td>\n",
              "      <td>1</td>\n",
              "      <td>1</td>\n",
              "      <td>1</td>\n",
              "      <td>1</td>\n",
              "      <td>2</td>\n",
              "      <td>2</td>\n",
              "      <td>0</td>\n",
              "      <td>0</td>\n",
              "    </tr>\n",
              "    <tr>\n",
              "      <th>5</th>\n",
              "      <td>0</td>\n",
              "      <td>1</td>\n",
              "      <td>1</td>\n",
              "      <td>135000</td>\n",
              "      <td>0</td>\n",
              "      <td>0</td>\n",
              "      <td>1</td>\n",
              "      <td>1</td>\n",
              "      <td>0</td>\n",
              "      <td>0</td>\n",
              "      <td>0</td>\n",
              "      <td>2</td>\n",
              "      <td>3</td>\n",
              "      <td>0</td>\n",
              "      <td>0</td>\n",
              "    </tr>\n",
              "    <tr>\n",
              "      <th>18</th>\n",
              "      <td>0</td>\n",
              "      <td>1</td>\n",
              "      <td>1</td>\n",
              "      <td>112500</td>\n",
              "      <td>0</td>\n",
              "      <td>0</td>\n",
              "      <td>1</td>\n",
              "      <td>1</td>\n",
              "      <td>0</td>\n",
              "      <td>1</td>\n",
              "      <td>0</td>\n",
              "      <td>2</td>\n",
              "      <td>12</td>\n",
              "      <td>0</td>\n",
              "      <td>0</td>\n",
              "    </tr>\n",
              "    <tr>\n",
              "      <th>26</th>\n",
              "      <td>0</td>\n",
              "      <td>1</td>\n",
              "      <td>1</td>\n",
              "      <td>360000</td>\n",
              "      <td>0</td>\n",
              "      <td>0</td>\n",
              "      <td>1</td>\n",
              "      <td>1</td>\n",
              "      <td>0</td>\n",
              "      <td>1</td>\n",
              "      <td>0</td>\n",
              "      <td>2</td>\n",
              "      <td>15</td>\n",
              "      <td>1</td>\n",
              "      <td>1</td>\n",
              "    </tr>\n",
              "    <tr>\n",
              "      <th>...</th>\n",
              "      <td>...</td>\n",
              "      <td>...</td>\n",
              "      <td>...</td>\n",
              "      <td>...</td>\n",
              "      <td>...</td>\n",
              "      <td>...</td>\n",
              "      <td>...</td>\n",
              "      <td>...</td>\n",
              "      <td>...</td>\n",
              "      <td>...</td>\n",
              "      <td>...</td>\n",
              "      <td>...</td>\n",
              "      <td>...</td>\n",
              "      <td>...</td>\n",
              "      <td>...</td>\n",
              "    </tr>\n",
              "    <tr>\n",
              "      <th>32903</th>\n",
              "      <td>1</td>\n",
              "      <td>0</td>\n",
              "      <td>1</td>\n",
              "      <td>180000</td>\n",
              "      <td>1</td>\n",
              "      <td>0</td>\n",
              "      <td>1</td>\n",
              "      <td>1</td>\n",
              "      <td>0</td>\n",
              "      <td>0</td>\n",
              "      <td>0</td>\n",
              "      <td>2</td>\n",
              "      <td>10</td>\n",
              "      <td>2</td>\n",
              "      <td>1</td>\n",
              "    </tr>\n",
              "    <tr>\n",
              "      <th>32905</th>\n",
              "      <td>1</td>\n",
              "      <td>0</td>\n",
              "      <td>1</td>\n",
              "      <td>112500</td>\n",
              "      <td>0</td>\n",
              "      <td>0</td>\n",
              "      <td>1</td>\n",
              "      <td>1</td>\n",
              "      <td>1</td>\n",
              "      <td>1</td>\n",
              "      <td>0</td>\n",
              "      <td>2</td>\n",
              "      <td>7</td>\n",
              "      <td>2</td>\n",
              "      <td>1</td>\n",
              "    </tr>\n",
              "    <tr>\n",
              "      <th>32907</th>\n",
              "      <td>1</td>\n",
              "      <td>0</td>\n",
              "      <td>1</td>\n",
              "      <td>157500</td>\n",
              "      <td>0</td>\n",
              "      <td>1</td>\n",
              "      <td>1</td>\n",
              "      <td>1</td>\n",
              "      <td>0</td>\n",
              "      <td>1</td>\n",
              "      <td>1</td>\n",
              "      <td>2</td>\n",
              "      <td>4</td>\n",
              "      <td>5</td>\n",
              "      <td>1</td>\n",
              "    </tr>\n",
              "    <tr>\n",
              "      <th>32908</th>\n",
              "      <td>1</td>\n",
              "      <td>0</td>\n",
              "      <td>1</td>\n",
              "      <td>157500</td>\n",
              "      <td>4</td>\n",
              "      <td>1</td>\n",
              "      <td>1</td>\n",
              "      <td>1</td>\n",
              "      <td>0</td>\n",
              "      <td>1</td>\n",
              "      <td>1</td>\n",
              "      <td>2</td>\n",
              "      <td>4</td>\n",
              "      <td>5</td>\n",
              "      <td>1</td>\n",
              "    </tr>\n",
              "    <tr>\n",
              "      <th>32909</th>\n",
              "      <td>1</td>\n",
              "      <td>0</td>\n",
              "      <td>1</td>\n",
              "      <td>283500</td>\n",
              "      <td>1</td>\n",
              "      <td>0</td>\n",
              "      <td>1</td>\n",
              "      <td>1</td>\n",
              "      <td>0</td>\n",
              "      <td>0</td>\n",
              "      <td>0</td>\n",
              "      <td>2</td>\n",
              "      <td>2</td>\n",
              "      <td>2</td>\n",
              "      <td>1</td>\n",
              "    </tr>\n",
              "  </tbody>\n",
              "</table>\n",
              "<p>8116 rows × 15 columns</p>\n",
              "</div>\n",
              "      <button class=\"colab-df-convert\" onclick=\"convertToInteractive('df-20be7136-693a-4cf7-93b7-96968c830a1d')\"\n",
              "              title=\"Convert this dataframe to an interactive table.\"\n",
              "              style=\"display:none;\">\n",
              "        \n",
              "  <svg xmlns=\"http://www.w3.org/2000/svg\" height=\"24px\"viewBox=\"0 0 24 24\"\n",
              "       width=\"24px\">\n",
              "    <path d=\"M0 0h24v24H0V0z\" fill=\"none\"/>\n",
              "    <path d=\"M18.56 5.44l.94 2.06.94-2.06 2.06-.94-2.06-.94-.94-2.06-.94 2.06-2.06.94zm-11 1L8.5 8.5l.94-2.06 2.06-.94-2.06-.94L8.5 2.5l-.94 2.06-2.06.94zm10 10l.94 2.06.94-2.06 2.06-.94-2.06-.94-.94-2.06-.94 2.06-2.06.94z\"/><path d=\"M17.41 7.96l-1.37-1.37c-.4-.4-.92-.59-1.43-.59-.52 0-1.04.2-1.43.59L10.3 9.45l-7.72 7.72c-.78.78-.78 2.05 0 2.83L4 21.41c.39.39.9.59 1.41.59.51 0 1.02-.2 1.41-.59l7.78-7.78 2.81-2.81c.8-.78.8-2.07 0-2.86zM5.41 20L4 18.59l7.72-7.72 1.47 1.35L5.41 20z\"/>\n",
              "  </svg>\n",
              "      </button>\n",
              "      \n",
              "  <style>\n",
              "    .colab-df-container {\n",
              "      display:flex;\n",
              "      flex-wrap:wrap;\n",
              "      gap: 12px;\n",
              "    }\n",
              "\n",
              "    .colab-df-convert {\n",
              "      background-color: #E8F0FE;\n",
              "      border: none;\n",
              "      border-radius: 50%;\n",
              "      cursor: pointer;\n",
              "      display: none;\n",
              "      fill: #1967D2;\n",
              "      height: 32px;\n",
              "      padding: 0 0 0 0;\n",
              "      width: 32px;\n",
              "    }\n",
              "\n",
              "    .colab-df-convert:hover {\n",
              "      background-color: #E2EBFA;\n",
              "      box-shadow: 0px 1px 2px rgba(60, 64, 67, 0.3), 0px 1px 3px 1px rgba(60, 64, 67, 0.15);\n",
              "      fill: #174EA6;\n",
              "    }\n",
              "\n",
              "    [theme=dark] .colab-df-convert {\n",
              "      background-color: #3B4455;\n",
              "      fill: #D2E3FC;\n",
              "    }\n",
              "\n",
              "    [theme=dark] .colab-df-convert:hover {\n",
              "      background-color: #434B5C;\n",
              "      box-shadow: 0px 1px 3px 1px rgba(0, 0, 0, 0.15);\n",
              "      filter: drop-shadow(0px 1px 2px rgba(0, 0, 0, 0.3));\n",
              "      fill: #FFFFFF;\n",
              "    }\n",
              "  </style>\n",
              "\n",
              "      <script>\n",
              "        const buttonEl =\n",
              "          document.querySelector('#df-20be7136-693a-4cf7-93b7-96968c830a1d button.colab-df-convert');\n",
              "        buttonEl.style.display =\n",
              "          google.colab.kernel.accessAllowed ? 'block' : 'none';\n",
              "\n",
              "        async function convertToInteractive(key) {\n",
              "          const element = document.querySelector('#df-20be7136-693a-4cf7-93b7-96968c830a1d');\n",
              "          const dataTable =\n",
              "            await google.colab.kernel.invokeFunction('convertToInteractive',\n",
              "                                                     [key], {});\n",
              "          if (!dataTable) return;\n",
              "\n",
              "          const docLinkHtml = 'Like what you see? Visit the ' +\n",
              "            '<a target=\"_blank\" href=https://colab.research.google.com/notebooks/data_table.ipynb>data table notebook</a>'\n",
              "            + ' to learn more about interactive tables.';\n",
              "          element.innerHTML = '';\n",
              "          dataTable['output_type'] = 'display_data';\n",
              "          await google.colab.output.renderOutput(dataTable, element);\n",
              "          const docLink = document.createElement('div');\n",
              "          docLink.innerHTML = docLinkHtml;\n",
              "          element.appendChild(docLink);\n",
              "        }\n",
              "      </script>\n",
              "    </div>\n",
              "  </div>\n",
              "  "
            ]
          },
          "metadata": {},
          "execution_count": 248
        }
      ]
    },
    {
      "cell_type": "markdown",
      "metadata": {
        "id": "vXSBSpZqFVzV"
      },
      "source": [
        "### Scaling Variable (MinMax Scaler)"
      ]
    },
    {
      "cell_type": "code",
      "execution_count": null,
      "metadata": {
        "id": "0sYMPVHUFao9"
      },
      "outputs": [],
      "source": [
        "from sklearn.preprocessing import MinMaxScaler"
      ]
    },
    {
      "cell_type": "code",
      "execution_count": null,
      "metadata": {
        "colab": {
          "base_uri": "https://localhost:8080/",
          "height": 374
        },
        "id": "AN4dx3gjF5-Z",
        "outputId": "63cd54f2-7042-48d4-f06d-fba58f00d829"
      },
      "outputs": [
        {
          "output_type": "stream",
          "name": "stderr",
          "text": [
            "/usr/local/lib/python3.8/dist-packages/pandas/core/frame.py:3678: SettingWithCopyWarning: \n",
            "A value is trying to be set on a copy of a slice from a DataFrame.\n",
            "Try using .loc[row_indexer,col_indexer] = value instead\n",
            "\n",
            "See the caveats in the documentation: https://pandas.pydata.org/pandas-docs/stable/user_guide/indexing.html#returning-a-view-versus-a-copy\n",
            "  self[col] = igetitem(value, i)\n"
          ]
        },
        {
          "output_type": "execute_result",
          "data": {
            "text/plain": [
              "     JK  KepemilikanMobil  KepemilikanProperti  Pendapatan  TipePendapatan  \\\n",
              "2   0.0               1.0                  1.0    0.234568            0.25   \n",
              "3   0.0               1.0                  1.0    0.666667            0.25   \n",
              "5   0.0               1.0                  1.0    0.296296            0.00   \n",
              "18  0.0               1.0                  1.0    0.234568            0.00   \n",
              "26  0.0               1.0                  1.0    0.913580            0.00   \n",
              "\n",
              "    TingkatPendidikan  StatusKeluarga  TipeRumah  FlagWorkPhone  FlagPhone  \\\n",
              "2                 0.0             0.5       0.25            0.0        0.0   \n",
              "3                 0.5             0.5       0.25            1.0        1.0   \n",
              "5                 0.0             0.5       0.25            0.0        0.0   \n",
              "18                0.0             0.5       0.25            0.0        1.0   \n",
              "26                0.0             0.5       0.25            0.0        1.0   \n",
              "\n",
              "    Email  JmlAnggotaKeluarga  Experience  Overdue  status  \n",
              "2     0.0            0.333333    0.157895      0.0     0.0  \n",
              "3     1.0            0.333333    0.105263      0.0     0.0  \n",
              "5     0.0            0.333333    0.157895      0.0     0.0  \n",
              "18    0.0            0.333333    0.631579      0.0     0.0  \n",
              "26    0.0            0.333333    0.789474      0.2     1.0  "
            ],
            "text/html": [
              "\n",
              "  <div id=\"df-a65ebcf1-b177-4e18-89c1-e69f5de85d34\">\n",
              "    <div class=\"colab-df-container\">\n",
              "      <div>\n",
              "<style scoped>\n",
              "    .dataframe tbody tr th:only-of-type {\n",
              "        vertical-align: middle;\n",
              "    }\n",
              "\n",
              "    .dataframe tbody tr th {\n",
              "        vertical-align: top;\n",
              "    }\n",
              "\n",
              "    .dataframe thead th {\n",
              "        text-align: right;\n",
              "    }\n",
              "</style>\n",
              "<table border=\"1\" class=\"dataframe\">\n",
              "  <thead>\n",
              "    <tr style=\"text-align: right;\">\n",
              "      <th></th>\n",
              "      <th>JK</th>\n",
              "      <th>KepemilikanMobil</th>\n",
              "      <th>KepemilikanProperti</th>\n",
              "      <th>Pendapatan</th>\n",
              "      <th>TipePendapatan</th>\n",
              "      <th>TingkatPendidikan</th>\n",
              "      <th>StatusKeluarga</th>\n",
              "      <th>TipeRumah</th>\n",
              "      <th>FlagWorkPhone</th>\n",
              "      <th>FlagPhone</th>\n",
              "      <th>Email</th>\n",
              "      <th>JmlAnggotaKeluarga</th>\n",
              "      <th>Experience</th>\n",
              "      <th>Overdue</th>\n",
              "      <th>status</th>\n",
              "    </tr>\n",
              "  </thead>\n",
              "  <tbody>\n",
              "    <tr>\n",
              "      <th>2</th>\n",
              "      <td>0.0</td>\n",
              "      <td>1.0</td>\n",
              "      <td>1.0</td>\n",
              "      <td>0.234568</td>\n",
              "      <td>0.25</td>\n",
              "      <td>0.0</td>\n",
              "      <td>0.5</td>\n",
              "      <td>0.25</td>\n",
              "      <td>0.0</td>\n",
              "      <td>0.0</td>\n",
              "      <td>0.0</td>\n",
              "      <td>0.333333</td>\n",
              "      <td>0.157895</td>\n",
              "      <td>0.0</td>\n",
              "      <td>0.0</td>\n",
              "    </tr>\n",
              "    <tr>\n",
              "      <th>3</th>\n",
              "      <td>0.0</td>\n",
              "      <td>1.0</td>\n",
              "      <td>1.0</td>\n",
              "      <td>0.666667</td>\n",
              "      <td>0.25</td>\n",
              "      <td>0.5</td>\n",
              "      <td>0.5</td>\n",
              "      <td>0.25</td>\n",
              "      <td>1.0</td>\n",
              "      <td>1.0</td>\n",
              "      <td>1.0</td>\n",
              "      <td>0.333333</td>\n",
              "      <td>0.105263</td>\n",
              "      <td>0.0</td>\n",
              "      <td>0.0</td>\n",
              "    </tr>\n",
              "    <tr>\n",
              "      <th>5</th>\n",
              "      <td>0.0</td>\n",
              "      <td>1.0</td>\n",
              "      <td>1.0</td>\n",
              "      <td>0.296296</td>\n",
              "      <td>0.00</td>\n",
              "      <td>0.0</td>\n",
              "      <td>0.5</td>\n",
              "      <td>0.25</td>\n",
              "      <td>0.0</td>\n",
              "      <td>0.0</td>\n",
              "      <td>0.0</td>\n",
              "      <td>0.333333</td>\n",
              "      <td>0.157895</td>\n",
              "      <td>0.0</td>\n",
              "      <td>0.0</td>\n",
              "    </tr>\n",
              "    <tr>\n",
              "      <th>18</th>\n",
              "      <td>0.0</td>\n",
              "      <td>1.0</td>\n",
              "      <td>1.0</td>\n",
              "      <td>0.234568</td>\n",
              "      <td>0.00</td>\n",
              "      <td>0.0</td>\n",
              "      <td>0.5</td>\n",
              "      <td>0.25</td>\n",
              "      <td>0.0</td>\n",
              "      <td>1.0</td>\n",
              "      <td>0.0</td>\n",
              "      <td>0.333333</td>\n",
              "      <td>0.631579</td>\n",
              "      <td>0.0</td>\n",
              "      <td>0.0</td>\n",
              "    </tr>\n",
              "    <tr>\n",
              "      <th>26</th>\n",
              "      <td>0.0</td>\n",
              "      <td>1.0</td>\n",
              "      <td>1.0</td>\n",
              "      <td>0.913580</td>\n",
              "      <td>0.00</td>\n",
              "      <td>0.0</td>\n",
              "      <td>0.5</td>\n",
              "      <td>0.25</td>\n",
              "      <td>0.0</td>\n",
              "      <td>1.0</td>\n",
              "      <td>0.0</td>\n",
              "      <td>0.333333</td>\n",
              "      <td>0.789474</td>\n",
              "      <td>0.2</td>\n",
              "      <td>1.0</td>\n",
              "    </tr>\n",
              "  </tbody>\n",
              "</table>\n",
              "</div>\n",
              "      <button class=\"colab-df-convert\" onclick=\"convertToInteractive('df-a65ebcf1-b177-4e18-89c1-e69f5de85d34')\"\n",
              "              title=\"Convert this dataframe to an interactive table.\"\n",
              "              style=\"display:none;\">\n",
              "        \n",
              "  <svg xmlns=\"http://www.w3.org/2000/svg\" height=\"24px\"viewBox=\"0 0 24 24\"\n",
              "       width=\"24px\">\n",
              "    <path d=\"M0 0h24v24H0V0z\" fill=\"none\"/>\n",
              "    <path d=\"M18.56 5.44l.94 2.06.94-2.06 2.06-.94-2.06-.94-.94-2.06-.94 2.06-2.06.94zm-11 1L8.5 8.5l.94-2.06 2.06-.94-2.06-.94L8.5 2.5l-.94 2.06-2.06.94zm10 10l.94 2.06.94-2.06 2.06-.94-2.06-.94-.94-2.06-.94 2.06-2.06.94z\"/><path d=\"M17.41 7.96l-1.37-1.37c-.4-.4-.92-.59-1.43-.59-.52 0-1.04.2-1.43.59L10.3 9.45l-7.72 7.72c-.78.78-.78 2.05 0 2.83L4 21.41c.39.39.9.59 1.41.59.51 0 1.02-.2 1.41-.59l7.78-7.78 2.81-2.81c.8-.78.8-2.07 0-2.86zM5.41 20L4 18.59l7.72-7.72 1.47 1.35L5.41 20z\"/>\n",
              "  </svg>\n",
              "      </button>\n",
              "      \n",
              "  <style>\n",
              "    .colab-df-container {\n",
              "      display:flex;\n",
              "      flex-wrap:wrap;\n",
              "      gap: 12px;\n",
              "    }\n",
              "\n",
              "    .colab-df-convert {\n",
              "      background-color: #E8F0FE;\n",
              "      border: none;\n",
              "      border-radius: 50%;\n",
              "      cursor: pointer;\n",
              "      display: none;\n",
              "      fill: #1967D2;\n",
              "      height: 32px;\n",
              "      padding: 0 0 0 0;\n",
              "      width: 32px;\n",
              "    }\n",
              "\n",
              "    .colab-df-convert:hover {\n",
              "      background-color: #E2EBFA;\n",
              "      box-shadow: 0px 1px 2px rgba(60, 64, 67, 0.3), 0px 1px 3px 1px rgba(60, 64, 67, 0.15);\n",
              "      fill: #174EA6;\n",
              "    }\n",
              "\n",
              "    [theme=dark] .colab-df-convert {\n",
              "      background-color: #3B4455;\n",
              "      fill: #D2E3FC;\n",
              "    }\n",
              "\n",
              "    [theme=dark] .colab-df-convert:hover {\n",
              "      background-color: #434B5C;\n",
              "      box-shadow: 0px 1px 3px 1px rgba(0, 0, 0, 0.15);\n",
              "      filter: drop-shadow(0px 1px 2px rgba(0, 0, 0, 0.3));\n",
              "      fill: #FFFFFF;\n",
              "    }\n",
              "  </style>\n",
              "\n",
              "      <script>\n",
              "        const buttonEl =\n",
              "          document.querySelector('#df-a65ebcf1-b177-4e18-89c1-e69f5de85d34 button.colab-df-convert');\n",
              "        buttonEl.style.display =\n",
              "          google.colab.kernel.accessAllowed ? 'block' : 'none';\n",
              "\n",
              "        async function convertToInteractive(key) {\n",
              "          const element = document.querySelector('#df-a65ebcf1-b177-4e18-89c1-e69f5de85d34');\n",
              "          const dataTable =\n",
              "            await google.colab.kernel.invokeFunction('convertToInteractive',\n",
              "                                                     [key], {});\n",
              "          if (!dataTable) return;\n",
              "\n",
              "          const docLinkHtml = 'Like what you see? Visit the ' +\n",
              "            '<a target=\"_blank\" href=https://colab.research.google.com/notebooks/data_table.ipynb>data table notebook</a>'\n",
              "            + ' to learn more about interactive tables.';\n",
              "          element.innerHTML = '';\n",
              "          dataTable['output_type'] = 'display_data';\n",
              "          await google.colab.output.renderOutput(dataTable, element);\n",
              "          const docLink = document.createElement('div');\n",
              "          docLink.innerHTML = docLinkHtml;\n",
              "          element.appendChild(docLink);\n",
              "        }\n",
              "      </script>\n",
              "    </div>\n",
              "  </div>\n",
              "  "
            ]
          },
          "metadata": {},
          "execution_count": 250
        }
      ],
      "source": [
        "col=['JK', 'KepemilikanMobil', 'KepemilikanProperti', 'TipePendapatan', 'TingkatPendidikan', 'StatusKeluarga', \n",
        "     'TipeRumah', 'FlagWorkPhone', 'FlagPhone', 'Email', 'Overdue', 'status','Pendapatan','JmlAnggotaKeluarga','Experience']\n",
        "scaler=MinMaxScaler()\n",
        "\n",
        "application_history_9[col]=scaler.fit_transform(application_history_9[col])\n",
        "application_history_9.head()"
      ]
    },
    {
      "cell_type": "markdown",
      "metadata": {
        "id": "QLkF__KVdfV3"
      },
      "source": [
        "### Handling Imbalance Data"
      ]
    },
    {
      "cell_type": "markdown",
      "metadata": {
        "id": "qv9Xbd3yHn3s"
      },
      "source": [
        "#### Smote"
      ]
    },
    {
      "cell_type": "code",
      "execution_count": null,
      "metadata": {
        "colab": {
          "base_uri": "https://localhost:8080/"
        },
        "id": "i-K0C9MjdquP",
        "outputId": "56784ef3-1b2d-4420-ff0b-c0b5a985125d"
      },
      "outputs": [
        {
          "output_type": "stream",
          "name": "stdout",
          "text": [
            "(8116, 13)\n",
            "(8116,)\n",
            "0.0    6251\n",
            "1.0    1865\n",
            "Name: status, dtype: int64\n"
          ]
        }
      ],
      "source": [
        "x = application_history_9.drop(['status', 'Overdue'], axis=1)\n",
        "y = application_history_9['status']\n",
        "\n",
        "print(x.shape)\n",
        "print(y.shape)\n",
        "print(y.value_counts())"
      ]
    },
    {
      "cell_type": "code",
      "source": [
        "fig = plt.figure(figsize = (16, 10))\n",
        "y.value_counts().plot(kind = 'bar')\n",
        "plt.legend()"
      ],
      "metadata": {
        "colab": {
          "base_uri": "https://localhost:8080/",
          "height": 417
        },
        "id": "j3Ua8gqbPSoO",
        "outputId": "b7688c37-ab1c-4f62-c643-3bc670cc2083"
      },
      "execution_count": null,
      "outputs": [
        {
          "output_type": "execute_result",
          "data": {
            "text/plain": [
              "<matplotlib.legend.Legend at 0x7f165b97ee80>"
            ]
          },
          "metadata": {},
          "execution_count": 132
        },
        {
          "output_type": "display_data",
          "data": {
            "text/plain": [
              "<Figure size 1152x720 with 1 Axes>"
            ],
            "image/png": "[encoded data removed]"
          },
          "metadata": {}
        }
      ]
    },
    {
      "cell_type": "code",
      "source": [
        "from imblearn.over_sampling import SMOTE\n",
        "\n",
        "smote = SMOTE(sampling_strategy='minority')\n",
        "\n",
        "x_sm, y_sm = smote.fit_resample(x,y)\n",
        "\n",
        "print(y_sm.value_counts())"
      ],
      "metadata": {
        "colab": {
          "base_uri": "https://localhost:8080/"
        },
        "id": "sdFhcVof45M9",
        "outputId": "d0fcb7ae-8b88-4510-cf4e-232984a60a50"
      },
      "execution_count": null,
      "outputs": [
        {
          "output_type": "stream",
          "name": "stdout",
          "text": [
            "0.0    6251\n",
            "1.0    6251\n",
            "Name: status, dtype: int64\n"
          ]
        }
      ]
    },
    {
      "cell_type": "code",
      "source": [
        "fig = plt.figure(figsize = (16, 10))\n",
        "y_sm.value_counts().plot(kind = 'bar')\n",
        "plt.legend()"
      ],
      "metadata": {
        "colab": {
          "base_uri": "https://localhost:8080/",
          "height": 417
        },
        "id": "6R2odQlqXxgk",
        "outputId": "36aa31e4-5876-44ac-f2dc-6399e13aa019"
      },
      "execution_count": null,
      "outputs": [
        {
          "output_type": "execute_result",
          "data": {
            "text/plain": [
              "<matplotlib.legend.Legend at 0x7f1659085f10>"
            ]
          },
          "metadata": {},
          "execution_count": 134
        },
        {
          "output_type": "display_data",
          "data": {
            "text/plain": [
              "<Figure size 1152x720 with 1 Axes>"
            ],
            "image/png": "[encoded data removed]"
          },
          "metadata": {}
        }
      ]
    },
    {
      "cell_type": "markdown",
      "source": [
        "### Feature Selection"
      ],
      "metadata": {
        "id": "-nX6P-bK4-S9"
      }
    },
    {
      "cell_type": "code",
      "execution_count": null,
      "metadata": {
        "id": "BLX_DuHBQfup",
        "colab": {
          "base_uri": "https://localhost:8080/"
        },
        "outputId": "0f432f0c-c919-42a4-8fb4-3a44a0b7aacc"
      },
      "outputs": [
        {
          "output_type": "execute_result",
          "data": {
            "text/plain": [
              "SelectKBest(k=7, score_func=<function chi2 at 0x7f1658fee0d0>)"
            ]
          },
          "metadata": {},
          "execution_count": 253
        }
      ],
      "source": [
        "from sklearn.feature_selection import SelectKBest\n",
        "from sklearn.feature_selection import chi2\n",
        "\n",
        "chi2_selector = SelectKBest(chi2, k=7)\n",
        "chi2_selector.fit(x_sm, y_sm)"
      ]
    },
    {
      "cell_type": "code",
      "source": [
        "cols = chi2_selector.get_support(indices=True)\n",
        "x_f = x_sm.iloc[:,cols]"
      ],
      "metadata": {
        "id": "_bfY-ln9eYEY"
      },
      "execution_count": null,
      "outputs": []
    },
    {
      "cell_type": "code",
      "execution_count": null,
      "metadata": {
        "colab": {
          "base_uri": "https://localhost:8080/",
          "height": 206
        },
        "id": "G-w3c1D8Qxlr",
        "outputId": "030d5e9a-d368-4519-db04-ee04ea056a5b"
      },
      "outputs": [
        {
          "output_type": "execute_result",
          "data": {
            "text/plain": [
              "    JK  KepemilikanMobil  KepemilikanProperti  FlagWorkPhone  FlagPhone  \\\n",
              "0  0.0               1.0                  1.0            0.0        0.0   \n",
              "1  0.0               1.0                  1.0            1.0        1.0   \n",
              "2  0.0               1.0                  1.0            0.0        0.0   \n",
              "3  0.0               1.0                  1.0            0.0        1.0   \n",
              "4  0.0               1.0                  1.0            0.0        1.0   \n",
              "\n",
              "   Email  Experience  \n",
              "0    0.0    0.157895  \n",
              "1    1.0    0.105263  \n",
              "2    0.0    0.157895  \n",
              "3    0.0    0.631579  \n",
              "4    0.0    0.789474  "
            ],
            "text/html": [
              "\n",
              "  <div id=\"df-45563aef-e0af-4a75-b854-b0a0d1c439f3\">\n",
              "    <div class=\"colab-df-container\">\n",
              "      <div>\n",
              "<style scoped>\n",
              "    .dataframe tbody tr th:only-of-type {\n",
              "        vertical-align: middle;\n",
              "    }\n",
              "\n",
              "    .dataframe tbody tr th {\n",
              "        vertical-align: top;\n",
              "    }\n",
              "\n",
              "    .dataframe thead th {\n",
              "        text-align: right;\n",
              "    }\n",
              "</style>\n",
              "<table border=\"1\" class=\"dataframe\">\n",
              "  <thead>\n",
              "    <tr style=\"text-align: right;\">\n",
              "      <th></th>\n",
              "      <th>JK</th>\n",
              "      <th>KepemilikanMobil</th>\n",
              "      <th>KepemilikanProperti</th>\n",
              "      <th>FlagWorkPhone</th>\n",
              "      <th>FlagPhone</th>\n",
              "      <th>Email</th>\n",
              "      <th>Experience</th>\n",
              "    </tr>\n",
              "  </thead>\n",
              "  <tbody>\n",
              "    <tr>\n",
              "      <th>0</th>\n",
              "      <td>0.0</td>\n",
              "      <td>1.0</td>\n",
              "      <td>1.0</td>\n",
              "      <td>0.0</td>\n",
              "      <td>0.0</td>\n",
              "      <td>0.0</td>\n",
              "      <td>0.157895</td>\n",
              "    </tr>\n",
              "    <tr>\n",
              "      <th>1</th>\n",
              "      <td>0.0</td>\n",
              "      <td>1.0</td>\n",
              "      <td>1.0</td>\n",
              "      <td>1.0</td>\n",
              "      <td>1.0</td>\n",
              "      <td>1.0</td>\n",
              "      <td>0.105263</td>\n",
              "    </tr>\n",
              "    <tr>\n",
              "      <th>2</th>\n",
              "      <td>0.0</td>\n",
              "      <td>1.0</td>\n",
              "      <td>1.0</td>\n",
              "      <td>0.0</td>\n",
              "      <td>0.0</td>\n",
              "      <td>0.0</td>\n",
              "      <td>0.157895</td>\n",
              "    </tr>\n",
              "    <tr>\n",
              "      <th>3</th>\n",
              "      <td>0.0</td>\n",
              "      <td>1.0</td>\n",
              "      <td>1.0</td>\n",
              "      <td>0.0</td>\n",
              "      <td>1.0</td>\n",
              "      <td>0.0</td>\n",
              "      <td>0.631579</td>\n",
              "    </tr>\n",
              "    <tr>\n",
              "      <th>4</th>\n",
              "      <td>0.0</td>\n",
              "      <td>1.0</td>\n",
              "      <td>1.0</td>\n",
              "      <td>0.0</td>\n",
              "      <td>1.0</td>\n",
              "      <td>0.0</td>\n",
              "      <td>0.789474</td>\n",
              "    </tr>\n",
              "  </tbody>\n",
              "</table>\n",
              "</div>\n",
              "      <button class=\"colab-df-convert\" onclick=\"convertToInteractive('df-45563aef-e0af-4a75-b854-b0a0d1c439f3')\"\n",
              "              title=\"Convert this dataframe to an interactive table.\"\n",
              "              style=\"display:none;\">\n",
              "        \n",
              "  <svg xmlns=\"http://www.w3.org/2000/svg\" height=\"24px\"viewBox=\"0 0 24 24\"\n",
              "       width=\"24px\">\n",
              "    <path d=\"M0 0h24v24H0V0z\" fill=\"none\"/>\n",
              "    <path d=\"M18.56 5.44l.94 2.06.94-2.06 2.06-.94-2.06-.94-.94-2.06-.94 2.06-2.06.94zm-11 1L8.5 8.5l.94-2.06 2.06-.94-2.06-.94L8.5 2.5l-.94 2.06-2.06.94zm10 10l.94 2.06.94-2.06 2.06-.94-2.06-.94-.94-2.06-.94 2.06-2.06.94z\"/><path d=\"M17.41 7.96l-1.37-1.37c-.4-.4-.92-.59-1.43-.59-.52 0-1.04.2-1.43.59L10.3 9.45l-7.72 7.72c-.78.78-.78 2.05 0 2.83L4 21.41c.39.39.9.59 1.41.59.51 0 1.02-.2 1.41-.59l7.78-7.78 2.81-2.81c.8-.78.8-2.07 0-2.86zM5.41 20L4 18.59l7.72-7.72 1.47 1.35L5.41 20z\"/>\n",
              "  </svg>\n",
              "      </button>\n",
              "      \n",
              "  <style>\n",
              "    .colab-df-container {\n",
              "      display:flex;\n",
              "      flex-wrap:wrap;\n",
              "      gap: 12px;\n",
              "    }\n",
              "\n",
              "    .colab-df-convert {\n",
              "      background-color: #E8F0FE;\n",
              "      border: none;\n",
              "      border-radius: 50%;\n",
              "      cursor: pointer;\n",
              "      display: none;\n",
              "      fill: #1967D2;\n",
              "      height: 32px;\n",
              "      padding: 0 0 0 0;\n",
              "      width: 32px;\n",
              "    }\n",
              "\n",
              "    .colab-df-convert:hover {\n",
              "      background-color: #E2EBFA;\n",
              "      box-shadow: 0px 1px 2px rgba(60, 64, 67, 0.3), 0px 1px 3px 1px rgba(60, 64, 67, 0.15);\n",
              "      fill: #174EA6;\n",
              "    }\n",
              "\n",
              "    [theme=dark] .colab-df-convert {\n",
              "      background-color: #3B4455;\n",
              "      fill: #D2E3FC;\n",
              "    }\n",
              "\n",
              "    [theme=dark] .colab-df-convert:hover {\n",
              "      background-color: #434B5C;\n",
              "      box-shadow: 0px 1px 3px 1px rgba(0, 0, 0, 0.15);\n",
              "      filter: drop-shadow(0px 1px 2px rgba(0, 0, 0, 0.3));\n",
              "      fill: #FFFFFF;\n",
              "    }\n",
              "  </style>\n",
              "\n",
              "      <script>\n",
              "        const buttonEl =\n",
              "          document.querySelector('#df-45563aef-e0af-4a75-b854-b0a0d1c439f3 button.colab-df-convert');\n",
              "        buttonEl.style.display =\n",
              "          google.colab.kernel.accessAllowed ? 'block' : 'none';\n",
              "\n",
              "        async function convertToInteractive(key) {\n",
              "          const element = document.querySelector('#df-45563aef-e0af-4a75-b854-b0a0d1c439f3');\n",
              "          const dataTable =\n",
              "            await google.colab.kernel.invokeFunction('convertToInteractive',\n",
              "                                                     [key], {});\n",
              "          if (!dataTable) return;\n",
              "\n",
              "          const docLinkHtml = 'Like what you see? Visit the ' +\n",
              "            '<a target=\"_blank\" href=https://colab.research.google.com/notebooks/data_table.ipynb>data table notebook</a>'\n",
              "            + ' to learn more about interactive tables.';\n",
              "          element.innerHTML = '';\n",
              "          dataTable['output_type'] = 'display_data';\n",
              "          await google.colab.output.renderOutput(dataTable, element);\n",
              "          const docLink = document.createElement('div');\n",
              "          docLink.innerHTML = docLinkHtml;\n",
              "          element.appendChild(docLink);\n",
              "        }\n",
              "      </script>\n",
              "    </div>\n",
              "  </div>\n",
              "  "
            ]
          },
          "metadata": {},
          "execution_count": 255
        }
      ],
      "source": [
        "x_f.head()"
      ]
    },
    {
      "cell_type": "markdown",
      "metadata": {
        "id": "Yud_rA5q6QcE"
      },
      "source": [
        "## Model"
      ]
    },
    {
      "cell_type": "markdown",
      "source": [
        "### Cross Validation (K-Fold)"
      ],
      "metadata": {
        "id": "vzLqQ1eL586S"
      }
    },
    {
      "cell_type": "code",
      "execution_count": null,
      "metadata": {
        "id": "eFvn6ATD6SAo"
      },
      "outputs": [],
      "source": [
        "from sklearn.metrics import f1_score\n",
        "%matplotlib inline"
      ]
    },
    {
      "cell_type": "code",
      "execution_count": null,
      "metadata": {
        "id": "TindJOIt6gKM"
      },
      "outputs": [],
      "source": [
        "from sklearn.model_selection import cross_validate\n",
        "def cross_validation(model, _X, _y, _cv=10):\n",
        "  _scoring = ['accuracy', 'precision', 'recall', 'f1']\n",
        "  results = cross_validate(estimator=model,\n",
        "                               X=_X,\n",
        "                               y=_y,\n",
        "                               cv=_cv,\n",
        "                               scoring=_scoring,\n",
        "                               return_train_score=True)\n",
        "  return {\"Training Accuracy scores\": results['train_accuracy'],\n",
        "              \"Mean Training Accuracy\": results['train_accuracy'].mean()*100,\n",
        "              \"Training Precision scores\": results['train_precision'],\n",
        "              \"Mean Training Precision\": results['train_precision'].mean(),\n",
        "              \"Training Recall scores\": results['train_recall'],\n",
        "              \"Mean Training Recall\": results['train_recall'].mean(),\n",
        "              \"Training F1 scores\": results['train_f1'],\n",
        "              \"Mean Training F1 Score\": results['train_f1'].mean(),\n",
        "              \"Validation Accuracy scores\": results['test_accuracy'],\n",
        "              \"Mean Validation Accuracy\": results['test_accuracy'].mean()*100,\n",
        "              \"Validation Precision scores\": results['test_precision'],\n",
        "              \"Mean Validation Precision\": results['test_precision'].mean(),\n",
        "              \"Validation Recall scores\": results['test_recall'],\n",
        "              \"Mean Validation Recall\": results['test_recall'].mean(),\n",
        "              \"Validation F1 scores\": results['test_f1'],\n",
        "              \"Mean Validation F1 Score\": results['test_f1'].mean()\n",
        "              }"
      ]
    },
    {
      "cell_type": "code",
      "execution_count": null,
      "metadata": {
        "id": "FS-wXq-W7oqY"
      },
      "outputs": [],
      "source": [
        "def plot_result(x_label, y_label, plot_title, train_data, val_data):\n",
        "  plt.figure(figsize=(16,8))\n",
        "  labels = [\"1st\", \"2nd\", \"3rd\", \"4th\", \"5th\", \"6th\", \"7th\", \"8th\", \"9th\", \"10th\"]\n",
        "  X_axis = np.arange(len(labels))\n",
        "  ax = plt.gca()\n",
        "  plt.ylim(0.40000, 1)\n",
        "  plt.bar(X_axis-0.2, train_data, 0.4, color='blue', label='Training')\n",
        "  plt.bar(X_axis+0.2, val_data, 0.4, color='red', label='Validation')\n",
        "  plt.title(plot_title, fontsize=30)\n",
        "  plt.xticks(X_axis, labels)\n",
        "  plt.xlabel(x_label, fontsize=14)\n",
        "  plt.ylabel(y_label, fontsize=14)\n",
        "  plt.legend()\n",
        "  plt.grid(True)\n",
        "  plt.show()"
      ]
    },
    {
      "cell_type": "markdown",
      "metadata": {
        "id": "ZL7aValS-Ec-"
      },
      "source": [
        "#### Decision Tree"
      ]
    },
    {
      "cell_type": "code",
      "execution_count": null,
      "metadata": {
        "colab": {
          "base_uri": "https://localhost:8080/"
        },
        "id": "ACmDXjBq7-aL",
        "outputId": "75c12a83-dfb6-44e0-a33b-c7998ac942da"
      },
      "outputs": [
        {
          "output_type": "stream",
          "name": "stdout",
          "text": [
            "{'Training Accuracy scores': array([0.92587326, 0.93529464, 0.92987913, 0.90072876, 0.89984003,\n",
            "       0.89619623, 0.90206186, 0.89788482, 0.89815144, 0.90019552]), 'Mean Training Accuracy': 90.86105685024546, 'Training Precision scores': array([0.98482396, 0.98765186, 0.98457223, 0.98121665, 0.98097071,\n",
            "       0.97894284, 0.98066298, 0.97902846, 0.9813064 , 0.98078155]), 'Mean Training Precision': 0.9819957649748963, 'Training Recall scores': array([0.86509065, 0.8816    , 0.87344472, 0.81709918, 0.81549947,\n",
            "       0.80981159, 0.82029861, 0.81318877, 0.8117668 , 0.8163882 ]), 'Mean Training Recall': 0.8324187984358336, 'Training F1 scores': array([0.92108251, 0.93161751, 0.92568522, 0.89166909, 0.89061438,\n",
            "       0.88638132, 0.89334108, 0.88843577, 0.8885214 , 0.89106606]), 'Mean Training F1 Score': 0.9008414348656917, 'Validation Accuracy scores': array([0.5059952 , 0.36930456, 0.3912    , 0.7872    , 0.7768    ,\n",
            "       0.8184    , 0.7656    , 0.8208    , 0.7904    , 0.784     ]), 'Mean Validation Accuracy': 68.09699760191846, 'Validation Precision scores': array([0.52631579, 0.24126984, 0.26551724, 0.72465582, 0.71571072,\n",
            "       0.77335165, 0.70293399, 0.75937904, 0.74039735, 0.72439949]), 'Mean Validation Precision': 0.6173930936766487, 'Validation Recall scores': array([0.112     , 0.12140575, 0.1232    , 0.9264    , 0.9184    ,\n",
            "       0.9008    , 0.92      , 0.9392    , 0.8944    , 0.9168    ]), 'Mean Validation Recall': 0.6772605750798723, 'Validation F1 scores': array([0.18469657, 0.16153029, 0.16830601, 0.81320225, 0.80448493,\n",
            "       0.83222469, 0.7969508 , 0.8397711 , 0.81014493, 0.80932203]), 'Mean Validation F1 Score': 0.6220633594238619}\n"
          ]
        }
      ],
      "source": [
        "from sklearn.tree import DecisionTreeClassifier\n",
        "decision_tree_model = DecisionTreeClassifier(criterion=\"entropy\",\n",
        "                                     random_state=0)\n",
        "decision_tree_result = cross_validation(decision_tree_model, x_sm, y_sm, 10)\n",
        "print(decision_tree_result)"
      ]
    },
    {
      "cell_type": "code",
      "execution_count": null,
      "metadata": {
        "colab": {
          "base_uri": "https://localhost:8080/",
          "height": 532
        },
        "id": "cm9pgfVy8mOp",
        "outputId": "83306624-abb9-479d-bd0d-757569cdead2"
      },
      "outputs": [
        {
          "output_type": "display_data",
          "data": {
            "text/plain": [
              "<Figure size 1152x576 with 1 Axes>"
            ],
            "image/png": "[encoded data removed]"
          },
          "metadata": {
            "needs_background": "light"
          }
        }
      ],
      "source": [
        "model = \"Decision Tree\"\n",
        "plot_result(model,\n",
        "            \"Accuracy\",\n",
        "            \"Accuracy scores in 10 Folds\",\n",
        "            decision_tree_result[\"Training Accuracy scores\"],\n",
        "            decision_tree_result[\"Validation Accuracy scores\"])"
      ]
    },
    {
      "cell_type": "markdown",
      "metadata": {
        "id": "DLUp5aeeAkQa"
      },
      "source": [
        "#### Naive Bayes"
      ]
    },
    {
      "cell_type": "code",
      "execution_count": null,
      "metadata": {
        "colab": {
          "base_uri": "https://localhost:8080/"
        },
        "id": "_YfQCLxI6f78",
        "outputId": "40e0d8a9-a7b3-4971-b064-def39e5004e1"
      },
      "outputs": [
        {
          "output_type": "stream",
          "name": "stdout",
          "text": [
            "{'Training Accuracy scores': array([0.5558617 , 0.56572749, 0.57323143, 0.55412371, 0.55030217,\n",
            "       0.54870245, 0.54816921, 0.54639175, 0.5452364 , 0.5465695 ]), 'Mean Training Accuracy': 55.34315818449349, 'Training Precision scores': array([0.54710199, 0.55587479, 0.5657307 , 0.54676701, 0.54406727,\n",
            "       0.54074955, 0.54165386, 0.53937839, 0.53813877, 0.53944595]), 'Mean Training Precision': 0.5458908282713734, 'Training Recall scores': array([0.64930679, 0.65351111, 0.63028795, 0.6327764 , 0.62104515,\n",
            "       0.6462851 , 0.62637753, 0.63544259, 0.63828653, 0.63686456]), 'Mean Training Recall': 0.6370183702650393, 'Training F1 scores': array([0.5938389 , 0.60075176, 0.59626703, 0.58663591, 0.58001328,\n",
            "       0.58882591, 0.58094296, 0.58348294, 0.58394991, 0.58412129]), 'Mean Training F1 Score': 0.5878829892070974, 'Validation Accuracy scores': array([0.50119904, 0.35731415, 0.3032    , 0.5112    , 0.5344    ,\n",
            "       0.5488    , 0.5272    , 0.5656    , 0.5504    , 0.5568    ]), 'Mean Validation Accuracy': 49.56113189448441, 'Validation Precision scores': array([0.50067843, 0.38790932, 0.32428571, 0.50804598, 0.52855246,\n",
            "       0.53817272, 0.5218509 , 0.55283505, 0.53992395, 0.5448799 ]), 'Mean Validation Precision': 0.4947134414506337, 'Validation Recall scores': array([0.5904    , 0.49201278, 0.3632    , 0.7072    , 0.6368    ,\n",
            "       0.688     , 0.6496    , 0.6864    , 0.6816    , 0.6896    ]), 'Mean Validation Recall': 0.6184812779552716, 'Validation F1 scores': array([0.54185022, 0.43380282, 0.34264151, 0.59130435, 0.57764877,\n",
            "       0.60393258, 0.5787598 , 0.6124197 , 0.60254597, 0.60875706]), 'Mean Validation F1 Score': 0.5493662776694733}\n"
          ]
        }
      ],
      "source": [
        "from sklearn.naive_bayes import GaussianNB\n",
        "nbc = GaussianNB()\n",
        "nbc_result = cross_validation(nbc, x_sm, y_sm, 10)\n",
        "print(nbc_result)"
      ]
    },
    {
      "cell_type": "code",
      "execution_count": null,
      "metadata": {
        "colab": {
          "base_uri": "https://localhost:8080/"
        },
        "id": "q98bRGEi-t-U",
        "outputId": "0b4a816e-99b1-4c99-8dc5-ef841e6e6453"
      },
      "outputs": [
        {
          "output_type": "display_data",
          "data": {
            "text/plain": [
              "<Figure size 1152x576 with 1 Axes>"
            ],
            "image/png": "[encoded data removed]"
          },
          "metadata": {
            "needs_background": "light"
          }
        }
      ],
      "source": [
        "model = \"Naive Bayes\"\n",
        "plot_result(model,\n",
        "            \"Accuracy\",\n",
        "            \"Accuracy scores in 10 Folds\",\n",
        "            nbc_result[\"Training Accuracy scores\"],\n",
        "            nbc_result[\"Validation Accuracy scores\"])"
      ]
    },
    {
      "cell_type": "markdown",
      "metadata": {
        "id": "f6cBEBxLBV6S"
      },
      "source": [
        "#### Random Forest"
      ]
    },
    {
      "cell_type": "code",
      "execution_count": null,
      "metadata": {
        "colab": {
          "base_uri": "https://localhost:8080/"
        },
        "id": "XUQMslUPBYCz",
        "outputId": "04144b89-c628-4748-f947-7e439f40d0cc"
      },
      "outputs": [
        {
          "output_type": "stream",
          "name": "stdout",
          "text": [
            "{'Training Accuracy scores': array([0.92587326, 0.93529464, 0.92987913, 0.90072876, 0.89984003,\n",
            "       0.89619623, 0.90206186, 0.89788482, 0.89815144, 0.90019552]), 'Mean Training Accuracy': 90.86105685024546, 'Training Precision scores': array([0.93866715, 0.94672505, 0.94270547, 0.91897417, 0.9207032 ,\n",
            "       0.91477484, 0.92107223, 0.91247466, 0.91869159, 0.91717621]), 'Mean Training Precision': 0.9251964574368484, 'Training Recall scores': array([0.91130466, 0.92248889, 0.91539282, 0.87895485, 0.87504444,\n",
            "       0.87380021, 0.87948809, 0.88019908, 0.87362247, 0.87984358]), 'Mean Training Recall': 0.8890139084409686, 'Training F1 scores': array([0.92478355, 0.93444985, 0.92884841, 0.89851912, 0.89729336,\n",
            "       0.89381818, 0.89979996, 0.89604632, 0.89559038, 0.89812211]), 'Mean Training F1 Score': 0.9067271240700816, 'Validation Accuracy scores': array([0.5243805 , 0.40927258, 0.464     , 0.8248    , 0.8256    ,\n",
            "       0.8688    , 0.8032    , 0.836     , 0.844     , 0.8248    ]), 'Mean Validation Accuracy': 72.24853077537969, 'Validation Precision scores': array([0.61538462, 0.30584192, 0.41697417, 0.76295337, 0.75662043,\n",
            "       0.81275441, 0.74140127, 0.77704485, 0.78975741, 0.76363636]), 'Mean Validation Precision': 0.6742368820723399, 'Validation Recall scores': array([0.128     , 0.14217252, 0.1808    , 0.9424    , 0.96      ,\n",
            "       0.9584    , 0.9312    , 0.9424    , 0.9376    , 0.9408    ]), 'Mean Validation Recall': 0.7063772523961662, 'Validation F1 scores': array([0.21192053, 0.19411123, 0.25223214, 0.8432355 , 0.84626234,\n",
            "       0.87958884, 0.82553191, 0.85177151, 0.85735187, 0.84301075]), 'Mean Validation F1 Score': 0.6605016635045533}\n"
          ]
        }
      ],
      "source": [
        "from sklearn.ensemble import RandomForestClassifier\n",
        "rfc = RandomForestClassifier(random_state=0)\n",
        "rfc_result = cross_validation(rfc, x_sm, y_sm, 10)\n",
        "print(rfc_result)"
      ]
    },
    {
      "cell_type": "code",
      "execution_count": null,
      "metadata": {
        "colab": {
          "base_uri": "https://localhost:8080/"
        },
        "id": "sDsMfLUoC8Eb",
        "outputId": "a490ee55-2690-4e35-c32d-155bd3b88cca"
      },
      "outputs": [
        {
          "output_type": "display_data",
          "data": {
            "text/plain": [
              "<Figure size 1152x576 with 1 Axes>"
            ],
            "image/png": "[encoded data removed]"
          },
          "metadata": {
            "needs_background": "light"
          }
        }
      ],
      "source": [
        "model = \"Random Forest Classifier\"\n",
        "plot_result(model,\n",
        "            \"Accuracy\",\n",
        "            \"Accuracy scores in 10 Folds\",\n",
        "            rfc_result[\"Training Accuracy scores\"],\n",
        "            rfc_result[\"Validation Accuracy scores\"])"
      ]
    },
    {
      "cell_type": "code",
      "execution_count": null,
      "metadata": {
        "id": "laSg1tDOa-XL"
      },
      "outputs": [],
      "source": [
        "from sklearn import svm"
      ]
    },
    {
      "cell_type": "code",
      "execution_count": null,
      "metadata": {
        "colab": {
          "base_uri": "https://localhost:8080/"
        },
        "id": "54gknVWkaxcx",
        "outputId": "2952dcaf-49a2-4403-c80f-91a898bac612"
      },
      "outputs": [
        {
          "output_type": "execute_result",
          "data": {
            "text/plain": [
              "array([0.7703202 , 0.77017868, 0.77017868, 0.77017868, 0.77017868])"
            ]
          },
          "metadata": {},
          "execution_count": 358
        }
      ],
      "source": [
        "from sklearn.model_selection import cross_val_score\n",
        "clf = svm.SVC(kernel='linear', C=1, random_state=42)\n",
        "scores = cross_val_score(clf, x, y, cv=5)\n",
        "scores"
      ]
    },
    {
      "cell_type": "markdown",
      "source": [
        "### Train-Test Split"
      ],
      "metadata": {
        "id": "U5aZRGgB6Dpi"
      }
    },
    {
      "cell_type": "markdown",
      "source": [
        "#### Decision Tree"
      ],
      "metadata": {
        "id": "SlQbEOnX-osS"
      }
    },
    {
      "cell_type": "code",
      "source": [
        "# 0.7 Train & 0.3 Test\n",
        "from sklearn.model_selection import train_test_split\n",
        "\n",
        "x_train, x_test, y_train, y_test = train_test_split(x_f,y_sm,\n",
        "                                                    test_size=0.3,\n",
        "                                                    random_state=1)"
      ],
      "metadata": {
        "id": "SViNCHxU6Lgp"
      },
      "execution_count": null,
      "outputs": []
    },
    {
      "cell_type": "code",
      "source": [
        "from sklearn.tree import DecisionTreeClassifier\n",
        "decision_tree_model = DecisionTreeClassifier(criterion=\"entropy\",\n",
        "                                     random_state=0)\n",
        "model = decision_tree_model.fit(x_train, y_train)\n",
        " \n",
        "training_prediction = model.predict(x_train)\n",
        "test_prediction = model.predict(x_test)\n",
        "print(training_prediction)"
      ],
      "metadata": {
        "colab": {
          "base_uri": "https://localhost:8080/"
        },
        "id": "DuywW2fJ6f7h",
        "outputId": "07bf7ffa-b647-40ea-9754-9b1c33c19370"
      },
      "execution_count": null,
      "outputs": [
        {
          "output_type": "stream",
          "name": "stdout",
          "text": [
            "[0. 0. 0. ... 0. 0. 0.]\n"
          ]
        }
      ]
    },
    {
      "cell_type": "code",
      "source": [
        "#Performance in Data Training\n",
        "from sklearn import metrics\n",
        "print(\"Precision, Recall, Confusion matrix, in training\\n\")\n",
        "print(metrics.classification_report(y_train, training_prediction, digits=2))\n",
        "print(metrics.confusion_matrix(y_train, training_prediction))"
      ],
      "metadata": {
        "colab": {
          "base_uri": "https://localhost:8080/"
        },
        "id": "9LzTWQ108fqm",
        "outputId": "a70342f1-acd5-485f-bb26-60e23001af40"
      },
      "execution_count": null,
      "outputs": [
        {
          "output_type": "stream",
          "name": "stdout",
          "text": [
            "Precision, Recall, Confusion matrix, in training\n",
            "\n",
            "              precision    recall  f1-score   support\n",
            "\n",
            "         0.0       0.73      0.96      0.83      4311\n",
            "         1.0       0.95      0.66      0.77      4440\n",
            "\n",
            "    accuracy                           0.81      8751\n",
            "   macro avg       0.84      0.81      0.80      8751\n",
            "weighted avg       0.84      0.81      0.80      8751\n",
            "\n",
            "[[4142  169]\n",
            " [1527 2913]]\n"
          ]
        }
      ]
    },
    {
      "cell_type": "code",
      "source": [
        "#Performance in Data Testing\n",
        "from sklearn import metrics\n",
        "print(\"Precision, Recall, Confusion matrix, in training\\n\")\n",
        "print(metrics.classification_report(y_test, test_prediction, digits=2))\n",
        "print(metrics.confusion_matrix(y_test, test_prediction))"
      ],
      "metadata": {
        "colab": {
          "base_uri": "https://localhost:8080/"
        },
        "id": "FGy7HJtV88T5",
        "outputId": "9b8b2cbd-d9a4-4e59-9f55-735c316e6f51"
      },
      "execution_count": null,
      "outputs": [
        {
          "output_type": "stream",
          "name": "stdout",
          "text": [
            "Precision, Recall, Confusion matrix, in training\n",
            "\n",
            "              precision    recall  f1-score   support\n",
            "\n",
            "         0.0       0.73      0.93      0.82      1940\n",
            "         1.0       0.89      0.63      0.74      1811\n",
            "\n",
            "    accuracy                           0.78      3751\n",
            "   macro avg       0.81      0.78      0.78      3751\n",
            "weighted avg       0.81      0.78      0.78      3751\n",
            "\n",
            "[[1796  144]\n",
            " [ 664 1147]]\n"
          ]
        }
      ]
    },
    {
      "cell_type": "code",
      "source": [
        "from sklearn.metrics import plot_confusion_matrix\n",
        "plt.rcParams.update({'font.size': 20})\n",
        "fig = plt.figure(figsize = (16, 9))\n",
        "color = 'white'\n",
        "cf = plot_confusion_matrix(decision_tree_model, x_test, y_test, cmap=plt.cm.Blues)\n",
        "plt.show()"
      ],
      "metadata": {
        "colab": {
          "base_uri": "https://localhost:8080/",
          "height": 792
        },
        "id": "DLRspo_dnnOy",
        "outputId": "cb460a1f-4e02-463c-bab7-27df9a384f69"
      },
      "execution_count": null,
      "outputs": [
        {
          "output_type": "stream",
          "name": "stderr",
          "text": [
            "/usr/local/lib/python3.8/dist-packages/sklearn/utils/deprecation.py:87: FutureWarning: Function plot_confusion_matrix is deprecated; Function `plot_confusion_matrix` is deprecated in 1.0 and will be removed in 1.2. Use one of the class methods: ConfusionMatrixDisplay.from_predictions or ConfusionMatrixDisplay.from_estimator.\n",
            "  warnings.warn(msg, category=FutureWarning)\n"
          ]
        },
        {
          "output_type": "display_data",
          "data": {
            "text/plain": [
              "<Figure size 1152x648 with 0 Axes>"
            ]
          },
          "metadata": {}
        },
        {
          "output_type": "display_data",
          "data": {
            "text/plain": [
              "<Figure size 1440x864 with 2 Axes>"
            ],
            "image/png": "[encoded data removed]"
          },
          "metadata": {}
        }
      ]
    },
    {
      "cell_type": "markdown",
      "source": [
        "#### Random Forest Classifier"
      ],
      "metadata": {
        "id": "NQfK5p7wAKqu"
      }
    },
    {
      "cell_type": "code",
      "source": [
        "from sklearn.ensemble import RandomForestClassifier\n",
        "rfc = RandomForestClassifier(random_state=0)\n",
        "rfc.fit(x_train, y_train)\n",
        "\n",
        "training_prediction = rfc.predict(x_train)\n",
        "test_prediction = rfc.predict(x_test)\n",
        "print(training_prediction)"
      ],
      "metadata": {
        "colab": {
          "base_uri": "https://localhost:8080/"
        },
        "id": "_3ZhE65bANp4",
        "outputId": "86c7aaa4-a6a9-45b0-f770-602936493cfa"
      },
      "execution_count": null,
      "outputs": [
        {
          "output_type": "stream",
          "name": "stdout",
          "text": [
            "[0. 0. 0. ... 0. 1. 0.]\n"
          ]
        }
      ]
    },
    {
      "cell_type": "code",
      "source": [
        "#Performance in Data Training\n",
        "from sklearn import metrics\n",
        "print(\"Precision, Recall, Confusion matrix, in training\\n\")\n",
        "print(metrics.classification_report(y_train, training_prediction, digits=2))\n",
        "print(metrics.confusion_matrix(y_train, training_prediction))"
      ],
      "metadata": {
        "colab": {
          "base_uri": "https://localhost:8080/"
        },
        "id": "z5oJY63YAnV_",
        "outputId": "5f05a861-97bd-463a-8282-f1cfebee4ac2"
      },
      "execution_count": null,
      "outputs": [
        {
          "output_type": "stream",
          "name": "stdout",
          "text": [
            "Precision, Recall, Confusion matrix, in training\n",
            "\n",
            "              precision    recall  f1-score   support\n",
            "\n",
            "         0.0       0.74      0.95      0.83      4364\n",
            "         1.0       0.93      0.67      0.78      4387\n",
            "\n",
            "    accuracy                           0.81      8751\n",
            "   macro avg       0.84      0.81      0.81      8751\n",
            "weighted avg       0.84      0.81      0.81      8751\n",
            "\n",
            "[[4143  221]\n",
            " [1450 2937]]\n"
          ]
        }
      ]
    },
    {
      "cell_type": "code",
      "source": [
        "#Performance in Data Testing\n",
        "from sklearn import metrics\n",
        "print(\"Precision, Recall, Confusion matrix, in training\\n\")\n",
        "print(metrics.classification_report(y_test, test_prediction, digits=2))\n",
        "print(metrics.confusion_matrix(y_test, test_prediction))"
      ],
      "metadata": {
        "colab": {
          "base_uri": "https://localhost:8080/"
        },
        "id": "MQE8FPGMArkq",
        "outputId": "8576df53-517c-4b24-c329-cc9d5fbadea8"
      },
      "execution_count": null,
      "outputs": [
        {
          "output_type": "stream",
          "name": "stdout",
          "text": [
            "Precision, Recall, Confusion matrix, in training\n",
            "\n",
            "              precision    recall  f1-score   support\n",
            "\n",
            "         0.0       0.68      0.89      0.77      1887\n",
            "         1.0       0.84      0.57      0.68      1864\n",
            "\n",
            "    accuracy                           0.73      3751\n",
            "   macro avg       0.76      0.73      0.72      3751\n",
            "weighted avg       0.76      0.73      0.72      3751\n",
            "\n",
            "[[1682  205]\n",
            " [ 804 1060]]\n"
          ]
        }
      ]
    }
  ],
  "metadata": {
    "colab": {
      "provenance": [],
      "collapsed_sections": [
        "c7oTM5zKvNTN",
        "ipweeU3sE0-x",
        "i-Fi99eymNEY",
        "0DDSHYQzmTe9",
        "BT8ExU0r-2Iu",
        "eqz4fokoboMf",
        "h-1zgkQoA_od",
        "YB0rWJp6FwRt",
        "sDJzevkZ3An2",
        "vXSBSpZqFVzV",
        "vzLqQ1eL586S",
        "ZL7aValS-Ec-",
        "DLUp5aeeAkQa",
        "f6cBEBxLBV6S",
        "ENUTJ4rllARG",
        "EAjOwzZEhKV8"
      ],
      "authorship_tag": "ABX9TyOuMvDDT+fmYD8okabr5F0C",
      "include_colab_link": true
    },
    "kernelspec": {
      "display_name": "Python 3",
      "name": "python3"
    },
    "language_info": {
      "name": "python"
    }
  },
  "nbformat": 4,
  "nbformat_minor": 0
}